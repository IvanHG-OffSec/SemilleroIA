{
  "nbformat": 4,
  "nbformat_minor": 0,
  "metadata": {
    "colab": {
      "provenance": [],
      "authorship_tag": "ABX9TyNrznjgO1BOIl/0u4rICjZC",
      "include_colab_link": true
    },
    "kernelspec": {
      "name": "python3",
      "display_name": "Python 3"
    },
    "language_info": {
      "name": "python"
    }
  },
  "cells": [
    {
      "cell_type": "markdown",
      "metadata": {
        "id": "view-in-github",
        "colab_type": "text"
      },
      "source": [
        "<a href=\"https://colab.research.google.com/github/IvanHG-OffSec/SemilleroIA/blob/main/Caso_de_uso_rergesion_lineal_multiple.ipynb\" target=\"_parent\"><img src=\"https://colab.research.google.com/assets/colab-badge.svg\" alt=\"Open In Colab\"/></a>"
      ]
    },
    {
      "cell_type": "markdown",
      "source": [
        "**Caso de uso para el precio de una guitarra.**\n",
        "\n",
        "Variable dependiente (Y):\n",
        "\n",
        "*Precio de la guitarra*.\n",
        "\n",
        "Variables independientes (X):\n",
        "\n",
        "*   Marca.\n",
        "*   Tipo de guitarra.\n",
        "*   Año de frabicacion.\n",
        "*   Material o tipo de madera.\n",
        "*   Pastillas.\n",
        "*   Numero de trastes.\n",
        "*   Modelo/edicion especial.\n",
        "\n",
        "\n",
        "\n",
        "\n",
        "\n"
      ],
      "metadata": {
        "id": "zN965NRABDM7"
      }
    }
  ]
}