{
  "nbformat": 4,
  "nbformat_minor": 0,
  "metadata": {
    "colab": {
      "provenance": [],
      "authorship_tag": "ABX9TyNVKYrwhLTSChWZDlmp3L7E",
      "include_colab_link": true
    },
    "kernelspec": {
      "name": "python3",
      "display_name": "Python 3"
    },
    "language_info": {
      "name": "python"
    }
  },
  "cells": [
    {
      "cell_type": "markdown",
      "metadata": {
        "id": "view-in-github",
        "colab_type": "text"
      },
      "source": [
        "<a href=\"https://colab.research.google.com/github/IvanHG-OffSec/SemilleroIA/blob/main/Ejercicio_Final.ipynb\" target=\"_parent\"><img src=\"https://colab.research.google.com/assets/colab-badge.svg\" alt=\"Open In Colab\"/></a>"
      ]
    },
    {
      "cell_type": "markdown",
      "source": [
        "HERRERA GOMEZ IGNACIO IVAN\n",
        "EJRECICIO FINAL"
      ],
      "metadata": {
        "id": "hagFWRmeHQ7R"
      }
    },
    {
      "cell_type": "code",
      "source": [
        "# LIBRERIAS\n",
        "import pandas as pd\n",
        "from sklearn.model_selection import train_test_split\n",
        "from sklearn.pipeline import Pipeline\n",
        "from sklearn.impute import SimpleImputer\n",
        "from sklearn.compose import ColumnTransformer\n",
        "from sklearn.pipeline import Pipeline\n",
        "from sklearn.preprocessing import MinMaxScaler\n",
        "from sklearn.linear_model import LogisticRegression\n",
        "from sklearn.model_selection import cross_val_score\n",
        "from sklearn.pipeline import Pipeline"
      ],
      "metadata": {
        "id": "7zgdlp1yMHGZ"
      },
      "execution_count": 13,
      "outputs": []
    },
    {
      "cell_type": "code",
      "source": [
        "\n",
        "\n",
        "# CARGA DE DATPS\n",
        "url = \"https://archive.ics.uci.edu/ml/machine-learning-databases/statlog/german/german.data\"\n",
        "data = pd.read_csv(url, sep=\" \", header=None)\n",
        "\n",
        "# COLUMNAS A ESPAÑOL\n",
        "data.columns = [\n",
        "    'cuenta_corriente', 'duracion_credito_meses', 'historial_credito', 'proposito',\n",
        "    'monto_credito', 'cuenta_ahorro', 'antiguedad_empleo', 'tasa_cuota',\n",
        "    'estado_civil_sexo', 'garantes', 'tiempo_residencia', 'propiedades',\n",
        "    'edad', 'otros_creditos', 'vivienda', 'creditos_existentes',\n",
        "    'profesion', 'personas_a_cargo', 'telefono', 'extranjero', 'confiable'\n",
        "]\n",
        "\n",
        "# VARIABLES DE OBJETIVO BINARIO\n",
        "data['confiable'] = data['confiable'].map({1: 1, 2: 0})\n",
        "\n",
        "# VARIABLES DE ENTRADA Y SALIDA\n",
        "X = data.drop(columns='confiable')\n",
        "Y = data['confiable']\n",
        "\n",
        "# PARTICION 85% ENTRENAMIENTO Y 15% PRUEBAS\n",
        "X_train, X_test, y_train, y_test = train_test_split(X, Y, test_size=0.15, random_state=1, stratify=Y)\n",
        "\n",
        "# MOSTRAR LOS RESULTADOS\n",
        "print(X_train.shape, ': dimensión de datos de entrada de entrenamiento')\n",
        "print(X_test.shape, ': dimensión de datos de entrada de prueba')\n",
        "print(y_train.shape, ': dimensión de variable de salida de entrenamiento')\n",
        "print(y_test.shape, ': dimensión de variable de salida de prueba')\n"
      ],
      "metadata": {
        "colab": {
          "base_uri": "https://localhost:8080/"
        },
        "id": "3f3PB7qxLHwQ",
        "outputId": "fce1c711-7397-46c4-d685-2dd88bf6cdec"
      },
      "execution_count": 8,
      "outputs": [
        {
          "output_type": "stream",
          "name": "stdout",
          "text": [
            "(850, 20) : dimensión de datos de entrada de entrenamiento\n",
            "(150, 20) : dimensión de datos de entrada de prueba\n",
            "(850,) : dimensión de variable de salida de entrenamiento\n",
            "(150,) : dimensión de variable de salida de prueba\n"
          ]
        }
      ]
    },
    {
      "cell_type": "code",
      "source": [
        "\n",
        "vars_numericas = ['duracion_credito_meses', 'monto_credito', 'edad']\n",
        "vars_ordinales = ['tasa_cuota', 'tiempo_residencia', 'creditos_existentes', 'personas_a_cargo']\n",
        "vars_categoricas = ['cuenta_corriente', 'historial_credito', 'proposito', 'cuenta_ahorro','antiguedad_empleo', 'estado_civil_sexo', 'garantes', 'propiedades',\n",
        "'profesion', 'vivienda']\n",
        "vars_binarias = ['telefono', 'extranjero']\n",
        "\n",
        "imputador_numerico = Pipeline(steps=[('imputacion', SimpleImputer(strategy='mean'))])\n",
        "\n",
        "imputador_ordinal = Pipeline(steps=[('imputacion', SimpleImputer(strategy='median'))])\n",
        "\n",
        "imputador_categorico = Pipeline(steps=[('imputacion', SimpleImputer(strategy='most_frequent'))])\n",
        "\n",
        "imputador_binario = Pipeline(steps=[('imputacion', SimpleImputer(strategy='most_frequent'))])\n",
        "\n",
        "preprocesamiento = ColumnTransformer(transformers=[\n",
        "    ('num', imputador_numerico, vars_numericas),\n",
        "    ('ord', imputador_ordinal, vars_ordinales),\n",
        "    ('cat', imputador_categorico, vars_categoricas),\n",
        "    ('bin', imputador_binario, vars_binarias)\n",
        "])\n",
        "\n",
        "# PARA LOS DATOS DE ENTRENAMIENTO\n",
        "X_train_imputado = preprocesamiento.fit_transform(X_train)\n",
        "\n",
        "print(\"Forma de los datos imputados:\", X_train_imputado.shape)\n"
      ],
      "metadata": {
        "colab": {
          "base_uri": "https://localhost:8080/"
        },
        "id": "6I3e-4hANEOi",
        "outputId": "15ede1b0-f2a3-4200-ad6c-e9b67fcf006a"
      },
      "execution_count": 9,
      "outputs": [
        {
          "output_type": "stream",
          "name": "stdout",
          "text": [
            "Forma de los datos imputados: (850, 19)\n"
          ]
        }
      ]
    },
    {
      "cell_type": "code",
      "source": [
        "\n",
        "# VARIABLES NUMERICAS\n",
        "imputador_y_escalador_numerico = Pipeline(steps=[\n",
        "    ('imputacion', SimpleImputer(strategy='mean')),\n",
        "    ('escalado', MinMaxScaler())\n",
        "])\n",
        "\n",
        "preprocesamiento = ColumnTransformer(transformers=[\n",
        "    ('num', imputador_y_escalador_numerico, vars_numericas),\n",
        "    ('ord', imputador_ordinal, vars_ordinales),\n",
        "    ('cat', imputador_categorico, vars_categoricas),\n",
        "    ('bin', imputador_binario, vars_binarias)\n",
        "])\n",
        "\n",
        "# DATOS PROS.\n",
        "X_train_preproc = preprocesamiento.fit_transform(X_train)\n",
        "print(\"Forma de datos tras imputación y escalado:\", X_train_preproc.shape)\n"
      ],
      "metadata": {
        "colab": {
          "base_uri": "https://localhost:8080/"
        },
        "id": "W8u4fSe5Nt6x",
        "outputId": "bf1c3b12-0615-43b1-b725-cc6dc91e4d37"
      },
      "execution_count": 11,
      "outputs": [
        {
          "output_type": "stream",
          "name": "stdout",
          "text": [
            "Forma de datos tras imputación y escalado: (850, 19)\n"
          ]
        }
      ]
    },
    {
      "cell_type": "code",
      "source": [
        "from sklearn.preprocessing import OneHotEncoder\n",
        "\n",
        "# TRANSF. ONE-HOT\n",
        "pipeline_cat_bin = Pipeline(steps=[\n",
        "    ('imputacion', SimpleImputer(strategy='most_frequent')),\n",
        "    ('onehot', OneHotEncoder(handle_unknown='ignore'))\n",
        "])\n",
        "\n",
        "pipeline_num = Pipeline(steps=[\n",
        "    ('imputacion', SimpleImputer(strategy='mean')),\n",
        "    ('escalado', MinMaxScaler())\n",
        "])\n",
        "\n",
        "pipeline_ord = Pipeline(steps=[\n",
        "    ('imputacion', SimpleImputer(strategy='median'))\n",
        "])\n",
        "\n",
        "# TRASN. FINA;\n",
        "preprocesamiento_final = ColumnTransformer(transformers=[\n",
        "    ('num', pipeline_num, vars_numericas),\n",
        "    ('ord', pipeline_ord, vars_ordinales),\n",
        "    ('cat_bin', pipeline_cat_bin, vars_categoricas + vars_binarias)\n",
        "])\n",
        "\n",
        "# SE APICA AL ENTRENAMIENTO\n",
        "X_train_preproc = preprocesamiento_final.fit_transform(X_train)\n",
        "\n",
        "print(\"Dimensiones de X_train después de preprocesamiento:\", X_train_preproc.shape)\n"
      ],
      "metadata": {
        "colab": {
          "base_uri": "https://localhost:8080/"
        },
        "id": "588v_dj9OAMT",
        "outputId": "a01e86b5-5927-4c0d-a7f2-4b694712171a"
      },
      "execution_count": 12,
      "outputs": [
        {
          "output_type": "stream",
          "name": "stdout",
          "text": [
            "Dimensiones de X_train después de preprocesamiento: (850, 58)\n"
          ]
        }
      ]
    }
  ]
}