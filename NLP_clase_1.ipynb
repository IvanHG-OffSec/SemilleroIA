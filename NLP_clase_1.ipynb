{
  "nbformat": 4,
  "nbformat_minor": 0,
  "metadata": {
    "colab": {
      "provenance": [],
      "authorship_tag": "ABX9TyMrADHIkpS5z65HoTGo1Ovm",
      "include_colab_link": true
    },
    "kernelspec": {
      "name": "python3",
      "display_name": "Python 3"
    },
    "language_info": {
      "name": "python"
    }
  },
  "cells": [
    {
      "cell_type": "markdown",
      "metadata": {
        "id": "view-in-github",
        "colab_type": "text"
      },
      "source": [
        "<a href=\"https://colab.research.google.com/github/IvanHG-OffSec/SemilleroIA/blob/main/NLP_clase_1.ipynb\" target=\"_parent\"><img src=\"https://colab.research.google.com/assets/colab-badge.svg\" alt=\"Open In Colab\"/></a>"
      ]
    },
    {
      "cell_type": "markdown",
      "source": [
        "¿Que es NLP?\n",
        "\n",
        "NLP (por sus siglas en inglés, Natural Language Processing o Procesamiento de Lenguaje Natural en español) es una rama de la inteligencia artificial (IA) que se enfoca en la interacción entre las computadoras y el lenguaje humano. Su objetivo es permitir que las máquinas comprendan, interpreten, generen y respondan al lenguaje humano de manera útil y significativa.\n",
        "\n",
        "¿Para que se usa NLP?\n",
        "\n",
        "* Traducción automática\n",
        "* Asistentes virtuales\n",
        "* Análisis de sentimientos\n",
        "* Chatbots\n",
        "* Clasificación de texto\n",
        "* Reconocimiento de voz y conversión de voz a texto\n",
        "* Extracción de información de documentos\n",
        "\n",
        "1.  **Tokenización**\n",
        "\n",
        "Es el proceso de dividir un texto en unidades más pequeñas llamadas tokens. Estos pueden ser palabras, frases, signos de puntuación o incluso caracteres individuales, dependiendo del nivel de análisis.\n",
        "\n",
        "Ejemplo:\n",
        "\n",
        "Texto: \"Los gatos duermen mucho.\"\n",
        "\n",
        "Tokens: [\"Los\", \"gatos\", \"duermen\", \"mucho\", \".\"]\n",
        "\n",
        "Usos: Es el primer paso para la mayoría de tareas de NLP, como análisis sintáctico o embeddings.\n",
        "\n",
        "\n",
        "2. **Lematización**\n",
        "\n",
        "Consiste en reducir una palabra a su forma base o \"lema\", considerando su contexto y categoría gramatical.\n",
        "\n",
        "Ejemplo:\n",
        "\n",
        "Palabra: \"corriendo\" → Lema: \"correr\"\n",
        "\n",
        "Palabra: \"mejores\" → Lema: \"bueno\"\n",
        "\n",
        "3. **Etiquetado Gramatical (POS Tagging)**\n",
        "\n",
        "Asignación de etiquetas a cada palabra del texto según su categoría gramatical: sustantivo, verbo, adjetivo, etc.\n",
        "\n",
        "Ejemplo:\n",
        "\n",
        "Texto: \"El perro corre\"\n",
        "\n",
        "Etiquetas: [(\"El\", DET), (\"perro\", NOUN), (\"corre\", VERB)]\n",
        "\n",
        "Usos: Importante para entender la estructura del lenguaje y tareas como análisis sintáctico y NER.\n",
        "\n",
        "4. **NER (Named Entity Recognition).**\n",
        "\n",
        "Se trata de identificar y clasificar entidades mencionadas en un texto en categorías como personas, lugares, fechas, organizaciones, etc.\n",
        "\n",
        "Ejemplo:\n",
        "\n",
        "Texto: \"Apple fue fundada en 1976 por Steve Jobs.\"\n",
        "\n",
        "Entidades: [\"Apple\" (Organización), \"1976\" (Fecha), \"Steve Jobs\" (Persona)]\n",
        "\n",
        "Usos: Muy útil en extracción de información, minería de texto y análisis de noticias.\n",
        "\n",
        "5. **Parsing (Análisis sintáctico)**\n",
        "\n",
        "Es el análisis de la estructura gramatical de una oración. Existen dos tipos principales:\n",
        "\n",
        "Parsing sintáctico (constituency): divide la oración en frases jerárquicas (sintagmas nominales, verbales, etc.).\n",
        "\n",
        "Parsing de dependencias: muestra cómo las palabras están relacionadas (qué palabra depende de cuál).\n",
        "\n",
        "Ejemplo:\n",
        "\n",
        "Oración: \"El gato duerme en el sofá.\"\n",
        "\n",
        "Dependencia: \"duerme\" es el verbo principal, \"gato\" es el sujeto, \"sofá\" es el objeto de la preposición \"en\".\n",
        "\n",
        "6. **Embeddings**\n",
        "\n",
        "Los word embeddings son representaciones numéricas y densas de palabras en un espacio vectorial, donde palabras con significado similar tienen vectores cercanos.\n",
        "\n",
        "Ejemplo:\n",
        "\n",
        "\"rey\" y \"reina\" tendrán vectores cercanos.\n",
        "\n",
        "\"parís\" - \"francia\" + \"italia\" ≈ \"roma\""
      ],
      "metadata": {
        "id": "4Fjc7zWoDAQX"
      }
    },
    {
      "cell_type": "markdown",
      "source": [],
      "metadata": {
        "id": "vJ8W9mSxE793"
      }
    }
  ]
}