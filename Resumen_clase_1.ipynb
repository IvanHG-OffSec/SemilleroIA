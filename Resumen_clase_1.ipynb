{
  "nbformat": 4,
  "nbformat_minor": 0,
  "metadata": {
    "colab": {
      "provenance": [],
      "authorship_tag": "ABX9TyPMmXKMbKlsCtm7kZ2liipv",
      "include_colab_link": true
    },
    "kernelspec": {
      "name": "python3",
      "display_name": "Python 3"
    },
    "language_info": {
      "name": "python"
    }
  },
  "cells": [
    {
      "cell_type": "markdown",
      "metadata": {
        "id": "view-in-github",
        "colab_type": "text"
      },
      "source": [
        "<a href=\"https://colab.research.google.com/github/IvanHG-OffSec/SemilleroIA/blob/main/Resumen_clase_1.ipynb\" target=\"_parent\"><img src=\"https://colab.research.google.com/assets/colab-badge.svg\" alt=\"Open In Colab\"/></a>"
      ]
    },
    {
      "cell_type": "markdown",
      "source": [
        "**1. Origen de la IA**\n",
        "La Inteligencia Artificial (IA) surgió formalmente en la década de 1950, con el Turing Test (1950) de Alan Turing y la conferencia de Dartmouth (1956), donde John McCarthy acuñó el término.\n",
        "\n",
        "**Key milestones:**\n",
        "\n",
        "*   1956: Conferencia de Dartmouth (McCarthy, Minsky, Shannon).\n",
        "*   1960s-70s: Sistemas expertos (ej: DENDRAL) y lógica simbólica.\n",
        "*   1980s: Resurgimiento con redes neuronales y algoritmos genéticos.\n",
        "*   1997: IBM Deep Blue vence al campeón de ajedrez Gary Kasparov.\n",
        "\n",
        "**Fuente:** *Russell & Norvig (2021), Artificial Intelligence: A Modern Approach.*"
      ],
      "metadata": {
        "id": "RW3FSQ_gsTsL"
      }
    },
    {
      "cell_type": "markdown",
      "source": [
        "**2. ¿Qué es la IA?**\n",
        "La IA es la simulación de procesos de inteligencia humana por máquinas, incluyendo:\n",
        "\n",
        "\n",
        "*   Razonamiento (sistemas basados en reglas).\n",
        "*   Aprendizaje (machine learning).\n",
        "*   Percepción (visión por computadora, NLP).\n",
        "\n",
        "Definición académica:\n",
        "\n",
        "> \"*La IA es el estudio de agentes inteligentes que perciben su entorno y toman acciones para maximizar sus posibilidades de éxito\" (Poole et al., 1998).*\n",
        "\n"
      ],
      "metadata": {
        "id": "MS8kE53Vt-uq"
      }
    },
    {
      "cell_type": "markdown",
      "source": [
        "**3. Subconjuntos de IA**\n",
        "\n",
        "\n",
        "*   Machine Learning (ML): Algoritmos que aprenden de datos.\n",
        "*   Deep Learning (DL): Redes neuronales profundas.\n",
        "*   Procesamiento de Lenguaje Natural (NLP): Comprensión del lenguaje humano.\n",
        "*   Robótica: Automatización física.\n",
        "*   Sistemas Expertos: Basados en reglas (ej: MYCIN para diagnósticos médicos).\n",
        "\n",
        "Fuente: *Goodfellow et al. (2016), Deep Learning.*"
      ],
      "metadata": {
        "id": "u_cLPuSCumGY"
      }
    },
    {
      "cell_type": "markdown",
      "source": [
        "**4. Machine Learning (ML)**\n",
        "Definición: Subcampo de IA que usa datos para entrenar modelos predictivos.\n",
        "\n",
        "Tipos:\n",
        "\n",
        "*   Supervisado (ej: regresión, clasificación).\n",
        "*   No supervisado (ej: clustering).\n",
        "*   Refuerzo (ej: AlphaGo).\n",
        "\n",
        "Fuente: *Hastie et al. (2009), The Elements of Statistical Learning.*"
      ],
      "metadata": {
        "id": "2WguN0D7u-1h"
      }
    },
    {
      "cell_type": "markdown",
      "source": [
        "**5. Aprendizaje Profundo y Redes Neuronales**\n",
        "\n",
        "\n",
        "*   Deep Learning: Subconjunto de ML que usa redes neuronales con múltiples capas.\n",
        "*   Aplicaciones:\n",
        "1.   Visión por computadora (CNN).\n",
        "2.   Generación de texto (GPT).\n",
        "*   Breakthrough: AlexNet (2012) en ImageNet.\n",
        "\n",
        "Fuente: *LeCun et al. (2015), Nature (\"Deep Learning\").*"
      ],
      "metadata": {
        "id": "tS2g7SfXvO06"
      }
    },
    {
      "cell_type": "markdown",
      "source": [
        "**6. Procesamiento de Lenguaje Natural (NLP)**\n",
        "\n",
        "\n",
        "*   Objetivo: Interacción máquina-lenguaje humano.\n",
        "*   Técnicas:\n",
        "1.   Modelos de lenguaje (BERT, GPT).\n",
        "2.   Traducción automática (seq2seq).\n",
        "\n",
        "Fuente: *Jurafsky & Martin (2020), Speech and Language Processing.*"
      ],
      "metadata": {
        "id": "zVzfRmzSvk5n"
      }
    },
    {
      "cell_type": "markdown",
      "source": [
        "**7. Automatización en Sectores Industriales**\n",
        "Objetivo principal:\n",
        "\n",
        "*   Reducción de costos (McKinsey, 2020).\n",
        "*   Eficiencia operacional (ej: RPA en banca).\n",
        "*   Escalabilidad (ej: chatbots en servicio al cliente).\n",
        "\n",
        "Fuente: *Brynjolfsson & McAfee (2014), The Second Machine Age.*"
      ],
      "metadata": {
        "id": "3Iz4h0KEv1Dl"
      }
    },
    {
      "cell_type": "markdown",
      "source": [
        "**8. Rule-Based vs. Cognitive Technologies**\n",
        "\n",
        "**Rule-Based:**\n",
        "*   Dominante en aplicaciones estructuradas (ej: flujos de trabajo).\n",
        "*   Limitado a reglas predefinidas.\n",
        "\n",
        "**Cognitive (IA/ML):**\n",
        "\n",
        "*  Usado en entornos dinámicos (ej: diagnóstico médico)\n",
        "\n",
        "Fuente: *Davenport & Ronanki (2018), Harvard Business Review (\"AI for Business\").*"
      ],
      "metadata": {
        "id": "PfToSeWqwBZp"
      }
    },
    {
      "cell_type": "markdown",
      "source": [
        "**Conclusión**\n",
        "La IA evolucionó desde sistemas basados en reglas (1950s) hasta modelos cognitivos (ML/DL). Su adopción en automatización busca eficiencia, reducción de errores y escalabilidad, aunque las tecnologías basadas en reglas aún dominan en entornos predecibles."
      ],
      "metadata": {
        "id": "hv11Fa4OwZNY"
      }
    },
    {
      "cell_type": "markdown",
      "source": [
        "\n",
        "**¿Qué tipo de aprendizaje sería ideal para predecir la deserción estudiantil en una universidad?.**\n",
        "\n",
        "Modelo supervisado.\n",
        "\n",
        "**¿Por qué?**\n",
        "\n",
        "**Datos etiquetados:** Las universidades suelen tener registros históricos de estudiantes que desertaron (clase 1) y los que no (clase 0), lo que permite entrenar modelos predictivos.\n",
        "\n",
        "**Objetivo claro:** Predecir una variable binaria (abandono vs. permanencia).\n",
        "\n",
        "**Algoritmos comunes:**\n",
        "\n",
        "\n",
        "*   Regresión logística: Interpretable y eficiente para problemas binarios.\n",
        "*   Random Forest / XGBoost: Manejan bien datos no lineales y relaciones complejas\n",
        "*   Redes neuronales: Útiles si hay grandes volúmenes de datos\n",
        "\n",
        "\n"
      ],
      "metadata": {
        "id": "O05Y3s7ZxGdb"
      }
    }
  ]
}