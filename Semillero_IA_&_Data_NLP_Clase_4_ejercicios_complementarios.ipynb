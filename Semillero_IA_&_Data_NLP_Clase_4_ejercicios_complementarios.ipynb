{
  "nbformat": 4,
  "nbformat_minor": 0,
  "metadata": {
    "colab": {
      "provenance": [],
      "include_colab_link": true
    },
    "kernelspec": {
      "name": "python3",
      "display_name": "Python 3"
    },
    "language_info": {
      "name": "python"
    }
  },
  "cells": [
    {
      "cell_type": "markdown",
      "metadata": {
        "id": "view-in-github",
        "colab_type": "text"
      },
      "source": [
        "<a href=\"https://colab.research.google.com/github/IvanHG-OffSec/SemilleroIA/blob/main/Semillero_IA_%26_Data_NLP_Clase_4_ejercicios_complementarios.ipynb\" target=\"_parent\"><img src=\"https://colab.research.google.com/assets/colab-badge.svg\" alt=\"Open In Colab\"/></a>"
      ]
    },
    {
      "cell_type": "markdown",
      "source": [
        "#**Maestría en Inteligencia Artificial Aplicada (MNA)**\n",
        "##**Procesamiento de Lenguaje Natural (NLP)**\n",
        "###Prof. Luis Eduardo Falcón Morales\n",
        "###**Semana 4 - Ejercicios Complementarios**\n",
        "### Matriz Documento-Término y Tf-idf.\n",
        "\n",
        "###**NOTA: Estos ejercicios son simplemente para que repases los conceptos de esta semana.**\n",
        "###**No es una tarea o actividad que debas entregar.**"
      ],
      "metadata": {
        "id": "QjJeSftN02Th"
      }
    },
    {
      "cell_type": "markdown",
      "source": [
        "Comentamos que los diccionarios son una parte importante que permiten asociar a cada token su freuencia de aparición en los documentos de texto.\n",
        "\n",
        "Sin embargo, esto no es suficiente para medir la importancia y sobre todo, para asociar algún significado al token con base a los demás tokens que se utilizan en una frase o documento.\n",
        "\n",
        "Para ello, existen la matriz llamada documento-término y la matriz tf-idf.\n",
        "\n",
        "La matriz documento-término (abreviada DTM pos sus siglas en inglés, Documen-Term-Matrix) es una matriz donde cada renglón representa un documento o enunciado y cada columna son los términos o tokens.\n",
        "\n",
        "A partir de dicha matriz se puede obtener a su vez la llamada matriz término-frecuencia y frecuencia de documento inversa. En general se le llama por sus siglas en inglés tf-idf, term-frequency-inverse-document-frequency.\n",
        "\n",
        "La matriz tf-idf trata de obtener una representación de los tokens y los documentos, donde pondera la aparición de los tokens como importantes cuando aparece con frecuencia; pero no demasiado, porque si aparece demasiado castiga a dicho token disminuyendo su peso. Es decir, es algo análogo al concepto de los stopwords, donde un token muestra su importancia cuando aparece frecuentemente, pero no demasiado frecuente porque entonces se hace trivial su aparición.\n",
        "\n",
        "Veamos estos conceptos con un ejercicio."
      ],
      "metadata": {
        "id": "bDkdMJpSEqyT"
      }
    },
    {
      "cell_type": "markdown",
      "source": [
        "Retomemos el ejercicio de la semana pasada.\n",
        "\n",
        "Recordemos que estamos suponiendo que tenemos la siguiente lista de comentarios en un problema de clasificación, donde cada uno está etiquetado como comentario positivo con un 1, o como comentario negativo con un 0."
      ],
      "metadata": {
        "id": "uBEFNGuV7369"
      }
    },
    {
      "cell_type": "code",
      "source": [
        "import re"
      ],
      "metadata": {
        "id": "IwLeUqGZE7ii"
      },
      "execution_count": 1,
      "outputs": []
    },
    {
      "cell_type": "code",
      "source": [
        "docs = [['Muy bien hecho lo hecho.', 1],\n",
        "        ['¡Excelente trabajo muchacho!', 1],\n",
        "        ['Sigue como hasta ahora muchacho.', 1],\n",
        "        ['Lo hiciste muy bien.', 1],\n",
        "        ['¡¡Excelente resultado!!', 1],\n",
        "        ['¡¡¡Pésimo trabajo muchacho!!!', 0],\n",
        "        ['Que mal desempeño.', 0],\n",
        "        ['Muy mal hecho muchacho.', 0],\n",
        "        ['¡Que trabajo tan pobre!', 0],\n",
        "        ['No está bien, nada bien, muchacho.', 0]]"
      ],
      "metadata": {
        "id": "AVTO4V9s7Fek"
      },
      "execution_count": 2,
      "outputs": []
    },
    {
      "cell_type": "markdown",
      "source": [
        "Apliquemos el proceso de limpieza y tokenización usual:"
      ],
      "metadata": {
        "id": "htyrLDkSZ_rD"
      }
    },
    {
      "cell_type": "code",
      "source": [
        "Xclean = []\n",
        "mis_stopwords = ['a', 'lo', 'que', 'está', 'hasta', 'el', 'la']\n",
        "\n",
        "for doc in docs:\n",
        "  words = re.sub(r'[^a-zA-ZáéíóúüñÁÉÍÓÚÜÑ]', ' ', doc[0])\n",
        "  words = re.sub(r'\\s{2,}', ' ', words.strip())\n",
        "  words = words.lower().split()\n",
        "  words = [ w for w in words if w not in mis_stopwords]\n",
        "  Xclean.append(words)\n",
        "\n",
        "\n",
        "Xx = []\n",
        "for x in Xclean:\n",
        "  Xx.append(' '.join(x))\n",
        "\n",
        "\n",
        "y = [t for _,t in docs]\n",
        "\n",
        "\n",
        "\n",
        "# Xclean : lista de listas: documentos tokenizados y procesados.\n",
        "# Xx : lista de strings: cada documento es un string.\n",
        "# y : etiquetas de cada documento."
      ],
      "metadata": {
        "id": "6tkgQ4m7E-_5"
      },
      "execution_count": 3,
      "outputs": []
    },
    {
      "cell_type": "code",
      "source": [
        "print(Xclean)\n",
        "print(Xx)\n",
        "print(y)"
      ],
      "metadata": {
        "colab": {
          "base_uri": "https://localhost:8080/"
        },
        "id": "aMVB1siThMZP",
        "outputId": "799d0a5f-24d9-4b5d-b792-9d386fe2edd3"
      },
      "execution_count": 4,
      "outputs": [
        {
          "output_type": "stream",
          "name": "stdout",
          "text": [
            "[['muy', 'bien', 'hecho', 'hecho'], ['excelente', 'trabajo', 'muchacho'], ['sigue', 'como', 'ahora', 'muchacho'], ['hiciste', 'muy', 'bien'], ['excelente', 'resultado'], ['pésimo', 'trabajo', 'muchacho'], ['mal', 'desempeño'], ['muy', 'mal', 'hecho', 'muchacho'], ['trabajo', 'tan', 'pobre'], ['no', 'bien', 'nada', 'bien', 'muchacho']]\n",
            "['muy bien hecho hecho', 'excelente trabajo muchacho', 'sigue como ahora muchacho', 'hiciste muy bien', 'excelente resultado', 'pésimo trabajo muchacho', 'mal desempeño', 'muy mal hecho muchacho', 'trabajo tan pobre', 'no bien nada bien muchacho']\n",
            "[1, 1, 1, 1, 1, 0, 0, 0, 0, 0]\n"
          ]
        }
      ]
    },
    {
      "cell_type": "code",
      "source": [
        "import pandas as pd"
      ],
      "metadata": {
        "id": "NaoxpdL4Gl1W"
      },
      "execution_count": 5,
      "outputs": []
    },
    {
      "cell_type": "code",
      "source": [
        "# Generamos nuestro vocabulario:\n",
        "\n",
        "vocab = []\n",
        "for x in Xclean:\n",
        "  vocab.extend(x)\n",
        "  vocab = list(set(vocab))\n",
        "\n",
        "vocab.sort()\n",
        "\n",
        "print(len(vocab))\n",
        "print(vocab)"
      ],
      "metadata": {
        "colab": {
          "base_uri": "https://localhost:8080/"
        },
        "id": "mFHLLYskGKCG",
        "outputId": "0e6765f7-f8c7-4b60-fac6-40c3eb694319"
      },
      "execution_count": 6,
      "outputs": [
        {
          "output_type": "stream",
          "name": "stdout",
          "text": [
            "18\n",
            "['ahora', 'bien', 'como', 'desempeño', 'excelente', 'hecho', 'hiciste', 'mal', 'muchacho', 'muy', 'nada', 'no', 'pobre', 'pésimo', 'resultado', 'sigue', 'tan', 'trabajo']\n"
          ]
        }
      ]
    },
    {
      "cell_type": "markdown",
      "source": [
        "Así, con 18 tokens se deberá procesar y analizar los documentos."
      ],
      "metadata": {
        "id": "eG9Gyz8kkZn0"
      }
    },
    {
      "cell_type": "markdown",
      "source": [
        "##**Matriz Documento-Término: Document-Term-Matrix : DTM**"
      ],
      "metadata": {
        "id": "bkdiOw9Li9fM"
      }
    },
    {
      "cell_type": "markdown",
      "source": [
        "###Comentamos que existe una gran variedad de librerías para obtener las diferentes representaciones matriciales de los documentos de texto.\n",
        "\n",
        "###En particular, haciendo uso de CountVectorizer() de sklearn, podemos obtener la matriz DTM.\n",
        "\n",
        "###Si generaste tu vocabulario puedes usarlo para generar las matrices, de lo contrario puedes dejar que el propio método lo genere. Sin embargo, conviene trabajarlo uno personalmente, sobre todo por lo realizado con regex.\n",
        "\n",
        "Veamos este caso sencillo:"
      ],
      "metadata": {
        "id": "T5wQY-__klMT"
      }
    },
    {
      "cell_type": "code",
      "source": [
        "from sklearn.feature_extraction.text import CountVectorizer"
      ],
      "metadata": {
        "id": "lWTlxJt5k6_m"
      },
      "execution_count": 7,
      "outputs": []
    },
    {
      "cell_type": "code",
      "source": [
        "vectorizer = CountVectorizer(vocabulary= vocab)\n",
        "\n",
        "DTM = vectorizer.fit_transform(Xx)\n",
        "\n",
        "print('matriz DTM:')\n",
        "print(DTM.toarray())"
      ],
      "metadata": {
        "colab": {
          "base_uri": "https://localhost:8080/"
        },
        "id": "47CxGR58Tjeg",
        "outputId": "d5a52f8d-cf4c-4b4a-90d6-321cfcd23e44"
      },
      "execution_count": 8,
      "outputs": [
        {
          "output_type": "stream",
          "name": "stdout",
          "text": [
            "matriz DTM:\n",
            "[[0 1 0 0 0 2 0 0 0 1 0 0 0 0 0 0 0 0]\n",
            " [0 0 0 0 1 0 0 0 1 0 0 0 0 0 0 0 0 1]\n",
            " [1 0 1 0 0 0 0 0 1 0 0 0 0 0 0 1 0 0]\n",
            " [0 1 0 0 0 0 1 0 0 1 0 0 0 0 0 0 0 0]\n",
            " [0 0 0 0 1 0 0 0 0 0 0 0 0 0 1 0 0 0]\n",
            " [0 0 0 0 0 0 0 0 1 0 0 0 0 1 0 0 0 1]\n",
            " [0 0 0 1 0 0 0 1 0 0 0 0 0 0 0 0 0 0]\n",
            " [0 0 0 0 0 1 0 1 1 1 0 0 0 0 0 0 0 0]\n",
            " [0 0 0 0 0 0 0 0 0 0 0 0 1 0 0 0 1 1]\n",
            " [0 2 0 0 0 0 0 0 1 0 1 1 0 0 0 0 0 0]]\n"
          ]
        }
      ]
    },
    {
      "cell_type": "markdown",
      "source": [
        "###Podemos asociar el nombre de cada columna/token del vocabulario para mayor claridad, por ejemplo, nuevamente para el primer comentario:"
      ],
      "metadata": {
        "id": "dXTlnpPdwpN8"
      }
    },
    {
      "cell_type": "code",
      "source": [
        "count_tokens = vectorizer.get_feature_names_out()\n",
        "df_countvect = pd.DataFrame(data = DTM.toarray(),  columns = count_tokens)\n",
        "print(df_countvect.iloc[0:1,0:])"
      ],
      "metadata": {
        "colab": {
          "base_uri": "https://localhost:8080/"
        },
        "id": "gXVEZlZJFpqP",
        "outputId": "376da642-4280-492e-818d-2173ecf15e93"
      },
      "execution_count": 9,
      "outputs": [
        {
          "output_type": "stream",
          "name": "stdout",
          "text": [
            "   ahora  bien  como  desempeño  excelente  hecho  hiciste  mal  muchacho  \\\n",
            "0      0     1     0          0          0      2        0    0         0   \n",
            "\n",
            "   muy  nada  no  pobre  pésimo  resultado  sigue  tan  trabajo  \n",
            "0    1     0   0      0       0          0      0    0        0  \n"
          ]
        }
      ]
    },
    {
      "cell_type": "markdown",
      "source": [
        "###La dimensión de esta document-term-matrix, DTM, es $(renglones\\times columnas)=(Total De Comentarios \\times Total De Tokens)$. Es decir, $10\\times 18$ en nuestro ejemplo.\n",
        "\n",
        "###Por ejemplo, el primer comentario es 'muy bien hecho hecho' y los índices de los tokens 'muy', 'bien' y 'hecho' son 9, 1 y 5. Y como 'hecho' aparece 2 veces en el primer comentario su vector asociado es como se muestra en el primer renglón de la matriz DTM.\n",
        "\n",
        "###Por otro lado, obervamos que la matriz DTM tiene una gran cantidad de ceros. En general así sucede, porque cada comentario hace uso de una cantidad mínima de palabras del vocabulario. Este tipo de matrices son llamadas dispersas (sparse matrix).\n",
        "\n",
        "###De manera predeterminada CountVectorizer() nos regresa una matriz dispersa. En este ejemplo hicimos uso del método \"toarray()\" para mostrar la matriz en su formato estándar. Sin embargo, esto no debes hacerlo en general, ya que son matrices muy muy grandes y tratar de visualizarlas de la manera estándar puede hacer uso de toda la memoria RAM.\n",
        "\n",
        "###En particular, el formato predeterminado del tipo de matriz dispersa es la CSR (Compressed-Sparse-Row, por sus siglas en inglés).\n",
        "\n",
        "###Lo podemos verificar:"
      ],
      "metadata": {
        "id": "uP24pUnIloxk"
      }
    },
    {
      "cell_type": "code",
      "source": [
        "DTM"
      ],
      "metadata": {
        "colab": {
          "base_uri": "https://localhost:8080/"
        },
        "id": "QiYekNzeuArS",
        "outputId": "22652932-60d3-4957-94f4-1d0c3517b597"
      },
      "execution_count": 10,
      "outputs": [
        {
          "output_type": "execute_result",
          "data": {
            "text/plain": [
              "<Compressed Sparse Row sparse matrix of dtype 'int64'\n",
              "\twith 31 stored elements and shape (10, 18)>"
            ]
          },
          "metadata": {},
          "execution_count": 10
        }
      ]
    },
    {
      "cell_type": "markdown",
      "source": [
        "Tenemos 31 elementos no cero, de un total de 180 entradas de la matriz.\n",
        "\n",
        "Es decir:"
      ],
      "metadata": {
        "id": "eV4iyZpmvEuq"
      }
    },
    {
      "cell_type": "code",
      "source": [
        "DTM.count_nonzero() / (DTM.shape[0] * DTM.shape[1])"
      ],
      "metadata": {
        "colab": {
          "base_uri": "https://localhost:8080/"
        },
        "id": "pI9ALS0sui2O",
        "outputId": "28918c2b-95c5-493d-b573-fa49215ced79"
      },
      "execution_count": 11,
      "outputs": [
        {
          "output_type": "execute_result",
          "data": {
            "text/plain": [
              "0.17222222222222222"
            ]
          },
          "metadata": {},
          "execution_count": 11
        }
      ]
    },
    {
      "cell_type": "markdown",
      "source": [
        "Es decir, en este pequeño ejemplo el 17% de los registros son no cero y el 83% son entradas de valor cero. Así, diremos que la matriz DTM tiene una dsipersidad (sparsity en inglés) del 83%.\n",
        "\n",
        "En la práctica, es usual que la dispersidad de las matrices DTM esté muy por arriba del 95%. Por ello la conveniencia de utilizar este tipo de formatos dispersos."
      ],
      "metadata": {
        "id": "r7DuQEvXv2fI"
      }
    },
    {
      "cell_type": "markdown",
      "source": [
        "##**Matriz Tf-idf**"
      ],
      "metadata": {
        "id": "jDuqgrpGq_MC"
      }
    },
    {
      "cell_type": "markdown",
      "source": [
        "Como comentamos en las diapositivas de la teoría de esta semana, la matriz Tf-idf pondera cada token por frecuencia de aparición, pero si aparece \"demasiadas\" veces, se le penaliza disminuyendo su peso."
      ],
      "metadata": {
        "id": "cBvr6XhgrMW4"
      }
    },
    {
      "cell_type": "code",
      "source": [
        "from sklearn.feature_extraction.text import TfidfVectorizer\n",
        "\n",
        "tfidfvectorizer = TfidfVectorizer(vocabulary=vocab, norm=None)\n",
        "DTM_train_tfidf = tfidfvectorizer.fit_transform(Xx)"
      ],
      "metadata": {
        "id": "MsKYiMydFpi3"
      },
      "execution_count": 12,
      "outputs": []
    },
    {
      "cell_type": "code",
      "source": [
        "tfidf_tokens = tfidfvectorizer.get_feature_names_out()\n",
        "df_tfidfvect = pd.DataFrame(data = DTM_train_tfidf.toarray(),  columns = tfidf_tokens)\n",
        "print(df_tfidfvect.iloc[0:1,0:])"
      ],
      "metadata": {
        "colab": {
          "base_uri": "https://localhost:8080/"
        },
        "id": "i1esgipqFpag",
        "outputId": "74229622-726c-41ad-f128-e35e721519c5"
      },
      "execution_count": 13,
      "outputs": [
        {
          "output_type": "stream",
          "name": "stdout",
          "text": [
            "   ahora      bien  como  desempeño  excelente     hecho  hiciste  mal  \\\n",
            "0    0.0  2.011601   0.0        0.0        0.0  4.598566      0.0  0.0   \n",
            "\n",
            "   muchacho       muy  nada   no  pobre  pésimo  resultado  sigue  tan  \\\n",
            "0       0.0  2.011601   0.0  0.0    0.0     0.0        0.0    0.0  0.0   \n",
            "\n",
            "   trabajo  \n",
            "0      0.0  \n"
          ]
        }
      ]
    },
    {
      "cell_type": "markdown",
      "source": [
        "Para este primer comentario vemos que la palabra \"hecho\" es la considerada que da mayor información con el mayor valor. Y su importancia en este comentario se justifica por aparecer dos veces en este. A los tokens \"bien\" y \"muy\" los poderó de manera igual, que en este caso ambos tokens aparecen una sola vez.\n",
        "\n",
        "En la preentación de este semana definimos de manera detallada las fórmulas para calcular el valor de $tf\\times idf$.\n",
        "\n",
        "Sin embargo, existen muchas variantes en la manera en que se definen estos términos, en particular la $idf$. En general, las variaciones llegan a ser diversas, pero todas nos llevan en general a resultados muy equivalentes cuando usamos esta información con modelos de aprendizaje de máquinas.\n",
        "\n",
        "Se se revisa la documentación de TfidfVectorizer() vemos la manera en que calcula dichos valores.\n",
        "\n",
        "Puedes revisar la documentación en las siguientes dos ligas:\n",
        "\n",
        "https://scikit-learn.org/stable/modules/generated/sklearn.feature_extraction.text.TfidfTransformer.html#sklearn.feature_extraction.text.TfidfTransformer\n",
        "\n",
        "https://scikit-learn.org/stable/modules/feature_extraction.html#text-feature-extraction\n",
        "\n"
      ],
      "metadata": {
        "id": "wU2BQbbWxTIe"
      }
    },
    {
      "cell_type": "markdown",
      "source": [
        "En particular, la fórmula que utiliza TfidfVectorizer() con el argumento \"norm=None\" que usamos arriba, es como sigue. Calculando el valor para el primer comentario y el token \"hecho\".\n",
        "\n",
        "$tf\\times idf = tf\\times ln(\\frac{D+1}{n_t+1})=2\\times \\{ln(\\frac{10+1}{2+1})+1\\}=4.598566$.\n",
        "\n",
        "Que es el resultado que se muestra en la salida que mostramos más arriba.\n"
      ],
      "metadata": {
        "id": "rv0nTCZKKMCF"
      }
    },
    {
      "cell_type": "markdown",
      "source": [
        "Lo importante es que estos valores de las matrices DTM y DTM_tfidf obtenidas con un conjunto de entrenamiento, pueden utilizarse para entrenar un modelo y después validarlo con los conjuntos de validación y de prueba."
      ],
      "metadata": {
        "id": "udZxspGLMhF7"
      }
    },
    {
      "cell_type": "markdown",
      "source": [
        "A manera de ejemplo, supongamos que deseamos aplicar estos modelos con regresión logística."
      ],
      "metadata": {
        "id": "MbJ9UbC9NUN1"
      }
    },
    {
      "cell_type": "code",
      "source": [
        "from sklearn.linear_model import LogisticRegression"
      ],
      "metadata": {
        "id": "sjNL4lpXNeSu"
      },
      "execution_count": 14,
      "outputs": []
    },
    {
      "cell_type": "code",
      "source": [
        "modeloCount = LogisticRegression(max_iter=100, C=1.)\n",
        "modeloCount.fit(DTM, y)"
      ],
      "metadata": {
        "colab": {
          "base_uri": "https://localhost:8080/",
          "height": 80
        },
        "id": "15prjvmpNqSM",
        "outputId": "03d37f3d-7171-496c-9e89-80040a24da2c"
      },
      "execution_count": 15,
      "outputs": [
        {
          "output_type": "execute_result",
          "data": {
            "text/plain": [
              "LogisticRegression()"
            ],
            "text/html": [
              "<style>#sk-container-id-1 {\n",
              "  /* Definition of color scheme common for light and dark mode */\n",
              "  --sklearn-color-text: #000;\n",
              "  --sklearn-color-text-muted: #666;\n",
              "  --sklearn-color-line: gray;\n",
              "  /* Definition of color scheme for unfitted estimators */\n",
              "  --sklearn-color-unfitted-level-0: #fff5e6;\n",
              "  --sklearn-color-unfitted-level-1: #f6e4d2;\n",
              "  --sklearn-color-unfitted-level-2: #ffe0b3;\n",
              "  --sklearn-color-unfitted-level-3: chocolate;\n",
              "  /* Definition of color scheme for fitted estimators */\n",
              "  --sklearn-color-fitted-level-0: #f0f8ff;\n",
              "  --sklearn-color-fitted-level-1: #d4ebff;\n",
              "  --sklearn-color-fitted-level-2: #b3dbfd;\n",
              "  --sklearn-color-fitted-level-3: cornflowerblue;\n",
              "\n",
              "  /* Specific color for light theme */\n",
              "  --sklearn-color-text-on-default-background: var(--sg-text-color, var(--theme-code-foreground, var(--jp-content-font-color1, black)));\n",
              "  --sklearn-color-background: var(--sg-background-color, var(--theme-background, var(--jp-layout-color0, white)));\n",
              "  --sklearn-color-border-box: var(--sg-text-color, var(--theme-code-foreground, var(--jp-content-font-color1, black)));\n",
              "  --sklearn-color-icon: #696969;\n",
              "\n",
              "  @media (prefers-color-scheme: dark) {\n",
              "    /* Redefinition of color scheme for dark theme */\n",
              "    --sklearn-color-text-on-default-background: var(--sg-text-color, var(--theme-code-foreground, var(--jp-content-font-color1, white)));\n",
              "    --sklearn-color-background: var(--sg-background-color, var(--theme-background, var(--jp-layout-color0, #111)));\n",
              "    --sklearn-color-border-box: var(--sg-text-color, var(--theme-code-foreground, var(--jp-content-font-color1, white)));\n",
              "    --sklearn-color-icon: #878787;\n",
              "  }\n",
              "}\n",
              "\n",
              "#sk-container-id-1 {\n",
              "  color: var(--sklearn-color-text);\n",
              "}\n",
              "\n",
              "#sk-container-id-1 pre {\n",
              "  padding: 0;\n",
              "}\n",
              "\n",
              "#sk-container-id-1 input.sk-hidden--visually {\n",
              "  border: 0;\n",
              "  clip: rect(1px 1px 1px 1px);\n",
              "  clip: rect(1px, 1px, 1px, 1px);\n",
              "  height: 1px;\n",
              "  margin: -1px;\n",
              "  overflow: hidden;\n",
              "  padding: 0;\n",
              "  position: absolute;\n",
              "  width: 1px;\n",
              "}\n",
              "\n",
              "#sk-container-id-1 div.sk-dashed-wrapped {\n",
              "  border: 1px dashed var(--sklearn-color-line);\n",
              "  margin: 0 0.4em 0.5em 0.4em;\n",
              "  box-sizing: border-box;\n",
              "  padding-bottom: 0.4em;\n",
              "  background-color: var(--sklearn-color-background);\n",
              "}\n",
              "\n",
              "#sk-container-id-1 div.sk-container {\n",
              "  /* jupyter's `normalize.less` sets `[hidden] { display: none; }`\n",
              "     but bootstrap.min.css set `[hidden] { display: none !important; }`\n",
              "     so we also need the `!important` here to be able to override the\n",
              "     default hidden behavior on the sphinx rendered scikit-learn.org.\n",
              "     See: https://github.com/scikit-learn/scikit-learn/issues/21755 */\n",
              "  display: inline-block !important;\n",
              "  position: relative;\n",
              "}\n",
              "\n",
              "#sk-container-id-1 div.sk-text-repr-fallback {\n",
              "  display: none;\n",
              "}\n",
              "\n",
              "div.sk-parallel-item,\n",
              "div.sk-serial,\n",
              "div.sk-item {\n",
              "  /* draw centered vertical line to link estimators */\n",
              "  background-image: linear-gradient(var(--sklearn-color-text-on-default-background), var(--sklearn-color-text-on-default-background));\n",
              "  background-size: 2px 100%;\n",
              "  background-repeat: no-repeat;\n",
              "  background-position: center center;\n",
              "}\n",
              "\n",
              "/* Parallel-specific style estimator block */\n",
              "\n",
              "#sk-container-id-1 div.sk-parallel-item::after {\n",
              "  content: \"\";\n",
              "  width: 100%;\n",
              "  border-bottom: 2px solid var(--sklearn-color-text-on-default-background);\n",
              "  flex-grow: 1;\n",
              "}\n",
              "\n",
              "#sk-container-id-1 div.sk-parallel {\n",
              "  display: flex;\n",
              "  align-items: stretch;\n",
              "  justify-content: center;\n",
              "  background-color: var(--sklearn-color-background);\n",
              "  position: relative;\n",
              "}\n",
              "\n",
              "#sk-container-id-1 div.sk-parallel-item {\n",
              "  display: flex;\n",
              "  flex-direction: column;\n",
              "}\n",
              "\n",
              "#sk-container-id-1 div.sk-parallel-item:first-child::after {\n",
              "  align-self: flex-end;\n",
              "  width: 50%;\n",
              "}\n",
              "\n",
              "#sk-container-id-1 div.sk-parallel-item:last-child::after {\n",
              "  align-self: flex-start;\n",
              "  width: 50%;\n",
              "}\n",
              "\n",
              "#sk-container-id-1 div.sk-parallel-item:only-child::after {\n",
              "  width: 0;\n",
              "}\n",
              "\n",
              "/* Serial-specific style estimator block */\n",
              "\n",
              "#sk-container-id-1 div.sk-serial {\n",
              "  display: flex;\n",
              "  flex-direction: column;\n",
              "  align-items: center;\n",
              "  background-color: var(--sklearn-color-background);\n",
              "  padding-right: 1em;\n",
              "  padding-left: 1em;\n",
              "}\n",
              "\n",
              "\n",
              "/* Toggleable style: style used for estimator/Pipeline/ColumnTransformer box that is\n",
              "clickable and can be expanded/collapsed.\n",
              "- Pipeline and ColumnTransformer use this feature and define the default style\n",
              "- Estimators will overwrite some part of the style using the `sk-estimator` class\n",
              "*/\n",
              "\n",
              "/* Pipeline and ColumnTransformer style (default) */\n",
              "\n",
              "#sk-container-id-1 div.sk-toggleable {\n",
              "  /* Default theme specific background. It is overwritten whether we have a\n",
              "  specific estimator or a Pipeline/ColumnTransformer */\n",
              "  background-color: var(--sklearn-color-background);\n",
              "}\n",
              "\n",
              "/* Toggleable label */\n",
              "#sk-container-id-1 label.sk-toggleable__label {\n",
              "  cursor: pointer;\n",
              "  display: flex;\n",
              "  width: 100%;\n",
              "  margin-bottom: 0;\n",
              "  padding: 0.5em;\n",
              "  box-sizing: border-box;\n",
              "  text-align: center;\n",
              "  align-items: start;\n",
              "  justify-content: space-between;\n",
              "  gap: 0.5em;\n",
              "}\n",
              "\n",
              "#sk-container-id-1 label.sk-toggleable__label .caption {\n",
              "  font-size: 0.6rem;\n",
              "  font-weight: lighter;\n",
              "  color: var(--sklearn-color-text-muted);\n",
              "}\n",
              "\n",
              "#sk-container-id-1 label.sk-toggleable__label-arrow:before {\n",
              "  /* Arrow on the left of the label */\n",
              "  content: \"▸\";\n",
              "  float: left;\n",
              "  margin-right: 0.25em;\n",
              "  color: var(--sklearn-color-icon);\n",
              "}\n",
              "\n",
              "#sk-container-id-1 label.sk-toggleable__label-arrow:hover:before {\n",
              "  color: var(--sklearn-color-text);\n",
              "}\n",
              "\n",
              "/* Toggleable content - dropdown */\n",
              "\n",
              "#sk-container-id-1 div.sk-toggleable__content {\n",
              "  max-height: 0;\n",
              "  max-width: 0;\n",
              "  overflow: hidden;\n",
              "  text-align: left;\n",
              "  /* unfitted */\n",
              "  background-color: var(--sklearn-color-unfitted-level-0);\n",
              "}\n",
              "\n",
              "#sk-container-id-1 div.sk-toggleable__content.fitted {\n",
              "  /* fitted */\n",
              "  background-color: var(--sklearn-color-fitted-level-0);\n",
              "}\n",
              "\n",
              "#sk-container-id-1 div.sk-toggleable__content pre {\n",
              "  margin: 0.2em;\n",
              "  border-radius: 0.25em;\n",
              "  color: var(--sklearn-color-text);\n",
              "  /* unfitted */\n",
              "  background-color: var(--sklearn-color-unfitted-level-0);\n",
              "}\n",
              "\n",
              "#sk-container-id-1 div.sk-toggleable__content.fitted pre {\n",
              "  /* unfitted */\n",
              "  background-color: var(--sklearn-color-fitted-level-0);\n",
              "}\n",
              "\n",
              "#sk-container-id-1 input.sk-toggleable__control:checked~div.sk-toggleable__content {\n",
              "  /* Expand drop-down */\n",
              "  max-height: 200px;\n",
              "  max-width: 100%;\n",
              "  overflow: auto;\n",
              "}\n",
              "\n",
              "#sk-container-id-1 input.sk-toggleable__control:checked~label.sk-toggleable__label-arrow:before {\n",
              "  content: \"▾\";\n",
              "}\n",
              "\n",
              "/* Pipeline/ColumnTransformer-specific style */\n",
              "\n",
              "#sk-container-id-1 div.sk-label input.sk-toggleable__control:checked~label.sk-toggleable__label {\n",
              "  color: var(--sklearn-color-text);\n",
              "  background-color: var(--sklearn-color-unfitted-level-2);\n",
              "}\n",
              "\n",
              "#sk-container-id-1 div.sk-label.fitted input.sk-toggleable__control:checked~label.sk-toggleable__label {\n",
              "  background-color: var(--sklearn-color-fitted-level-2);\n",
              "}\n",
              "\n",
              "/* Estimator-specific style */\n",
              "\n",
              "/* Colorize estimator box */\n",
              "#sk-container-id-1 div.sk-estimator input.sk-toggleable__control:checked~label.sk-toggleable__label {\n",
              "  /* unfitted */\n",
              "  background-color: var(--sklearn-color-unfitted-level-2);\n",
              "}\n",
              "\n",
              "#sk-container-id-1 div.sk-estimator.fitted input.sk-toggleable__control:checked~label.sk-toggleable__label {\n",
              "  /* fitted */\n",
              "  background-color: var(--sklearn-color-fitted-level-2);\n",
              "}\n",
              "\n",
              "#sk-container-id-1 div.sk-label label.sk-toggleable__label,\n",
              "#sk-container-id-1 div.sk-label label {\n",
              "  /* The background is the default theme color */\n",
              "  color: var(--sklearn-color-text-on-default-background);\n",
              "}\n",
              "\n",
              "/* On hover, darken the color of the background */\n",
              "#sk-container-id-1 div.sk-label:hover label.sk-toggleable__label {\n",
              "  color: var(--sklearn-color-text);\n",
              "  background-color: var(--sklearn-color-unfitted-level-2);\n",
              "}\n",
              "\n",
              "/* Label box, darken color on hover, fitted */\n",
              "#sk-container-id-1 div.sk-label.fitted:hover label.sk-toggleable__label.fitted {\n",
              "  color: var(--sklearn-color-text);\n",
              "  background-color: var(--sklearn-color-fitted-level-2);\n",
              "}\n",
              "\n",
              "/* Estimator label */\n",
              "\n",
              "#sk-container-id-1 div.sk-label label {\n",
              "  font-family: monospace;\n",
              "  font-weight: bold;\n",
              "  display: inline-block;\n",
              "  line-height: 1.2em;\n",
              "}\n",
              "\n",
              "#sk-container-id-1 div.sk-label-container {\n",
              "  text-align: center;\n",
              "}\n",
              "\n",
              "/* Estimator-specific */\n",
              "#sk-container-id-1 div.sk-estimator {\n",
              "  font-family: monospace;\n",
              "  border: 1px dotted var(--sklearn-color-border-box);\n",
              "  border-radius: 0.25em;\n",
              "  box-sizing: border-box;\n",
              "  margin-bottom: 0.5em;\n",
              "  /* unfitted */\n",
              "  background-color: var(--sklearn-color-unfitted-level-0);\n",
              "}\n",
              "\n",
              "#sk-container-id-1 div.sk-estimator.fitted {\n",
              "  /* fitted */\n",
              "  background-color: var(--sklearn-color-fitted-level-0);\n",
              "}\n",
              "\n",
              "/* on hover */\n",
              "#sk-container-id-1 div.sk-estimator:hover {\n",
              "  /* unfitted */\n",
              "  background-color: var(--sklearn-color-unfitted-level-2);\n",
              "}\n",
              "\n",
              "#sk-container-id-1 div.sk-estimator.fitted:hover {\n",
              "  /* fitted */\n",
              "  background-color: var(--sklearn-color-fitted-level-2);\n",
              "}\n",
              "\n",
              "/* Specification for estimator info (e.g. \"i\" and \"?\") */\n",
              "\n",
              "/* Common style for \"i\" and \"?\" */\n",
              "\n",
              ".sk-estimator-doc-link,\n",
              "a:link.sk-estimator-doc-link,\n",
              "a:visited.sk-estimator-doc-link {\n",
              "  float: right;\n",
              "  font-size: smaller;\n",
              "  line-height: 1em;\n",
              "  font-family: monospace;\n",
              "  background-color: var(--sklearn-color-background);\n",
              "  border-radius: 1em;\n",
              "  height: 1em;\n",
              "  width: 1em;\n",
              "  text-decoration: none !important;\n",
              "  margin-left: 0.5em;\n",
              "  text-align: center;\n",
              "  /* unfitted */\n",
              "  border: var(--sklearn-color-unfitted-level-1) 1pt solid;\n",
              "  color: var(--sklearn-color-unfitted-level-1);\n",
              "}\n",
              "\n",
              ".sk-estimator-doc-link.fitted,\n",
              "a:link.sk-estimator-doc-link.fitted,\n",
              "a:visited.sk-estimator-doc-link.fitted {\n",
              "  /* fitted */\n",
              "  border: var(--sklearn-color-fitted-level-1) 1pt solid;\n",
              "  color: var(--sklearn-color-fitted-level-1);\n",
              "}\n",
              "\n",
              "/* On hover */\n",
              "div.sk-estimator:hover .sk-estimator-doc-link:hover,\n",
              ".sk-estimator-doc-link:hover,\n",
              "div.sk-label-container:hover .sk-estimator-doc-link:hover,\n",
              ".sk-estimator-doc-link:hover {\n",
              "  /* unfitted */\n",
              "  background-color: var(--sklearn-color-unfitted-level-3);\n",
              "  color: var(--sklearn-color-background);\n",
              "  text-decoration: none;\n",
              "}\n",
              "\n",
              "div.sk-estimator.fitted:hover .sk-estimator-doc-link.fitted:hover,\n",
              ".sk-estimator-doc-link.fitted:hover,\n",
              "div.sk-label-container:hover .sk-estimator-doc-link.fitted:hover,\n",
              ".sk-estimator-doc-link.fitted:hover {\n",
              "  /* fitted */\n",
              "  background-color: var(--sklearn-color-fitted-level-3);\n",
              "  color: var(--sklearn-color-background);\n",
              "  text-decoration: none;\n",
              "}\n",
              "\n",
              "/* Span, style for the box shown on hovering the info icon */\n",
              ".sk-estimator-doc-link span {\n",
              "  display: none;\n",
              "  z-index: 9999;\n",
              "  position: relative;\n",
              "  font-weight: normal;\n",
              "  right: .2ex;\n",
              "  padding: .5ex;\n",
              "  margin: .5ex;\n",
              "  width: min-content;\n",
              "  min-width: 20ex;\n",
              "  max-width: 50ex;\n",
              "  color: var(--sklearn-color-text);\n",
              "  box-shadow: 2pt 2pt 4pt #999;\n",
              "  /* unfitted */\n",
              "  background: var(--sklearn-color-unfitted-level-0);\n",
              "  border: .5pt solid var(--sklearn-color-unfitted-level-3);\n",
              "}\n",
              "\n",
              ".sk-estimator-doc-link.fitted span {\n",
              "  /* fitted */\n",
              "  background: var(--sklearn-color-fitted-level-0);\n",
              "  border: var(--sklearn-color-fitted-level-3);\n",
              "}\n",
              "\n",
              ".sk-estimator-doc-link:hover span {\n",
              "  display: block;\n",
              "}\n",
              "\n",
              "/* \"?\"-specific style due to the `<a>` HTML tag */\n",
              "\n",
              "#sk-container-id-1 a.estimator_doc_link {\n",
              "  float: right;\n",
              "  font-size: 1rem;\n",
              "  line-height: 1em;\n",
              "  font-family: monospace;\n",
              "  background-color: var(--sklearn-color-background);\n",
              "  border-radius: 1rem;\n",
              "  height: 1rem;\n",
              "  width: 1rem;\n",
              "  text-decoration: none;\n",
              "  /* unfitted */\n",
              "  color: var(--sklearn-color-unfitted-level-1);\n",
              "  border: var(--sklearn-color-unfitted-level-1) 1pt solid;\n",
              "}\n",
              "\n",
              "#sk-container-id-1 a.estimator_doc_link.fitted {\n",
              "  /* fitted */\n",
              "  border: var(--sklearn-color-fitted-level-1) 1pt solid;\n",
              "  color: var(--sklearn-color-fitted-level-1);\n",
              "}\n",
              "\n",
              "/* On hover */\n",
              "#sk-container-id-1 a.estimator_doc_link:hover {\n",
              "  /* unfitted */\n",
              "  background-color: var(--sklearn-color-unfitted-level-3);\n",
              "  color: var(--sklearn-color-background);\n",
              "  text-decoration: none;\n",
              "}\n",
              "\n",
              "#sk-container-id-1 a.estimator_doc_link.fitted:hover {\n",
              "  /* fitted */\n",
              "  background-color: var(--sklearn-color-fitted-level-3);\n",
              "}\n",
              "</style><div id=\"sk-container-id-1\" class=\"sk-top-container\"><div class=\"sk-text-repr-fallback\"><pre>LogisticRegression()</pre><b>In a Jupyter environment, please rerun this cell to show the HTML representation or trust the notebook. <br />On GitHub, the HTML representation is unable to render, please try loading this page with nbviewer.org.</b></div><div class=\"sk-container\" hidden><div class=\"sk-item\"><div class=\"sk-estimator fitted sk-toggleable\"><input class=\"sk-toggleable__control sk-hidden--visually\" id=\"sk-estimator-id-1\" type=\"checkbox\" checked><label for=\"sk-estimator-id-1\" class=\"sk-toggleable__label fitted sk-toggleable__label-arrow\"><div><div>LogisticRegression</div></div><div><a class=\"sk-estimator-doc-link fitted\" rel=\"noreferrer\" target=\"_blank\" href=\"https://scikit-learn.org/1.6/modules/generated/sklearn.linear_model.LogisticRegression.html\">?<span>Documentation for LogisticRegression</span></a><span class=\"sk-estimator-doc-link fitted\">i<span>Fitted</span></span></div></label><div class=\"sk-toggleable__content fitted\"><pre>LogisticRegression()</pre></div> </div></div></div></div>"
            ]
          },
          "metadata": {},
          "execution_count": 15
        }
      ]
    },
    {
      "cell_type": "code",
      "source": [
        "print('\\nModelo Counter con regresión Logística: Train-accuracy: %.2f%%' % (100*modeloCount.score(DTM, y)))"
      ],
      "metadata": {
        "colab": {
          "base_uri": "https://localhost:8080/"
        },
        "id": "pgy98kalOgS9",
        "outputId": "aea71a7a-29dc-45f0-c5f1-84e4e550e282"
      },
      "execution_count": 16,
      "outputs": [
        {
          "output_type": "stream",
          "name": "stdout",
          "text": [
            "\n",
            "Modelo Counter con regresión Logística: Train-accuracy: 100.00%\n"
          ]
        }
      ]
    },
    {
      "cell_type": "markdown",
      "source": [
        "Y de manera análoga con la matriz Tf-idf:"
      ],
      "metadata": {
        "id": "l4-CLJlhOthu"
      }
    },
    {
      "cell_type": "code",
      "source": [
        "modeloTfidf = LogisticRegression(max_iter=100, C=1.)\n",
        "modeloTfidf.fit(DTM_train_tfidf, y)\n",
        "print('\\nModelo Tfidf con Regresión Logística: Train-accuracy: %.2f%%' % (100*modeloTfidf.score(DTM_train_tfidf, y)))"
      ],
      "metadata": {
        "colab": {
          "base_uri": "https://localhost:8080/"
        },
        "id": "Z5SSwiQPOyQ4",
        "outputId": "6801cb9c-6e05-4c72-a154-3b13fc2569de"
      },
      "execution_count": 17,
      "outputs": [
        {
          "output_type": "stream",
          "name": "stdout",
          "text": [
            "\n",
            "Modelo Tfidf con Regresión Logística: Train-accuracy: 100.00%\n"
          ]
        }
      ]
    },
    {
      "cell_type": "markdown",
      "source": [
        "Sobra decir que este modelo esta sobre-entrenado porque solo estamos usando un mismo conjunto para entrenar y validar, pero es solo a manera de ejemplo. Cuando se tenga el conjunto de validación y de prueba deberás hacer la validación de manera adecuada."
      ],
      "metadata": {
        "id": "w8Eqj5nmPTkN"
      }
    },
    {
      "cell_type": "markdown",
      "source": [
        "##**Fin de la Parte 2 de los ejercicios complementarios de la Semana 3**"
      ],
      "metadata": {
        "id": "2K7B5NYqKIK2"
      }
    }
  ]
}