{
  "nbformat": 4,
  "nbformat_minor": 0,
  "metadata": {
    "colab": {
      "provenance": [],
      "collapsed_sections": [
        "759SG4TyfbUn",
        "Zj-h4drXD-X9",
        "BY6yifxscfrx",
        "k_ewoagic5jc",
        "70StdqAZa9E9"
      ],
      "include_colab_link": true
    },
    "kernelspec": {
      "name": "python3",
      "display_name": "Python 3"
    },
    "language_info": {
      "name": "python"
    }
  },
  "cells": [
    {
      "cell_type": "markdown",
      "metadata": {
        "id": "view-in-github",
        "colab_type": "text"
      },
      "source": [
        "<a href=\"https://colab.research.google.com/github/IvanHG-OffSec/SemilleroIA/blob/main/Semillero_IA_%26_Data_NLP_semana_03_Actividad.ipynb\" target=\"_parent\"><img src=\"https://colab.research.google.com/assets/colab-badge.svg\" alt=\"Open In Colab\"/></a>"
      ]
    },
    {
      "cell_type": "markdown",
      "source": [
        "#**Maestría en Inteligencia Artificial Aplicada**\n",
        "##**Curso: Procesamiento de Lenguaje Natural (NLP)**\n",
        "###Tecnológico de Monterrey\n",
        "###Prof Luis Eduardo Falcón Morales\n",
        "\n",
        "## **Adtividad de la Semana 02**\n",
        "###**Introducción al procesamiento de texto.**"
      ],
      "metadata": {
        "id": "759SG4TyfbUn"
      }
    },
    {
      "cell_type": "markdown",
      "source": [
        "En esta actividad deberás utilizar los datos del siguiente archivo que se encuentra en Canvas:\n",
        "\n",
        "MNA_NLP_semana_02_Actividad_datos.txt\n",
        "\n",
        "El archivo contiene comentarios en inglés sobre servicios de comida de la página de Yelp: https://www.yelp.com/ .\n",
        "\n",
        "Son mil comentarios y forman parte del conjunto de datos que se encuentra en el Machine Learning Repository de la UCI, llamado \"Sentiment Labelled Sentences\": https://archive.ics.uci.edu/ml/datasets/Sentiment+Labelled+Sentences#\n"
      ],
      "metadata": {
        "id": "6ue1YAKx3XDo"
      }
    },
    {
      "cell_type": "markdown",
      "source": [
        "#**Parte 1. Cargamos los datos.**   "
      ],
      "metadata": {
        "id": "Zj-h4drXD-X9"
      }
    },
    {
      "cell_type": "markdown",
      "source": [
        "Cargar los datos del archivo indicado y obtener una lista de longitud de 1000 strings/comentarios.\n",
        "\n",
        "Por el momento solamente requerimos las bibliotecas de Numpy y re, para el manejo de los arreglos y de las expresiones regulares en Python.\n",
        "\n",
        "En particular, no necesitarás en esta actividad la biblioteca de Pandas.\n",
        "\n",
        "###**NOTA: En esta actividad no debes importar nada más, con estas dos bibliotecas será *suficiente*.**"
      ],
      "metadata": {
        "id": "BY6yifxscfrx"
      }
    },
    {
      "cell_type": "code",
      "source": [
        "import numpy as np    # importamos Numpy para el manejo de los arreglos.\n",
        "import re             # importamos re para el manejo de las expresiones regulares."
      ],
      "metadata": {
        "id": "OJ26dAfhdFnf"
      },
      "execution_count": 1,
      "outputs": []
    },
    {
      "cell_type": "code",
      "source": [
        "# Ejecuta las siguientes instrucciones para cargar la información del achivo dado:\n",
        "\n",
        "with open('Semillero IA & Data_NLP_semana_03_Actividad.txt',        # puedes actualizar la ruta a tu archivo, en dado caso.\n",
        "          mode='r',     # abrimos el archivo en modo lectura.\n",
        "          ) as f:\n",
        "    docs = f.readlines()    # separamos cada comentario por líneas\n",
        "\n",
        "f.close()  # ya que tenemos la información en la variable docs, cerramos el archivo"
      ],
      "metadata": {
        "id": "QHUmJyjDdGNP"
      },
      "execution_count": 6,
      "outputs": []
    },
    {
      "cell_type": "code",
      "source": [
        "type(docs) == list   # Verifica que tu variable \"docs\" es una lista"
      ],
      "metadata": {
        "id": "L6WzrSrodG-Y",
        "colab": {
          "base_uri": "https://localhost:8080/"
        },
        "outputId": "a405d1c5-06f8-4099-938c-36237ec7fdeb"
      },
      "execution_count": 7,
      "outputs": [
        {
          "output_type": "execute_result",
          "data": {
            "text/plain": [
              "True"
            ]
          },
          "metadata": {},
          "execution_count": 7
        }
      ]
    },
    {
      "cell_type": "code",
      "source": [
        "len(docs)==1000  # verifica que la longitud de \"docs\" es de mil comentarios."
      ],
      "metadata": {
        "id": "QIK1u9WS2FtS",
        "colab": {
          "base_uri": "https://localhost:8080/"
        },
        "outputId": "1ee85aa5-1064-4821-b95b-c14623266491"
      },
      "execution_count": 8,
      "outputs": [
        {
          "output_type": "execute_result",
          "data": {
            "text/plain": [
              "True"
            ]
          },
          "metadata": {},
          "execution_count": 8
        }
      ]
    },
    {
      "cell_type": "code",
      "source": [
        "docs[0:10]     # observa algunos de los primeros comentarios"
      ],
      "metadata": {
        "id": "9AMLIfQvJqNZ",
        "colab": {
          "base_uri": "https://localhost:8080/"
        },
        "outputId": "d125d3f1-5258-4b29-8ea3-d42e6c77153a"
      },
      "execution_count": 9,
      "outputs": [
        {
          "output_type": "execute_result",
          "data": {
            "text/plain": [
              "['Wow... Loved this place.\\n',\n",
              " 'Crust is not good.\\n',\n",
              " 'Not tasty and the texture was just nasty.\\n',\n",
              " 'Stopped by during the late May bank holiday off Rick Steve recommendation and loved it.\\n',\n",
              " 'The selection on the menu was great and so were the prices.\\n',\n",
              " 'Now I am getting angry and I want my damn pho.\\n',\n",
              " \"Honeslty it didn't taste THAT fresh.)\\n\",\n",
              " 'The potatoes were like rubber and you could tell they had been made up ahead of time being kept under a warmer.\\n',\n",
              " 'The fries were great too.\\n',\n",
              " 'A great touch.\\n']"
            ]
          },
          "metadata": {},
          "execution_count": 9
        }
      ]
    },
    {
      "cell_type": "markdown",
      "source": [
        "#**Parte 2: sección de preguntas (regex).**   \n"
      ],
      "metadata": {
        "id": "k_ewoagic5jc"
      }
    },
    {
      "cell_type": "markdown",
      "source": [
        "##**Instrucciones:**\n",
        "\n",
        "###**A continuación deberás contestar cada una de las preguntas que te piden usando expresiones regulares (regex).**\n",
        "\n",
        "###**Por el momento no hay restricción en cuanto al número de líneas de código que agregues, pero trata de incluir las mínimas posibles.**"
      ],
      "metadata": {
        "id": "X-eMJa3DFCIV"
      }
    },
    {
      "cell_type": "markdown",
      "source": [
        "*   **Pregunta 1.**\n",
        "\n",
        "Busca y elimina todos los saltos de línea '\\n' que se encuentran al final de cada comentario.\n",
        "\n",
        "Una vez finalizado, imprime los primeros 10 comentarios del resultado obtenido.\n"
      ],
      "metadata": {
        "id": "78nJMemzn5a5"
      }
    },
    {
      "cell_type": "code",
      "source": [
        "# Eliminar saltos de línea ('\\n') de cada comentario\n",
        "docs_limpios = [linea.strip() for linea in docs]"
      ],
      "metadata": {
        "id": "PwbYYIuZn8pE"
      },
      "execution_count": 10,
      "outputs": []
    },
    {
      "cell_type": "code",
      "source": [
        "# Mostrar los primeros 10 comentarios limpios\n",
        "print(\"Primeros 10 comentarios:\")\n",
        "for i, comentario in enumerate(docs_limpios[:10], 1):\n",
        "    print(f\"{i}. {comentario}\")"
      ],
      "metadata": {
        "id": "j-0qeh2Jn8l1",
        "colab": {
          "base_uri": "https://localhost:8080/"
        },
        "outputId": "3f76a956-36fc-42d7-b481-308634fe358d"
      },
      "execution_count": 12,
      "outputs": [
        {
          "output_type": "stream",
          "name": "stdout",
          "text": [
            "Primeros 10 comentarios:\n",
            "1. Wow... Loved this place.\n",
            "2. Crust is not good.\n",
            "3. Not tasty and the texture was just nasty.\n",
            "4. Stopped by during the late May bank holiday off Rick Steve recommendation and loved it.\n",
            "5. The selection on the menu was great and so were the prices.\n",
            "6. Now I am getting angry and I want my damn pho.\n",
            "7. Honeslty it didn't taste THAT fresh.)\n",
            "8. The potatoes were like rubber and you could tell they had been made up ahead of time being kept under a warmer.\n",
            "9. The fries were great too.\n",
            "10. A great touch.\n"
          ]
        }
      ]
    },
    {
      "cell_type": "markdown",
      "source": [
        "*   **Pregunta 2.**  \n",
        "\n",
        "Busca e imprime todas las palabras que terminan con dos o más signos de admiración seguidos, por ejemplo \"!!!\".\n",
        "\n",
        "Debes imprimir tanto la palabra como la totalidad de signos de admiración que le siguen.\n",
        "\n",
        "Indica cuántos resultados obtuviste.\n",
        "\n"
      ],
      "metadata": {
        "id": "VWeKQC93ctEo"
      }
    },
    {
      "cell_type": "code",
      "source": [
        "import re\n",
        "\n",
        "# Patron regex\n",
        "patron = r'(\\w+)(!{2,})'\n",
        "\n",
        "# Buscar en todos los comentarios\n",
        "resultados = []\n",
        "for comentario in docs_limpios:\n",
        "    coincidencias = re.findall(patron, comentario)\n",
        "    if coincidencias:\n",
        "        resultados.extend(coincidencias)\n",
        "\n",
        "# Mostrar resultados\n",
        "print(\"Palabras con 2 o mas signos de admiracion:\")\n",
        "for palabra, signos in resultados:\n",
        "    print(f\"Palabra: '{palabra}' | Signos: '{signos}'\")"
      ],
      "metadata": {
        "id": "0p3kMXfddICc",
        "colab": {
          "base_uri": "https://localhost:8080/"
        },
        "outputId": "115d1b1b-7a3a-40b8-b202-38b57987ea3a"
      },
      "execution_count": 44,
      "outputs": [
        {
          "output_type": "stream",
          "name": "stdout",
          "text": [
            "Palabras con 2 o mas signos de admiracion:\n",
            "Palabra: 'Firehouse' | Signos: '!!!!!'\n",
            "Palabra: 'APPETIZERS' | Signos: '!!!'\n",
            "Palabra: 'amazing' | Signos: '!!!'\n",
            "Palabra: 'buffet' | Signos: '!!!'\n",
            "Palabra: 'good' | Signos: '!!'\n",
            "Palabra: 'it' | Signos: '!!!!'\n",
            "Palabra: 'DELICIOUS' | Signos: '!!'\n",
            "Palabra: 'amazing' | Signos: '!!'\n",
            "Palabra: 'shawarrrrrrma' | Signos: '!!!!!!'\n",
            "Palabra: 'yucky' | Signos: '!!!'\n",
            "Palabra: 'steak' | Signos: '!!!!!'\n",
            "Palabra: 'delicious' | Signos: '!!!'\n",
            "Palabra: 'far' | Signos: '!!'\n",
            "Palabra: 'biscuits' | Signos: '!!!'\n",
            "Palabra: 'dry' | Signos: '!!'\n",
            "Palabra: 'disappointing' | Signos: '!!!'\n",
            "Palabra: 'awesome' | Signos: '!!'\n",
            "Palabra: 'Up' | Signos: '!!'\n",
            "Palabra: 'FLY' | Signos: '!!!!!!!!'\n",
            "Palabra: 'here' | Signos: '!!!'\n",
            "Palabra: 'great' | Signos: '!!!!!!!!!!!!!!'\n",
            "Palabra: 'packed' | Signos: '!!'\n",
            "Palabra: 'otherwise' | Signos: '!!'\n",
            "Palabra: 'amazing' | Signos: '!!!!!!!!!!!!!!!!!!!'\n",
            "Palabra: 'style' | Signos: '!!'\n",
            "Palabra: 'disappointed' | Signos: '!!'\n"
          ]
        }
      ]
    },
    {
      "cell_type": "code",
      "source": [
        "# Conteo\n",
        "print(f\"Total encontradas: {len(resultados)}\")"
      ],
      "metadata": {
        "id": "SPVM1MCWdH6Z",
        "colab": {
          "base_uri": "https://localhost:8080/"
        },
        "outputId": "51eac42c-5e8f-4fe0-95ca-8caf3dccf885"
      },
      "execution_count": 27,
      "outputs": [
        {
          "output_type": "stream",
          "name": "stdout",
          "text": [
            "Total encontradas: 26\n"
          ]
        }
      ]
    },
    {
      "cell_type": "markdown",
      "source": [
        "*   **Pregunta 3.**  \n",
        "\n",
        "Busca e imprime todas las palabras que están escritas totalmente en mayúsculas. Cada coincidencia debe ser una sola palabra.\n",
        "\n",
        "Indica cuántas palabras encontraste.\n",
        "\n"
      ],
      "metadata": {
        "id": "-s3okBqL96TT"
      }
    },
    {
      "cell_type": "code",
      "source": [
        "import re\n",
        "\n",
        "# Patron regex\n",
        "patron = r'\\b[A-ZÁÉÍÓÚÜÑ]+\\b'\n",
        "\n",
        "# Buscar coincidencias en todos los comentarios\n",
        "palabras_mayusculas = []\n",
        "for comentario in docs_limpios:\n",
        "    palabras = re.findall(patron, comentario)\n",
        "    palabras_mayusculas.extend(palabras)\n",
        "\n",
        "# Mostrar resultados\n",
        "print(\"Palabras en mayusculas:\")\n",
        "for i, palabra in enumerate(palabras_mayusculas[:455], 1):\n",
        "    print(f\"{i}. {palabra}\")"
      ],
      "metadata": {
        "id": "yKHJkZKo_nW5",
        "colab": {
          "base_uri": "https://localhost:8080/"
        },
        "outputId": "2a6e6186-f89d-4a9f-a8bd-eb6242dc387d"
      },
      "execution_count": 30,
      "outputs": [
        {
          "output_type": "stream",
          "name": "stdout",
          "text": [
            "Palabras en mayusculas:\n",
            "1. I\n",
            "2. I\n",
            "3. THAT\n",
            "4. A\n",
            "5. I\n",
            "6. I\n",
            "7. I\n",
            "8. I\n",
            "9. I\n",
            "10. I\n",
            "11. I\n",
            "12. I\n",
            "13. I\n",
            "14. I\n",
            "15. I\n",
            "16. I\n",
            "17. APPETIZERS\n",
            "18. A\n",
            "19. I\n",
            "20. I\n",
            "21. I\n",
            "22. I\n",
            "23. I\n",
            "24. I\n",
            "25. I\n",
            "26. WILL\n",
            "27. NEVER\n",
            "28. EVER\n",
            "29. STEP\n",
            "30. FORWARD\n",
            "31. IN\n",
            "32. IT\n",
            "33. AGAIN\n",
            "34. I\n",
            "35. LOVED\n",
            "36. I\n",
            "37. AND\n",
            "38. REAL\n",
            "39. I\n",
            "40. I\n",
            "41. I\n",
            "42. I\n",
            "43. BITCHES\n",
            "44. I\n",
            "45. I\n",
            "46. I\n",
            "47. I\n",
            "48. NYC\n",
            "49. I\n",
            "50. I\n",
            "51. I\n",
            "52. I\n",
            "53. I\n",
            "54. I\n",
            "55. I\n",
            "56. STALE\n",
            "57. I\n",
            "58. I\n",
            "59. DELICIOUS\n",
            "60. I\n",
            "61. I\n",
            "62. I\n",
            "63. I\n",
            "64. I\n",
            "65. I\n",
            "66. I\n",
            "67. I\n",
            "68. I\n",
            "69. I\n",
            "70. I\n",
            "71. I\n",
            "72. I\n",
            "73. I\n",
            "74. I\n",
            "75. WORST\n",
            "76. EXPERIENCE\n",
            "77. EVER\n",
            "78. I\n",
            "79. ALL\n",
            "80. I\n",
            "81. BARGAIN\n",
            "82. I\n",
            "83. TV\n",
            "84. NONE\n",
            "85. I\n",
            "86. M\n",
            "87. FREEZING\n",
            "88. AYCE\n",
            "89. I\n",
            "90. I\n",
            "91. I\n",
            "92. I\n",
            "93. I\n",
            "94. I\n",
            "95. I\n",
            "96. I\n",
            "97. I\n",
            "98. I\n",
            "99. I\n",
            "100. I\n",
            "101. I\n",
            "102. FLAVOR\n",
            "103. I\n",
            "104. I\n",
            "105. I\n",
            "106. I\n",
            "107. I\n",
            "108. I\n",
            "109. I\n",
            "110. I\n",
            "111. I\n",
            "112. I\n",
            "113. I\n",
            "114. I\n",
            "115. I\n",
            "116. I\n",
            "117. I\n",
            "118. I\n",
            "119. I\n",
            "120. I\n",
            "121. NEVER\n",
            "122. I\n",
            "123. I\n",
            "124. I\n",
            "125. I\n",
            "126. BBQ\n",
            "127. I\n",
            "128. A\n",
            "129. I\n",
            "130. UNREAL\n",
            "131. I\n",
            "132. I\n",
            "133. I\n",
            "134. I\n",
            "135. I\n",
            "136. I\n",
            "137. OMG\n",
            "138. I\n",
            "139. BETTER\n",
            "140. I\n",
            "141. I\n",
            "142. BLAND\n",
            "143. I\n",
            "144. I\n",
            "145. I\n",
            "146. I\n",
            "147. I\n",
            "148. I\n",
            "149. I\n",
            "150. RUDE\n",
            "151. INCONSIDERATE\n",
            "152. MANAGEMENT\n",
            "153. I\n",
            "154. I\n",
            "155. WILL\n",
            "156. NEVER\n",
            "157. EVER\n",
            "158. GO\n",
            "159. BACK\n",
            "160. AND\n",
            "161. HAVE\n",
            "162. TOLD\n",
            "163. MANY\n",
            "164. PEOPLE\n",
            "165. WHAT\n",
            "166. HAD\n",
            "167. HAPPENED\n",
            "168. I\n",
            "169. I\n",
            "170. I\n",
            "171. I\n",
            "172. I\n",
            "173. I\n",
            "174. I\n",
            "175. I\n",
            "176. I\n",
            "177. I\n",
            "178. I\n",
            "179. I\n",
            "180. I\n",
            "181. TOTAL\n",
            "182. WASTE\n",
            "183. OF\n",
            "184. TIME\n",
            "185. I\n",
            "186. I\n",
            "187. I\n",
            "188. I\n",
            "189. I\n",
            "190. I\n",
            "191. I\n",
            "192. I\n",
            "193. I\n",
            "194. I\n",
            "195. I\n",
            "196. I\n",
            "197. I\n",
            "198. I\n",
            "199. I\n",
            "200. FS\n",
            "201. I\n",
            "202. I\n",
            "203. I\n",
            "204. I\n",
            "205. I\n",
            "206. I\n",
            "207. I\n",
            "208. I\n",
            "209. I\n",
            "210. AZ\n",
            "211. I\n",
            "212. I\n",
            "213. I\n",
            "214. I\n",
            "215. LOVED\n",
            "216. I\n",
            "217. I\n",
            "218. I\n",
            "219. I\n",
            "220. I\n",
            "221. I\n",
            "222. CONCLUSION\n",
            "223. I\n",
            "224. I\n",
            "225. I\n",
            "226. I\n",
            "227. I\n",
            "228. I\n",
            "229. BEST\n",
            "230. I\n",
            "231. GO\n",
            "232. NOW\n",
            "233. A\n",
            "234. I\n",
            "235. I\n",
            "236. GC\n",
            "237. I\n",
            "238. I\n",
            "239. I\n",
            "240. I\n",
            "241. I\n",
            "242. I\n",
            "243. I\n",
            "244. I\n",
            "245. I\n",
            "246. I\n",
            "247. I\n",
            "248. AVOID\n",
            "249. THIS\n",
            "250. ESTABLISHMENT\n",
            "251. I\n",
            "252. I\n",
            "253. I\n",
            "254. A\n",
            "255. I\n",
            "256. I\n",
            "257. AN\n",
            "258. HOUR\n",
            "259. I\n",
            "260. I\n",
            "261. I\n",
            "262. I\n",
            "263. I\n",
            "264. I\n",
            "265. I\n",
            "266. I\n",
            "267. NASTY\n",
            "268. OMG\n",
            "269. I\n",
            "270. I\n",
            "271. NO\n",
            "272. I\n",
            "273. I\n",
            "274. I\n",
            "275. BEST\n",
            "276. I\n",
            "277. I\n",
            "278. I\n",
            "279. I\n",
            "280. THE\n",
            "281. OWNERS\n",
            "282. REALLY\n",
            "283. REALLY\n",
            "284. I\n",
            "285. I\n",
            "286. I\n",
            "287. I\n",
            "288. I\n",
            "289. I\n",
            "290. I\n",
            "291. I\n",
            "292. I\n",
            "293. I\n",
            "294. I\n",
            "295. I\n",
            "296. PERFECT\n",
            "297. SCREAMS\n",
            "298. LEGIT\n",
            "299. I\n",
            "300. MGM\n",
            "301. I\n",
            "302. I\n",
            "303. I\n",
            "304. A\n",
            "305. I\n",
            "306. I\n",
            "307. I\n",
            "308. I\n",
            "309. I\n",
            "310. I\n",
            "311. I\n",
            "312. I\n",
            "313. I\n",
            "314. I\n",
            "315. I\n",
            "316. I\n",
            "317. BEST\n",
            "318. I\n",
            "319. I\n",
            "320. T\n",
            "321. A\n",
            "322. FLY\n",
            "323. A\n",
            "324. FLY\n",
            "325. I\n",
            "326. I\n",
            "327. I\n",
            "328. I\n",
            "329. I\n",
            "330. I\n",
            "331. I\n",
            "332. I\n",
            "333. I\n",
            "334. I\n",
            "335. I\n",
            "336. I\n",
            "337. FANTASTIC\n",
            "338. I\n",
            "339. I\n",
            "340. I\n",
            "341. I\n",
            "342. GREAT\n",
            "343. OK\n",
            "344. I\n",
            "345. I\n",
            "346. WAY\n",
            "347. I\n",
            "348. I\n",
            "349. MUST\n",
            "350. HAVE\n",
            "351. I\n",
            "352. I\n",
            "353. I\n",
            "354. I\n",
            "355. I\n",
            "356. I\n",
            "357. OK\n",
            "358. I\n",
            "359. I\n",
            "360. I\n",
            "361. I\n",
            "362. OVERPRICED\n",
            "363. I\n",
            "364. I\n",
            "365. I\n",
            "366. I\n",
            "367. I\n",
            "368. I\n",
            "369. I\n",
            "370. I\n",
            "371. I\n",
            "372. I\n",
            "373. I\n",
            "374. I\n",
            "375. I\n",
            "376. I\n",
            "377. I\n",
            "378. I\n",
            "379. I\n",
            "380. I\n",
            "381. I\n",
            "382. I\n",
            "383. I\n",
            "384. I\n",
            "385. I\n",
            "386. I\n",
            "387. I\n",
            "388. BARE\n",
            "389. HANDS\n",
            "390. I\n",
            "391. I\n",
            "392. I\n",
            "393. I\n",
            "394. I\n",
            "395. I\n",
            "396. I\n",
            "397. I\n",
            "398. I\n",
            "399. I\n",
            "400. I\n",
            "401. I\n",
            "402. I\n",
            "403. I\n",
            "404. I\n",
            "405. WEAK\n",
            "406. I\n",
            "407. I\n",
            "408. I\n",
            "409. I\n",
            "410. I\n",
            "411. I\n",
            "412. I\n",
            "413. I\n",
            "414. SHOULD\n",
            "415. I\n",
            "416. I\n",
            "417. I\n",
            "418. RI\n",
            "419. I\n",
            "420. I\n",
            "421. I\n",
            "422. I\n",
            "423. I\n",
            "424. I\n",
            "425. I\n",
            "426. VERY\n",
            "427. I\n",
            "428. I\n",
            "429. I\n",
            "430. NOT\n",
            "431. I\n",
            "432. I\n",
            "433. I\n",
            "434. I\n",
            "435. I\n",
            "436. I\n",
            "437. I\n",
            "438. I\n",
            "439. I\n",
            "440. I\n",
            "441. I\n",
            "442. I\n",
            "443. I\n",
            "444. I\n",
            "445. I\n",
            "446. I\n",
            "447. I\n",
            "448. I\n",
            "449. A\n",
            "450. I\n",
            "451. I\n",
            "452. I\n",
            "453. I\n",
            "454. I\n",
            "455. I\n"
          ]
        }
      ]
    },
    {
      "cell_type": "code",
      "source": [
        "# Conteo final\n",
        "print(f\"Total de palabras en mayusculas encontradas: {len(palabras_mayusculas)}\")"
      ],
      "metadata": {
        "id": "L3q08aq69sNn",
        "colab": {
          "base_uri": "https://localhost:8080/"
        },
        "outputId": "7773aa13-60df-4e53-cb56-68f64a1f408c"
      },
      "execution_count": 28,
      "outputs": [
        {
          "output_type": "stream",
          "name": "stdout",
          "text": [
            "Total de palabras en mayusculas encontradas: 455\n"
          ]
        }
      ]
    },
    {
      "cell_type": "markdown",
      "source": [
        "*   **Pregunta 4.**  \n",
        "\n",
        "Busca e imprime los comentarios en donde todos los caracteres alfabéticos (letras) están en mayúsculas.\n",
        "\n",
        "Cada coincidencia encontrada debe ser todo el comentario/enunciado.\n",
        "\n",
        "Indica cuántos resultados obtuviste.\n"
      ],
      "metadata": {
        "id": "GX8eYyDoMZma"
      }
    },
    {
      "cell_type": "code",
      "source": [
        "import re\n",
        "\n",
        "# Funcion para verificar\n",
        "def es_completamente_mayusculas(texto):\n",
        "    letras = re.findall(r'[a-zA-ZáéíóúüñÁÉÍÓÚÜÑ]', texto)\n",
        "    if not letras:\n",
        "        return False\n",
        "    # Verifica mayusculas\n",
        "    return all(letra.isupper() for letra in letras)\n",
        "\n",
        "# Filtrar comentarios\n",
        "comentarios_mayusculas = [com for com in docs_limpios if es_completamente_mayusculas(com)]\n",
        "\n",
        "# Mostrar resultados\n",
        "print(\"Comentarios en mayusculas:\")\n",
        "for i, comentario in enumerate(comentarios_mayusculas[:5], 1):\n",
        "    print(f\"{i}. {comentario}\")"
      ],
      "metadata": {
        "id": "K8VuZxvTMYj6",
        "colab": {
          "base_uri": "https://localhost:8080/"
        },
        "outputId": "3937c5ed-3004-4c70-82d4-05117eea0f61"
      },
      "execution_count": 31,
      "outputs": [
        {
          "output_type": "stream",
          "name": "stdout",
          "text": [
            "Comentarios en mayusculas:\n",
            "1. DELICIOUS!!\n",
            "2. RUDE & INCONSIDERATE MANAGEMENT.\n",
            "3. WILL NEVER EVER GO BACK AND HAVE TOLD MANY PEOPLE WHAT HAD HAPPENED.\n",
            "4. TOTAL WASTE OF TIME.\n",
            "5. AVOID THIS ESTABLISHMENT!\n"
          ]
        }
      ]
    },
    {
      "cell_type": "code",
      "source": [
        "# Conteo\n",
        "print(f\"Total de comentarios en mayusculas: {len(comentarios_mayusculas)}\")"
      ],
      "metadata": {
        "id": "PmKgX7sCMcDx",
        "colab": {
          "base_uri": "https://localhost:8080/"
        },
        "outputId": "2aa30ede-109b-4620-8b94-b6fb634d9a92"
      },
      "execution_count": 43,
      "outputs": [
        {
          "output_type": "stream",
          "name": "stdout",
          "text": [
            "Total de comentarios en mayusculas: 5\n"
          ]
        }
      ]
    },
    {
      "cell_type": "markdown",
      "source": [
        "*   **Pregunta 5.**  \n",
        "\n",
        "Busca e imprime todas las palabras que tengan una vocal acentuada, del tipo á, é, í, ó, ú.\n",
        "\n",
        "Indica cuántos resultados obtuviste."
      ],
      "metadata": {
        "id": "a1i6qv7-McmU"
      }
    },
    {
      "cell_type": "code",
      "source": [
        "import re\n",
        "\n",
        "# Patron regex\n",
        "patron = r'\\b\\w*[áéíóúÁÉÍÓÚ]\\w*\\b'\n",
        "\n",
        "# Buscar coincidencias en todos los comentarios\n",
        "palabras_con_acento = []\n",
        "for comentario in docs_limpios:\n",
        "    palabras = re.findall(patron, comentario)\n",
        "    if palabras:\n",
        "        palabras_con_acento.extend(palabras)\n",
        "\n",
        "# Mostrar resultados\n",
        "print(\"Palabras con vocales acentuadas:\")\n",
        "for i, palabra in enumerate(palabras_con_acento[:3], 1):\n",
        "    print(f\"{i}. {palabra}\")\n"
      ],
      "metadata": {
        "id": "nZZ5zKUOMeGD",
        "colab": {
          "base_uri": "https://localhost:8080/"
        },
        "outputId": "7de0caf5-135e-4b2e-d6ef-c66b0b7fdb4d"
      },
      "execution_count": 32,
      "outputs": [
        {
          "output_type": "stream",
          "name": "stdout",
          "text": [
            "Palabras con vocales acentuadas:\n",
            "1. fiancé\n",
            "2. Café\n",
            "3. puréed\n"
          ]
        }
      ]
    },
    {
      "cell_type": "code",
      "source": [
        "# Conteo\n",
        "print(f\"Total de palabras con acentos encontradas: {len(palabras_con_acento)}\")"
      ],
      "metadata": {
        "id": "l1mFvUEZMe8s",
        "colab": {
          "base_uri": "https://localhost:8080/"
        },
        "outputId": "c84324f6-2481-46f4-a6dd-5c29a1102ad3"
      },
      "execution_count": 33,
      "outputs": [
        {
          "output_type": "stream",
          "name": "stdout",
          "text": [
            "Total de palabras con acentos encontradas: 3\n"
          ]
        }
      ]
    },
    {
      "cell_type": "markdown",
      "source": [
        "*   **Pregunta 6.**  \n",
        "\n",
        "Busca e imprime todas las cantidades numéricas monetarias, enteras o con decimales, que inician con el símbolo $\\$$.\n",
        "\n",
        "Indica cuántos resultados obtuviste."
      ],
      "metadata": {
        "id": "ZmPiAI82Mfb3"
      }
    },
    {
      "cell_type": "code",
      "source": [
        "import re\n",
        "\n",
        "# Patron regex\n",
        "patron = r'\\$\\d{1,3}(?:,\\d{3})*(?:\\.\\d+)?'\n",
        "\n",
        "# Buscar coincidencias en todos los comentarios\n",
        "cantidades = []\n",
        "for comentario in docs_limpios:\n",
        "    coincidencias = re.findall(patron, comentario)\n",
        "    if coincidencias:\n",
        "        cantidades.extend(coincidencias)\n",
        "\n",
        "# Mostrar resultados\n",
        "print(\"Cantidades monetarias con simbolo $:\")\n",
        "for i, cantidad in enumerate(cantidades[:8], 1):\n",
        "    print(f\"{i}. {cantidad}\")"
      ],
      "metadata": {
        "id": "6vhe9-Y-MhL9",
        "colab": {
          "base_uri": "https://localhost:8080/"
        },
        "outputId": "40c37203-7376-4f61-ffae-1f081933d0b1"
      },
      "execution_count": 37,
      "outputs": [
        {
          "output_type": "stream",
          "name": "stdout",
          "text": [
            "Cantidades monetarias con simbolo $:\n",
            "1. $20\n",
            "2. $4.00\n",
            "3. $17\n",
            "4. $3\n",
            "5. $35\n",
            "6. $7.85\n",
            "7. $12\n",
            "8. $11.99\n"
          ]
        }
      ]
    },
    {
      "cell_type": "code",
      "source": [
        "# Conteo\n",
        "print(f\"Total de cantidades encontradas: {len(cantidades)}\")"
      ],
      "metadata": {
        "id": "_t0a5xWDMhQ5",
        "colab": {
          "base_uri": "https://localhost:8080/"
        },
        "outputId": "0e647ba3-16c4-48b6-8d6a-336456021071"
      },
      "execution_count": 36,
      "outputs": [
        {
          "output_type": "stream",
          "name": "stdout",
          "text": [
            "Total de cantidades encontradas: 8\n"
          ]
        }
      ]
    },
    {
      "cell_type": "markdown",
      "source": [
        "*   **Pregunta 7.**  \n",
        "\n",
        "Busca e imprime todas las palabras que sean variantes de la palabra \"love\", sin importar si incluyen mayúsculas o minúsculas, o la manera en que esté conjugada o alguna otra variación que se haga con dicha palabra.\n",
        "\n",
        "Indica cuántos resultados obtuviste."
      ],
      "metadata": {
        "id": "2j-HpvhwMhq2"
      }
    },
    {
      "cell_type": "code",
      "source": [
        "import re\n",
        "\n",
        "# Patron regex\n",
        "patron = r'\\b[l][oóv]+[a-z]*\\b'\n",
        "palabras_love = []\n",
        "\n",
        "# Busqueda mayusculas/minusculas\n",
        "for comentario in docs_limpios:\n",
        "    coincidencias = re.findall(patron, comentario, flags=re.IGNORECASE)\n",
        "    if coincidencias:\n",
        "        palabras_love.extend(coincidencias)\n",
        "\n",
        "# Filtrado manual\n",
        "variantes_validas = [\n",
        "    palabra for palabra in palabras_love\n",
        "    if re.search(r'lov', palabra.lower())\n",
        "]\n",
        "\n",
        "# Resultados\n",
        "print(\"Variantes de la palabra 'love':\")\n",
        "for i, palabra in enumerate(variantes_validas[:36], 1):\n",
        "    print(f\"{i}. {palabra}\")\n",
        "\n"
      ],
      "metadata": {
        "id": "kqqyRChVMjol",
        "colab": {
          "base_uri": "https://localhost:8080/"
        },
        "outputId": "11e37dae-199c-483f-feb7-767ccf9b790a"
      },
      "execution_count": 41,
      "outputs": [
        {
          "output_type": "stream",
          "name": "stdout",
          "text": [
            "Variantes de la palabra 'love':\n",
            "1. Loved\n",
            "2. loved\n",
            "3. Loved\n",
            "4. love\n",
            "5. loves\n",
            "6. LOVED\n",
            "7. lovers\n",
            "8. loving\n",
            "9. love\n",
            "10. lovers\n",
            "11. Love\n",
            "12. loved\n",
            "13. loved\n",
            "14. love\n",
            "15. love\n",
            "16. love\n",
            "17. loved\n",
            "18. love\n",
            "19. loved\n",
            "20. Love\n",
            "21. LOVED\n",
            "22. love\n",
            "23. lovely\n",
            "24. love\n",
            "25. lovely\n",
            "26. love\n",
            "27. lover\n",
            "28. loved\n",
            "29. love\n",
            "30. love\n",
            "31. love\n",
            "32. love\n",
            "33. love\n",
            "34. love\n",
            "35. love\n",
            "36. love\n"
          ]
        }
      ]
    },
    {
      "cell_type": "code",
      "source": [
        "# Conteo\n",
        "print(f\"Total de variantes de 'love': {len(variantes_validas)}\")"
      ],
      "metadata": {
        "id": "UXd0VQluMj_x",
        "colab": {
          "base_uri": "https://localhost:8080/"
        },
        "outputId": "1d6dc1ae-8c3f-42f0-c19a-debd060b31e9"
      },
      "execution_count": 42,
      "outputs": [
        {
          "output_type": "stream",
          "name": "stdout",
          "text": [
            "Total de variantes de 'love': 36\n"
          ]
        }
      ]
    },
    {
      "cell_type": "markdown",
      "source": [
        "*   **Pregunta 8.**  \n",
        "\n",
        "Busca e imprime todas las palabras, variantes de \"so\" y \"good\", que tengan dos o más \"o\" en \"so\" y 3 o más \"o\" en good.\n",
        "\n",
        "Indica cuántas encontraste.\n"
      ],
      "metadata": {
        "id": "Ctb-NTY3MkYG"
      }
    },
    {
      "cell_type": "code",
      "source": [
        "import re\n",
        "\n",
        "# Patrones regex\n",
        "patron_so = r'\\b[sS][oO]{1,}\\b'\n",
        "patron_good = r'\\b[gG][oO]{1,}[dD]?\\b'\n",
        "\n",
        "# Busqueda en los comentarios\n",
        "variantes_so = []\n",
        "variantes_good = []\n",
        "\n",
        "for comentario in docs_limpios:\n",
        "    # Busca variantes \"so\"\n",
        "    coincidencias_so = re.findall(patron_so, comentario, flags=re.IGNORECASE)\n",
        "    variantes_so.extend(coincidencias_so)\n",
        "\n",
        "    # Busca variantes \"good\"\n",
        "    coincidencias_good = re.findall(patron_good, comentario, flags=re.IGNORECASE)\n",
        "    variantes_good.extend(coincidencias_good)\n",
        "\n",
        "# Resultados\n",
        "print(\"Palabra 'so' con sus variantes:\")\n",
        "for i, palabra in enumerate(variantes_so[:70], 1):\n",
        "    print(f\"{i}. {palabra}\")\n",
        "\n",
        "print(\"\\nPalabra 'good' con sus variantes:\")\n",
        "for i, palabra in enumerate(variantes_good[:139], 1):\n",
        "    print(f\"{i}. {palabra}\")\n"
      ],
      "metadata": {
        "id": "A8Nf3B_cMlqg",
        "colab": {
          "base_uri": "https://localhost:8080/"
        },
        "outputId": "decbe2ea-612a-4414-e06e-e535e9fa2753"
      },
      "execution_count": 58,
      "outputs": [
        {
          "output_type": "stream",
          "name": "stdout",
          "text": [
            "Palabra 'so' con sus variantes:\n",
            "1. so\n",
            "2. so\n",
            "3. So\n",
            "4. so\n",
            "5. so\n",
            "6. so\n",
            "7. so\n",
            "8. so\n",
            "9. so\n",
            "10. so\n",
            "11. So\n",
            "12. Sooooo\n",
            "13. so\n",
            "14. so\n",
            "15. so\n",
            "16. so\n",
            "17. So\n",
            "18. so\n",
            "19. so\n",
            "20. so\n",
            "21. so\n",
            "22. so\n",
            "23. so\n",
            "24. so\n",
            "25. so\n",
            "26. so\n",
            "27. so\n",
            "28. so\n",
            "29. soooo\n",
            "30. so\n",
            "31. so\n",
            "32. so\n",
            "33. so\n",
            "34. so\n",
            "35. So\n",
            "36. so\n",
            "37. so\n",
            "38. so\n",
            "39. so\n",
            "40. so\n",
            "41. so\n",
            "42. so\n",
            "43. so\n",
            "44. so\n",
            "45. soooooo\n",
            "46. so\n",
            "47. so\n",
            "48. so\n",
            "49. so\n",
            "50. so\n",
            "51. so\n",
            "52. so\n",
            "53. so\n",
            "54. soooo\n",
            "55. so\n",
            "56. so\n",
            "57. so\n",
            "58. So\n",
            "59. so\n",
            "60. So\n",
            "61. so\n",
            "62. so\n",
            "63. so\n",
            "64. so\n",
            "65. so\n",
            "66. so\n",
            "67. So\n",
            "68. so\n",
            "69. so\n",
            "70. so\n",
            "\n",
            "Palabra 'good' con sus variantes:\n",
            "1. good\n",
            "2. go\n",
            "3. good\n",
            "4. good\n",
            "5. good\n",
            "6. good\n",
            "7. good\n",
            "8. good\n",
            "9. go\n",
            "10. good\n",
            "11. go\n",
            "12. good\n",
            "13. good\n",
            "14. good\n",
            "15. good\n",
            "16. go\n",
            "17. good\n",
            "18. good\n",
            "19. go\n",
            "20. good\n",
            "21. go\n",
            "22. good\n",
            "23. good\n",
            "24. Good\n",
            "25. good\n",
            "26. good\n",
            "27. good\n",
            "28. good\n",
            "29. good\n",
            "30. go\n",
            "31. good\n",
            "32. go\n",
            "33. good\n",
            "34. go\n",
            "35. good\n",
            "36. good\n",
            "37. go\n",
            "38. good\n",
            "39. good\n",
            "40. go\n",
            "41. good\n",
            "42. Good\n",
            "43. good\n",
            "44. go\n",
            "45. good\n",
            "46. go\n",
            "47. good\n",
            "48. Good\n",
            "49. good\n",
            "50. Good\n",
            "51. go\n",
            "52. go\n",
            "53. good\n",
            "54. good\n",
            "55. good\n",
            "56. go\n",
            "57. good\n",
            "58. good\n",
            "59. go\n",
            "60. good\n",
            "61. good\n",
            "62. good\n",
            "63. GO\n",
            "64. go\n",
            "65. good\n",
            "66. good\n",
            "67. go\n",
            "68. good\n",
            "69. good\n",
            "70. good\n",
            "71. go\n",
            "72. good\n",
            "73. good\n",
            "74. good\n",
            "75. good\n",
            "76. good\n",
            "77. go\n",
            "78. GO\n",
            "79. go\n",
            "80. good\n",
            "81. go\n",
            "82. go\n",
            "83. good\n",
            "84. good\n",
            "85. go\n",
            "86. good\n",
            "87. good\n",
            "88. go\n",
            "89. good\n",
            "90. Good\n",
            "91. good\n",
            "92. good\n",
            "93. good\n",
            "94. go\n",
            "95. good\n",
            "96. good\n",
            "97. good\n",
            "98. go\n",
            "99. go\n",
            "100. good\n",
            "101. good\n",
            "102. Good\n",
            "103. good\n",
            "104. good\n",
            "105. go\n",
            "106. go\n",
            "107. good\n",
            "108. good\n",
            "109. go\n",
            "110. good\n",
            "111. good\n",
            "112. good\n",
            "113. good\n",
            "114. go\n",
            "115. good\n",
            "116. good\n",
            "117. good\n",
            "118. good\n",
            "119. good\n",
            "120. good\n",
            "121. good\n",
            "122. go\n",
            "123. good\n",
            "124. good\n",
            "125. go\n",
            "126. good\n",
            "127. go\n",
            "128. Go\n",
            "129. good\n",
            "130. good\n",
            "131. good\n",
            "132. good\n",
            "133. go\n",
            "134. good\n",
            "135. go\n",
            "136. go\n",
            "137. good\n",
            "138. go\n",
            "139. go\n"
          ]
        }
      ]
    },
    {
      "cell_type": "code",
      "source": [
        "# Conteo\n",
        "print(f\"Total de variantes de 'so': {len(variantes_so)}\")\n",
        "print(f\"\\nTotal de variantes de 'good': {len(variantes_good)}\")"
      ],
      "metadata": {
        "id": "svS4-vvPMl6f",
        "colab": {
          "base_uri": "https://localhost:8080/"
        },
        "outputId": "62e12c84-720e-40b0-8e3c-139882ff8066"
      },
      "execution_count": 56,
      "outputs": [
        {
          "output_type": "stream",
          "name": "stdout",
          "text": [
            "Total de variantes de 'so': 70\n",
            "\n",
            "Total de variantes de 'good': 139\n"
          ]
        }
      ]
    },
    {
      "cell_type": "markdown",
      "source": [
        "*   **Pregunta 9.**  \n",
        "\n",
        "Busca e imprime todas las palabras que tengan una longitud mayor estrictamente a 10 caracteres alfabéticos.\n",
        "\n",
        "No se consideran los signos de puntuación o caracteres especiales en la longitud de estas cadenas, solo caracteres alfabéticos en mayúsculas o minúsculas.\n",
        "\n",
        "Indica la cantidad de palabras encontradas.\n"
      ],
      "metadata": {
        "id": "hkak1opjMmlk"
      }
    },
    {
      "cell_type": "code",
      "source": [
        "import re\n",
        "\n",
        "# Extraer las palabras\n",
        "palabras = re.findall(r\"[a-zA-ZáéíóúüñÁÉÍÓÚÜÑ]+\", ' '.join(docs_limpios))\n",
        "\n",
        "# Filtramos palabras con > 10 caracteres\n",
        "palabras_largas = [palabra for palabra in palabras if len(palabra) > 10]\n",
        "\n",
        "# Mostrar resultados\n",
        "print(\"Palabras con mas de 10 caracteres alfabeticos:\")\n",
        "for i, palabra in enumerate(palabras_largas[:141], 1):\n",
        "    print(f\"{i}. {palabra}\")\n",
        "\n"
      ],
      "metadata": {
        "id": "PYxdp3uhMoD0",
        "colab": {
          "base_uri": "https://localhost:8080/"
        },
        "outputId": "f9dbc809-9e0a-4a53-a8f6-5a5cdecebefe"
      },
      "execution_count": 61,
      "outputs": [
        {
          "output_type": "stream",
          "name": "stdout",
          "text": [
            "Palabras con mas de 10 caracteres alfabeticos:\n",
            "1. recommendation\n",
            "2. recommended\n",
            "3. overwhelmed\n",
            "4. inexpensive\n",
            "5. establishment\n",
            "6. imaginative\n",
            "7. opportunity\n",
            "8. experiencing\n",
            "9. underwhelming\n",
            "10. relationship\n",
            "11. unsatisfying\n",
            "12. disappointing\n",
            "13. outrageously\n",
            "14. disappointing\n",
            "15. expectations\n",
            "16. restaurants\n",
            "17. suggestions\n",
            "18. disappointed\n",
            "19. considering\n",
            "20. Unfortunately\n",
            "21. immediately\n",
            "22. ingredients\n",
            "23. accommodations\n",
            "24. maintaining\n",
            "25. Interesting\n",
            "26. disrespected\n",
            "27. accordingly\n",
            "28. unbelievable\n",
            "29. cheeseburger\n",
            "30. descriptions\n",
            "31. inexpensive\n",
            "32. disappointed\n",
            "33. Veggitarian\n",
            "34. outstanding\n",
            "35. recommendation\n",
            "36. disappointed\n",
            "37. disappointed\n",
            "38. neighborhood\n",
            "39. disappointed\n",
            "40. corporation\n",
            "41. considering\n",
            "42. exceptional\n",
            "43. shawarrrrrrma\n",
            "44. disappointed\n",
            "45. vinaigrette\n",
            "46. immediately\n",
            "47. unbelievably\n",
            "48. replenished\n",
            "49. disappointed\n",
            "50. enthusiastic\n",
            "51. Outstanding\n",
            "52. comfortable\n",
            "53. interesting\n",
            "54. INCONSIDERATE\n",
            "55. considering\n",
            "56. transcendant\n",
            "57. disappointment\n",
            "58. disappointed\n",
            "59. disappointed\n",
            "60. overwhelmed\n",
            "61. professional\n",
            "62. Furthermore\n",
            "63. combination\n",
            "64. connoisseur\n",
            "65. profiterole\n",
            "66. outstanding\n",
            "67. acknowledged\n",
            "68. ventilation\n",
            "69. beautifully\n",
            "70. establishment\n",
            "71. extraordinary\n",
            "72. disappointed\n",
            "73. cheesecurds\n",
            "74. disappointed\n",
            "75. interesting\n",
            "76. experienced\n",
            "77. opportunity\n",
            "78. disgraceful\n",
            "79. restaurants\n",
            "80. ESTABLISHMENT\n",
            "81. recommended\n",
            "82. disappointed\n",
            "83. recommended\n",
            "84. acknowledged\n",
            "85. presentation\n",
            "86. Philadelphia\n",
            "87. disappointed\n",
            "88. disappointing\n",
            "89. grandmother\n",
            "90. drastically\n",
            "91. informative\n",
            "92. Disappointed\n",
            "93. constructed\n",
            "94. comfortable\n",
            "95. Smashburger\n",
            "96. cheeseburger\n",
            "97. neighborhood\n",
            "98. disappointed\n",
            "99. hospitality\n",
            "100. recommending\n",
            "101. disappointed\n",
            "102. deliciously\n",
            "103. compliments\n",
            "104. recommendation\n",
            "105. establishment\n",
            "106. calligraphy\n",
            "107. traditional\n",
            "108. combination\n",
            "109. Unfortunately\n",
            "110. Wienerschnitzel\n",
            "111. unfortunately\n",
            "112. considering\n",
            "113. highlighted\n",
            "114. Mediterranean\n",
            "115. unprofessional\n",
            "116. anticipated\n",
            "117. disappointing\n",
            "118. unexperienced\n",
            "119. disrespected\n",
            "120. professional\n",
            "121. restaurants\n",
            "122. Disappointing\n",
            "123. WAAAAAAyyyyyyyyyy\n",
            "124. reservation\n",
            "125. imagination\n",
            "126. undercooked\n",
            "127. disappointed\n",
            "128. disappointment\n",
            "129. disappointment\n",
            "130. deuchebaggery\n",
            "131. disappointed\n",
            "132. disappointment\n",
            "133. immediately\n",
            "134. Unfortunately\n",
            "135. disapppointment\n",
            "136. circumstances\n",
            "137. undercooked\n",
            "138. caterpillar\n",
            "139. presentation\n",
            "140. disappointed\n",
            "141. underwhelming\n"
          ]
        }
      ]
    },
    {
      "cell_type": "code",
      "source": [
        "# Conteo\n",
        "print(f\"Total de palabras encontradas: {len(palabras_largas)}\")"
      ],
      "metadata": {
        "id": "BR7e2F4FMof-",
        "colab": {
          "base_uri": "https://localhost:8080/"
        },
        "outputId": "2dba2d13-3cab-40fd-f7d5-360af1bff5ce"
      },
      "execution_count": 60,
      "outputs": [
        {
          "output_type": "stream",
          "name": "stdout",
          "text": [
            "Total de palabras encontradas: 141\n"
          ]
        }
      ]
    },
    {
      "cell_type": "markdown",
      "source": [
        "*   **Pregunta 10.**  \n",
        "\n",
        "Busca e imprime todas las palabras que inician con una letra mayúscula y terminan con una minúscula, pero que además no sea la primera palabra del comentario/string.\n",
        "\n",
        "Indica la cantidad de resultados obtenidos."
      ],
      "metadata": {
        "id": "ApjTNzSxMpDc"
      }
    },
    {
      "cell_type": "code",
      "source": [
        "import re\n",
        "\n",
        "palabras_cumplen = []\n",
        "\n",
        "for comentario in docs_limpios:\n",
        "    # Dividir el comentario en palabras\n",
        "    palabras = comentario.split()\n",
        "\n",
        "    for i in range(1, len(palabras)):\n",
        "        palabra = palabras[i]\n",
        "        if (palabra[0].isupper() and palabra[-1].islower()):\n",
        "            palabras_cumplen.append(palabra)\n",
        "\n",
        "# Mostrar resultados\n",
        "print(\"Palabras que inician con mayusucla y terminan en minuscula:\")\n",
        "for i, palabra in enumerate(palabras_cumplen[:234], 1):\n",
        "    print(f\"{i}. {palabra}\")"
      ],
      "metadata": {
        "id": "Vb0ndRGAMqdL",
        "colab": {
          "base_uri": "https://localhost:8080/"
        },
        "outputId": "2781e4c8-028a-48d9-e1e1-8aad909c8d3b"
      },
      "execution_count": 64,
      "outputs": [
        {
          "output_type": "stream",
          "name": "stdout",
          "text": [
            "Palabras que inician con mayusucla y terminan en minuscula:\n",
            "1. Loved\n",
            "2. May\n",
            "3. Rick\n",
            "4. Steve\n",
            "5. Cape\n",
            "6. Cod\n",
            "7. Burrittos\n",
            "8. The\n",
            "9. They\n",
            "10. Mexican\n",
            "11. Luke\n",
            "12. Our\n",
            "13. Hiro\n",
            "14. Greek\n",
            "15. Greek\n",
            "16. Heart\n",
            "17. Attack\n",
            "18. Grill\n",
            "19. Vegas\n",
            "20. Dos\n",
            "21. Jeff\n",
            "22. Very\n",
            "23. Bad\n",
            "24. Customer\n",
            "25. Service\n",
            "26. I've\n",
            "27. Vegas\n",
            "28. Rice\n",
            "29. Pho\n",
            "30. Hard\n",
            "31. Rock\n",
            "32. Casino\n",
            "33. Buffet\n",
            "34. Tigerlilly\n",
            "35. Yama\n",
            "36. Thai\n",
            "37. Indian\n",
            "38. Not\n",
            "39. I'll\n",
            "40. I'm\n",
            "41. Lox\n",
            "42. Subway\n",
            "43. Mandalay\n",
            "44. Great\n",
            "45. Voodoo\n",
            "46. I'd\n",
            "47. Phoenix\n",
            "48. Vegas\n",
            "49. Khao\n",
            "50. Soi\n",
            "51. I'm\n",
            "52. Lemon\n",
            "53. Joey's\n",
            "54. Valley\n",
            "55. Phoenix\n",
            "56. Fridays\n",
            "57. I've\n",
            "58. Jamaican\n",
            "59. Bussell\n",
            "60. Filet\n",
            "61. Otto\n",
            "62. M's\n",
            "63. Not\n",
            "64. Greek\n",
            "65. Veggitarian\n",
            "66. Madison\n",
            "67. Jenni\n",
            "68. Bachi\n",
            "69. Burger\n",
            "70. Pizza\n",
            "71. They\n",
            "72. Bachi\n",
            "73. I'd\n",
            "74. English\n",
            "75. I've\n",
            "76. I've\n",
            "77. Pizza\n",
            "78. Hut\n",
            "79. Seat\n",
            "80. I've\n",
            "81. Vegas.....there\n",
            "82. Gordon\n",
            "83. Ramsey's\n",
            "84. Steak\n",
            "85. I've\n",
            "86. Outstanding\n",
            "87. Best\n",
            "88. Food\n",
            "89. I'll\n",
            "90. Lobster\n",
            "91. Bisque\n",
            "92. Eggplant\n",
            "93. Green\n",
            "94. Bean\n",
            "95. I'm\n",
            "96. Vegas\n",
            "97. Vegas\n",
            "98. Crystals\n",
            "99. Ians\n",
            "100. I'm\n",
            "101. San\n",
            "102. Francisco\n",
            "103. Bay\n",
            "104. Buldogis\n",
            "105. Gourmet\n",
            "106. Hot\n",
            "107. Dog\n",
            "108. I'm\n",
            "109. I've\n",
            "110. Steiners\n",
            "111. I'll\n",
            "112. Carly's\n",
            "113. Vegas\n",
            "114. Camelback\n",
            "115. Flower\n",
            "116. Shop\n",
            "117. Cartel\n",
            "118. Las\n",
            "119. I've\n",
            "120. Very\n",
            "121. Mom's\n",
            "122. Vegas\n",
            "123. Mexican\n",
            "124. I'm\n",
            "125. Perfect\n",
            "126. Vegas\n",
            "127. This\n",
            "128. I'm\n",
            "129. Thai\n",
            "130. I'll\n",
            "131. Thai\n",
            "132. Crema\n",
            "133. Café\n",
            "134. North\n",
            "135. Bloody\n",
            "136. Pho\n",
            "137. Caesar\n",
            "138. Macarons\n",
            "139. Very\n",
            "140. Disappointed\n",
            "141. Big\n",
            "142. Bay\n",
            "143. Italian\n",
            "144. Baba\n",
            "145. Ganoush\n",
            "146. Smashburger\n",
            "147. I've\n",
            "148. I'm\n",
            "149. Panna\n",
            "150. Cotta\n",
            "151. Mango\n",
            "152. Pineapple\n",
            "153. Delight\n",
            "154. I've\n",
            "155. The\n",
            "156. Strip\n",
            "157. Paradise\n",
            "158. Valley\n",
            "159. Cibo\n",
            "160. Thumbs\n",
            "161. Italian\n",
            "162. Pros\n",
            "163. Large\n",
            "164. Nice\n",
            "165. Great\n",
            "166. The\n",
            "167. Elk\n",
            "168. Filet\n",
            "169. Dylan\n",
            "170. All\n",
            "171. Han\n",
            "172. Nan\n",
            "173. Chicken\n",
            "174. Bar\n",
            "175. Edinburgh\n",
            "176. Chinese\n",
            "177. I've\n",
            "178. Indian\n",
            "179. Chinese\n",
            "180. I'm\n",
            "181. I'll\n",
            "182. Prices\n",
            "183. Phoenix\n",
            "184. Both\n",
            "185. Hot\n",
            "186. Sour\n",
            "187. Egg\n",
            "188. Flower\n",
            "189. Soups\n",
            "190. Sunday\n",
            "191. Hunan\n",
            "192. The\n",
            "193. I'm\n",
            "194. Pita\n",
            "195. Wienerschnitzel\n",
            "196. Maine\n",
            "197. Lobster\n",
            "198. Roll\n",
            "199. I'm\n",
            "200. Kabuki\n",
            "201. Maria\n",
            "202. Caballero's\n",
            "203. I'm\n",
            "204. Wife\n",
            "205. I've\n",
            "206. I've\n",
            "207. I'm\n",
            "208. To\n",
            "209. Place\n",
            "210. Japanese\n",
            "211. Albondigas\n",
            "212. Mediterranean\n",
            "213. Chicken\n",
            "214. Salad\n",
            "215. Mellow\n",
            "216. Thai\n",
            "217. Vegas\n",
            "218. Buffet\n",
            "219. Bellagio\n",
            "220. Vegas\n",
            "221. Christmas\n",
            "222. Eve\n",
            "223. Vegetarian\n",
            "224. I've\n",
            "225. Taco\n",
            "226. Heimer\n",
            "227. Ha\n",
            "228. Long\n",
            "229. Bay\n",
            "230. Subway\n",
            "231. When\n",
            "232. In\n",
            "233. Ninja\n",
            "234. Sushi\n"
          ]
        }
      ]
    },
    {
      "cell_type": "code",
      "source": [
        "# Conteo\n",
        "print(f\"Total de palabras encontradas: {len(palabras_cumplen)}\")"
      ],
      "metadata": {
        "id": "dLPTRPnTMqqx",
        "colab": {
          "base_uri": "https://localhost:8080/"
        },
        "outputId": "f39792b6-0bae-411e-eda3-d11149b50026"
      },
      "execution_count": 66,
      "outputs": [
        {
          "output_type": "stream",
          "name": "stdout",
          "text": [
            "Total de palabras encontradas: 234\n"
          ]
        }
      ]
    },
    {
      "cell_type": "markdown",
      "source": [
        "*   **Pregunta 11.**  \n",
        "\n",
        "Busca e imprime la secuencia de dos o más palabras que están separadas por un guion, \"-\", sin que tengan espacios en blanco entre ellas.\n",
        "\n",
        "Por ejemplo \"Go-Kart\" sería válido, pero \"Go  -Kart\" o \"Go  -  Kart\" no lo serían.\n",
        "\n",
        "Indica la cantidad de resultados obtenidos."
      ],
      "metadata": {
        "id": "u7nfm4KhMrNW"
      }
    },
    {
      "cell_type": "code",
      "source": [
        "import re\n",
        "\n",
        "# Patron regex\n",
        "patron = r'\\b[a-zA-ZáéíóúüñÁÉÍÓÚÜÑ]+(?:-[a-zA-ZáéíóúüñÁÉÍÓÚÜÑ]+)+\\b'\n",
        "\n",
        "# Buscar coincidencias\n",
        "secuencias = []\n",
        "for comentario in docs_limpios:\n",
        "    coincidencias = re.findall(patron, comentario)\n",
        "    if coincidencias:\n",
        "        secuencias.extend(coincidencias)\n",
        "\n",
        "# Mostrar resultados\n",
        "print(\"Secuencias de palabras unidas por guiones:\")\n",
        "for i, secuencia in enumerate(secuencias[:19], 1):\n",
        "    print(f\"{i}. {secuencia}\")\n",
        "\n"
      ],
      "metadata": {
        "id": "OwU-a7eGMsub",
        "colab": {
          "base_uri": "https://localhost:8080/"
        },
        "outputId": "e1b577d3-3c7c-4b72-af4a-af195063baa8"
      },
      "execution_count": 68,
      "outputs": [
        {
          "output_type": "stream",
          "name": "stdout",
          "text": [
            "Secuencias de palabras unidas por guiones:\n",
            "1. flat-lined\n",
            "2. hands-down\n",
            "3. must-stop\n",
            "4. sub-par\n",
            "5. Service-check\n",
            "6. in-house\n",
            "7. been-stepped-in-and-tracked-everywhere\n",
            "8. multi-grain\n",
            "9. to-go\n",
            "10. non-customer\n",
            "11. High-quality\n",
            "12. sit-down\n",
            "13. over-whelm\n",
            "14. low-key\n",
            "15. non-fancy\n",
            "16. golden-crispy\n",
            "17. over-priced\n",
            "18. over-hip\n",
            "19. under-services\n"
          ]
        }
      ]
    },
    {
      "cell_type": "code",
      "source": [
        "# Conteo\n",
        "print(f\"Total de secuencias encontradas: {len(secuencias)}\")"
      ],
      "metadata": {
        "id": "SgzIL74ZMtGw",
        "colab": {
          "base_uri": "https://localhost:8080/"
        },
        "outputId": "c4d4ffff-2510-4649-9307-40b1ac56953a"
      },
      "execution_count": 69,
      "outputs": [
        {
          "output_type": "stream",
          "name": "stdout",
          "text": [
            "Total de secuencias encontradas: 19\n"
          ]
        }
      ]
    },
    {
      "cell_type": "markdown",
      "source": [
        "*   **Pregunta 12.**  \n",
        "\n",
        "Busca e imprime todas las palabras que terminan en \"ing\" o \"ed\".\n",
        "\n",
        "Indica la cantidad de palabras que encontraste de cada una."
      ],
      "metadata": {
        "id": "DEIgl79HMthr"
      }
    },
    {
      "cell_type": "code",
      "source": [],
      "metadata": {
        "id": "I4TSofBMMv9y"
      },
      "execution_count": null,
      "outputs": []
    },
    {
      "cell_type": "code",
      "source": [],
      "metadata": {
        "id": "AhGq6De2Mvyh"
      },
      "execution_count": null,
      "outputs": []
    },
    {
      "cell_type": "markdown",
      "source": [
        "#**Parte 3. Proceso de limpieza.**"
      ],
      "metadata": {
        "id": "70StdqAZa9E9"
      }
    },
    {
      "cell_type": "markdown",
      "source": [
        "*   **Pregunta 13.**  \n",
        "\n",
        "Ahora realiza un proceso de limpieza del corpus que incluya los siguientes procesos:\n",
        "\n",
        "*   Solo se deben considerar caracteres alfabéticos. Es decir, se eliminan todos los signos de puntuación y caracteres especiales.\n",
        "*   Todos los caracteres alfabéticos se transforman a minúsculas.\n",
        "*   Se deben eliminar todos los espacios en blanco adicionales que se puedan encontrar en cada comentario.\n",
        "\n",
        "Al finalizar dicho proceso de limpieza, imprime el resultado de los primeros 10 comentarios resultantes.\n",
        "   \n",
        "\n",
        "\n"
      ],
      "metadata": {
        "id": "xaDUFXHrMvX2"
      }
    },
    {
      "cell_type": "code",
      "source": [],
      "metadata": {
        "id": "K3kQzPOPMx0w"
      },
      "execution_count": null,
      "outputs": []
    },
    {
      "cell_type": "code",
      "source": [],
      "metadata": {
        "id": "mYEDlHSFMyJN"
      },
      "execution_count": null,
      "outputs": []
    },
    {
      "cell_type": "markdown",
      "source": [
        "*   **Pregunta 14.**  \n",
        "\n",
        "Con el resultado de la limpieza obtenido en la pregunta anterior, realiza ahora un proceso de tokenización por palabras del corpus.\n",
        "\n",
        "Es decir, al final de este proceso de tokenización, debes tener como resultado una lista de listas, donde cada comentario estará tokenizado por palabras.\n",
        "\n",
        "Al terminar calcula el total de tokens obtenido en todo el corpus."
      ],
      "metadata": {
        "id": "WZwEhg2lUSAX"
      }
    },
    {
      "cell_type": "code",
      "source": [],
      "metadata": {
        "id": "kbAL9-v0V-jx"
      },
      "execution_count": null,
      "outputs": []
    },
    {
      "cell_type": "code",
      "source": [],
      "metadata": {
        "id": "DZs_etmiV-fd"
      },
      "execution_count": null,
      "outputs": []
    },
    {
      "cell_type": "markdown",
      "source": [
        "*   **Pregunta 15.**  \n",
        "\n",
        "Finalmente, en este ejercicio definiremos nuestro conjunto de palabras \"stopwords\", las cuales deberás eliminar de todo el corpus.\n",
        "\n",
        "Recuerda que ejemplos de stopwords son artículos, adverbios, conectivos, etcétera, que tienen frecuencias de aparición muy altas en cualquier documento, pero que no brindan mucho significado en cuanto al significado de un enunciado.\n",
        "\n",
        "Con base a la lista de stopwords que se te proporciona, realiza un proceso de limpieza eliminando todas estas palabras del corpus obtenido en el ejercicio anterior.\n",
        "\n",
        "Obtener cuántos tokens/palabras quedan finalmente en todo el corpus.\n",
        "\n",
        "Obtener cuántos de estos tokens/palabras son diferentes, es decir, cuántos tokens únicos tendrá lo que llamaremos más adelante nuestro vocabulario."
      ],
      "metadata": {
        "id": "EFeu0OJ7WDPD"
      }
    },
    {
      "cell_type": "code",
      "source": [
        "# Considera la siguiente lista como tu conjunto de stopwords:\n",
        "mis_stopwords = ['i', 'me', 'my', 'myself', 'we', 'our', 'ours', 'ourselves', 'you', 'your', 'yours', 'he', 'him', 'his', 'himself', 'she', 'her', 'hers', 'herself', 'it', 'its', 'itself', 'they', 'them', 'their', 'theirs', 'themselves', 'what', 'which', 'who', 'whom', 'this', 'that', 'these', 'those', 'am', 'is', 'are', 'was', 'were', 'be', 'been', 'being', 'have', 'has', 'had', 'having', 'do', 'does', 'did', 'doing', 'a', 'an', 'the', 'and', 'but', 'if', 'or', 'because', 'as', 'until', 'while', 'of', 'at', 'by', 'for', 'with', 'about', 'against', 'between', 'into', 'through', 'during', 'before', 'after', 'above', 'below', 'to', 'from', 'up', 'down', 'in', 'out', 'on', 'over', 'under', 'again', 'further', 'then', 'once', 'here', 'there', 'when', 'where', 'why', 'how', 'all', 'any', 'both', 'each', 'few', 'more', 'most', 'other', 'some', 'such', 'only', 'own', 'same', 'so', 'than', 'too', 'very', 's', 't', 'can', 'will', 'just', 'should', 'now', 'll']"
      ],
      "metadata": {
        "id": "6FP4FF3KXGxm"
      },
      "execution_count": null,
      "outputs": []
    },
    {
      "cell_type": "code",
      "source": [],
      "metadata": {
        "id": "CD8yjyq1ZrwY"
      },
      "execution_count": null,
      "outputs": []
    },
    {
      "cell_type": "code",
      "source": [],
      "metadata": {
        "id": "4ZPi5prKZro5"
      },
      "execution_count": null,
      "outputs": []
    },
    {
      "cell_type": "markdown",
      "source": [
        "*   **Comentarios**\n",
        "\n",
        "Incluye finalmente tus comentarios de la actividad."
      ],
      "metadata": {
        "id": "NDbKkuxRbLoX"
      }
    },
    {
      "cell_type": "markdown",
      "source": [
        "<< incluye aquí tus comentarios >>"
      ],
      "metadata": {
        "id": "o7fzbvqVbUGr"
      }
    },
    {
      "cell_type": "markdown",
      "source": [
        "##**Fin de la Actividad de la semana 2.**"
      ],
      "metadata": {
        "id": "PHaKw_6Ldbaf"
      }
    }
  ]
}