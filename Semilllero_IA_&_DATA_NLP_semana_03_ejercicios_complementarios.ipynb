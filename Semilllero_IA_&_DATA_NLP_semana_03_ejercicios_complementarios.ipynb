{
  "nbformat": 4,
  "nbformat_minor": 0,
  "metadata": {
    "colab": {
      "provenance": [],
      "include_colab_link": true
    },
    "kernelspec": {
      "name": "python3",
      "display_name": "Python 3"
    },
    "language_info": {
      "name": "python"
    }
  },
  "cells": [
    {
      "cell_type": "markdown",
      "metadata": {
        "id": "view-in-github",
        "colab_type": "text"
      },
      "source": [
        "<a href=\"https://colab.research.google.com/github/IvanHG-OffSec/SemilleroIA/blob/main/Semilllero_IA_%26_DATA_NLP_semana_03_ejercicios_complementarios.ipynb\" target=\"_parent\"><img src=\"https://colab.research.google.com/assets/colab-badge.svg\" alt=\"Open In Colab\"/></a>"
      ]
    },
    {
      "cell_type": "markdown",
      "source": [
        "#**Semillero Data & AI**\n",
        "\n",
        "##**Procesamiento de Lenguaje Natural (NLP)**\n",
        "###Prof. Fausto Velasco Atilano\n",
        "###**Clase 3 - Ejercicios Complementarios**\n",
        "### Iniciando el procesamiento con texto: tipos de datos de texto.\n",
        "\n",
        "\n"
      ],
      "metadata": {
        "id": "a-u2MSiFYLmT"
      }
    },
    {
      "cell_type": "markdown",
      "source": [
        "##**Cadena de caracteres (String)**"
      ],
      "metadata": {
        "id": "wpgrXL1nQ50n"
      }
    },
    {
      "cell_type": "markdown",
      "source": [
        "Para el procesamiento y análisis de documentos de texto, uno de los tipos de datos más usuales es la cadena de caracteres, o \"string\" por su nombre en inglés. Es común también en español referirnos a este tipo de datos simplemente como \"string\".\n",
        "\n",
        "La manera estándar de introducir una frase es mediante dobles comillas:\n",
        "\n"
      ],
      "metadata": {
        "id": "OR5_keKxcivo"
      }
    },
    {
      "cell_type": "code",
      "source": [
        "doc = \"Vine a Comala porque me dijeron que acá vivía mi padre, un tal Pedro Páramo. Mi madre me lo dijo.\"\n",
        "\n",
        "doc  # es un String (str)"
      ],
      "metadata": {
        "id": "PLAJI7eEPSBG",
        "outputId": "9a4245ca-77ab-4501-f11e-2a2a01f8475d",
        "colab": {
          "base_uri": "https://localhost:8080/",
          "height": 36
        }
      },
      "execution_count": null,
      "outputs": [
        {
          "output_type": "execute_result",
          "data": {
            "text/plain": [
              "'Vine a Comala porque me dijeron que acá vivía mi padre, un tal Pedro Páramo. Mi madre me lo dijo.'"
            ],
            "application/vnd.google.colaboratory.intrinsic+json": {
              "type": "string"
            }
          },
          "metadata": {},
          "execution_count": 1
        }
      ]
    },
    {
      "cell_type": "code",
      "source": [
        "type(doc)   # Podemos verificar el tipo de dato de cualquier objeto de Python con esta función."
      ],
      "metadata": {
        "id": "Zar2O9_SvM2s",
        "outputId": "fbc0b9fc-a18e-4414-b5bb-22fa91740751",
        "colab": {
          "base_uri": "https://localhost:8080/"
        }
      },
      "execution_count": null,
      "outputs": [
        {
          "output_type": "execute_result",
          "data": {
            "text/plain": [
              "str"
            ]
          },
          "metadata": {},
          "execution_count": 2
        }
      ]
    },
    {
      "cell_type": "code",
      "source": [
        "doc[3]  # podemos tener acceso a cada caracter individual, los cuales están indexados a partir del primer caracter que incia con 0."
      ],
      "metadata": {
        "id": "ni5SrmKeTK9u",
        "outputId": "5375c603-ad3c-4032-a2aa-c91e2d670cc4",
        "colab": {
          "base_uri": "https://localhost:8080/",
          "height": 36
        }
      },
      "execution_count": null,
      "outputs": [
        {
          "output_type": "execute_result",
          "data": {
            "text/plain": [
              "'e'"
            ],
            "application/vnd.google.colaboratory.intrinsic+json": {
              "type": "string"
            }
          },
          "metadata": {},
          "execution_count": 3
        }
      ]
    },
    {
      "cell_type": "code",
      "source": [
        "doc[:9]   # la notación de \":\" nos permite definir un rango, en este caso del índice 0 al 8 (9-1)."
      ],
      "metadata": {
        "id": "Pk1kR0CxTPBb",
        "outputId": "e9026174-6200-479b-cb4c-f07a9f006b3f",
        "colab": {
          "base_uri": "https://localhost:8080/",
          "height": 36
        }
      },
      "execution_count": null,
      "outputs": [
        {
          "output_type": "execute_result",
          "data": {
            "text/plain": [
              "'Vine a Co'"
            ],
            "application/vnd.google.colaboratory.intrinsic+json": {
              "type": "string"
            }
          },
          "metadata": {},
          "execution_count": 4
        }
      ]
    },
    {
      "cell_type": "code",
      "source": [
        "doc[-1]   # también podemos usar índices negativos..."
      ],
      "metadata": {
        "id": "NhfLhE6vTtzL",
        "outputId": "56bf92d5-d450-49dd-9fd6-45269fbe6b93",
        "colab": {
          "base_uri": "https://localhost:8080/",
          "height": 36
        }
      },
      "execution_count": null,
      "outputs": [
        {
          "output_type": "execute_result",
          "data": {
            "text/plain": [
              "'.'"
            ],
            "application/vnd.google.colaboratory.intrinsic+json": {
              "type": "string"
            }
          },
          "metadata": {},
          "execution_count": 5
        }
      ]
    },
    {
      "cell_type": "code",
      "source": [
        "doc[-8:-1]"
      ],
      "metadata": {
        "id": "0bxgRDEqTh0d",
        "outputId": "3bdb3288-4ba1-429c-8bb2-251ac1ea2008",
        "colab": {
          "base_uri": "https://localhost:8080/",
          "height": 36
        }
      },
      "execution_count": null,
      "outputs": [
        {
          "output_type": "execute_result",
          "data": {
            "text/plain": [
              "'lo dijo'"
            ],
            "application/vnd.google.colaboratory.intrinsic+json": {
              "type": "string"
            }
          },
          "metadata": {},
          "execution_count": 6
        }
      ]
    },
    {
      "cell_type": "code",
      "source": [
        "len(doc) # podemos obtener el total de caracteres... reucerda que los espacios en blanco también son caracteres."
      ],
      "metadata": {
        "id": "N8ZVFBiZQ_Oh",
        "outputId": "55412e82-1fae-4232-9bff-d0bfc1617adf",
        "colab": {
          "base_uri": "https://localhost:8080/"
        }
      },
      "execution_count": null,
      "outputs": [
        {
          "output_type": "execute_result",
          "data": {
            "text/plain": [
              "97"
            ]
          },
          "metadata": {},
          "execution_count": 7
        }
      ]
    },
    {
      "cell_type": "code",
      "source": [
        "doc.lower()   # podemos transformar todo a minúsculas..."
      ],
      "metadata": {
        "id": "sz_8pGquRJp_",
        "outputId": "432d157d-0885-4d1c-cdf0-0741ada878f4",
        "colab": {
          "base_uri": "https://localhost:8080/",
          "height": 36
        }
      },
      "execution_count": null,
      "outputs": [
        {
          "output_type": "execute_result",
          "data": {
            "text/plain": [
              "'vine a comala porque me dijeron que acá vivía mi padre, un tal pedro páramo. mi madre me lo dijo.'"
            ],
            "application/vnd.google.colaboratory.intrinsic+json": {
              "type": "string"
            }
          },
          "metadata": {},
          "execution_count": 8
        }
      ]
    },
    {
      "cell_type": "code",
      "source": [
        "doc.upper()    # o todo a mayúsculas."
      ],
      "metadata": {
        "id": "HjXi2prewvtq",
        "outputId": "586db930-9051-4c3b-bcc1-d18783c9776e",
        "colab": {
          "base_uri": "https://localhost:8080/",
          "height": 36
        }
      },
      "execution_count": null,
      "outputs": [
        {
          "output_type": "execute_result",
          "data": {
            "text/plain": [
              "'VINE A COMALA PORQUE ME DIJERON QUE ACÁ VIVÍA MI PADRE, UN TAL PEDRO PÁRAMO. MI MADRE ME LO DIJO.'"
            ],
            "application/vnd.google.colaboratory.intrinsic+json": {
              "type": "string"
            }
          },
          "metadata": {},
          "execution_count": 9
        }
      ]
    },
    {
      "cell_type": "code",
      "source": [
        "# Podemos hacer algunas operaciones entre strings:\n",
        "\n",
        "x = \"Mi nombre es\"\n",
        "y = \"Ignacio Ivan\"\n",
        "\n",
        "x + ' ' + y\n",
        "\n"
      ],
      "metadata": {
        "id": "iRc6BuW6VHsQ",
        "outputId": "bda4374b-5ec6-4b31-8a1b-336dc47c55b9",
        "colab": {
          "base_uri": "https://localhost:8080/",
          "height": 35
        }
      },
      "execution_count": 9,
      "outputs": [
        {
          "output_type": "execute_result",
          "data": {
            "text/plain": [
              "'Mi nombre es Ignacio Ivan'"
            ],
            "application/vnd.google.colaboratory.intrinsic+json": {
              "type": "string"
            }
          },
          "metadata": {},
          "execution_count": 9
        }
      ]
    },
    {
      "cell_type": "code",
      "source": [
        "type(x)"
      ],
      "metadata": {
        "colab": {
          "base_uri": "https://localhost:8080/"
        },
        "id": "U3eNGJ3TrFHx",
        "outputId": "d4c3128e-af21-4060-9b2b-ad2aa9594d7c"
      },
      "execution_count": 12,
      "outputs": [
        {
          "output_type": "execute_result",
          "data": {
            "text/plain": [
              "str"
            ]
          },
          "metadata": {},
          "execution_count": 12
        }
      ]
    },
    {
      "cell_type": "code",
      "source": [
        "y[2]"
      ],
      "metadata": {
        "colab": {
          "base_uri": "https://localhost:8080/",
          "height": 35
        },
        "id": "L3e1Wl2mrI74",
        "outputId": "6866400b-3308-4d5d-9e9c-a3e7898ff8fb"
      },
      "execution_count": 13,
      "outputs": [
        {
          "output_type": "execute_result",
          "data": {
            "text/plain": [
              "'n'"
            ],
            "application/vnd.google.colaboratory.intrinsic+json": {
              "type": "string"
            }
          },
          "metadata": {},
          "execution_count": 13
        }
      ]
    },
    {
      "cell_type": "code",
      "source": [
        "x[:9]"
      ],
      "metadata": {
        "colab": {
          "base_uri": "https://localhost:8080/",
          "height": 35
        },
        "id": "5Jo6pPcGrWjx",
        "outputId": "4935ef05-87d1-446d-8f88-87c1068e387c"
      },
      "execution_count": 17,
      "outputs": [
        {
          "output_type": "execute_result",
          "data": {
            "text/plain": [
              "'Mi nombre'"
            ],
            "application/vnd.google.colaboratory.intrinsic+json": {
              "type": "string"
            }
          },
          "metadata": {},
          "execution_count": 17
        }
      ]
    },
    {
      "cell_type": "code",
      "source": [
        "y[-11:-2]"
      ],
      "metadata": {
        "colab": {
          "base_uri": "https://localhost:8080/",
          "height": 35
        },
        "id": "sJuUu-_7rgBt",
        "outputId": "a9c0b9ec-7a1b-4cc9-a19a-66f1487fd6e3"
      },
      "execution_count": 20,
      "outputs": [
        {
          "output_type": "execute_result",
          "data": {
            "text/plain": [
              "'gnacio Iv'"
            ],
            "application/vnd.google.colaboratory.intrinsic+json": {
              "type": "string"
            }
          },
          "metadata": {},
          "execution_count": 20
        }
      ]
    },
    {
      "cell_type": "code",
      "source": [
        "len(x)"
      ],
      "metadata": {
        "colab": {
          "base_uri": "https://localhost:8080/"
        },
        "id": "iHVLw9-jroGa",
        "outputId": "3a676966-4c06-49fe-cb56-65487d207951"
      },
      "execution_count": 21,
      "outputs": [
        {
          "output_type": "execute_result",
          "data": {
            "text/plain": [
              "12"
            ]
          },
          "metadata": {},
          "execution_count": 21
        }
      ]
    },
    {
      "cell_type": "code",
      "source": [
        "y.upper()"
      ],
      "metadata": {
        "colab": {
          "base_uri": "https://localhost:8080/",
          "height": 35
        },
        "id": "KEz-Rb4prr44",
        "outputId": "73ed102f-b6c3-4985-e61e-8d9d59d393cb"
      },
      "execution_count": 25,
      "outputs": [
        {
          "output_type": "execute_result",
          "data": {
            "text/plain": [
              "'IGNACIO IVAN'"
            ],
            "application/vnd.google.colaboratory.intrinsic+json": {
              "type": "string"
            }
          },
          "metadata": {},
          "execution_count": 25
        }
      ]
    },
    {
      "cell_type": "markdown",
      "source": [
        "También se pueden usar comillas sencillas para definir una cadena de caracteres o string:"
      ],
      "metadata": {
        "id": "JN2B1aqTxqNA"
      }
    },
    {
      "cell_type": "code",
      "source": [
        "w = '¡Buenos días, Señor Sol!'\n",
        "\n",
        "w"
      ],
      "metadata": {
        "id": "EZpRcL_wXWIe",
        "outputId": "f72fb2e6-201a-4350-831e-c2975f1847a1",
        "colab": {
          "base_uri": "https://localhost:8080/",
          "height": 36
        }
      },
      "execution_count": null,
      "outputs": [
        {
          "output_type": "execute_result",
          "data": {
            "text/plain": [
              "'¡Buenos días, Señor Sol!'"
            ],
            "application/vnd.google.colaboratory.intrinsic+json": {
              "type": "string"
            }
          },
          "metadata": {},
          "execution_count": 11
        }
      ]
    },
    {
      "cell_type": "markdown",
      "source": [
        "Sin embargo, si dentro del enunciado se requieren usar comillas sencillas, no podemos usarlas con el mismo tipo de comillas del string porque se genera un error de sintaxis.\n",
        "\n",
        "Así, en el caso de que el enunciado requiera el uso de comillas, se puede proceder de cualquiera de las formas que se muestran en el ejemplo siguiente:"
      ],
      "metadata": {
        "id": "4dYulpkEyVU5"
      }
    },
    {
      "cell_type": "code",
      "source": [
        "t1 = \"Y me preguntó, '¿qué te pasó?', a lo cual no supe contestar.\"   # intenta ejecutar esta instrucción usando solamente comillas sencillas\"\n",
        "\n",
        "t2 = 'Y me preguntó, \"¿qué te pasó?\", a lo cual no supe contestar.'\n",
        "\n",
        "t3 = 'Y me preguntó, \\'¿qué te pasó?\\', a lo cual no supe contestar.'\n",
        "\n",
        "print(t1)\n",
        "print(t2)\n",
        "print(t3)"
      ],
      "metadata": {
        "id": "GzGKKwolx--C",
        "outputId": "feb2c594-c763-405b-f7ab-1b46916c198c",
        "colab": {
          "base_uri": "https://localhost:8080/"
        }
      },
      "execution_count": null,
      "outputs": [
        {
          "output_type": "stream",
          "name": "stdout",
          "text": [
            "Y me preguntó, '¿qué te pasó?', a lo cual no supe contestar.\n",
            "Y me preguntó, \"¿qué te pasó?\", a lo cual no supe contestar.\n",
            "Y me preguntó, '¿qué te pasó?', a lo cual no supe contestar.\n"
          ]
        }
      ]
    },
    {
      "cell_type": "markdown",
      "source": [
        "##**Listas y segmentación con Python: split(), strip()**"
      ],
      "metadata": {
        "id": "LSKexgxmtjYO"
      }
    },
    {
      "cell_type": "markdown",
      "source": [
        "Puedes encontrar más información en la documentación de los métodos \"split()\" y \"strip()\" de Python, en las siguientes ligas:\n",
        "\n",
        "https://python-reference.readthedocs.io/en/latest/docs/str/split.html\n",
        "\n",
        "https://python-reference.readthedocs.io/en/latest/docs/str/strip.html\n",
        "\n",
        "Al aplicar el método \"split()\" obtenemos una lista de strings y al aplicar el método \"strip()\" obtenemos un string."
      ],
      "metadata": {
        "id": "tTwXaC8QstX7"
      }
    },
    {
      "cell_type": "code",
      "execution_count": null,
      "metadata": {
        "id": "TiAucTxYltCW",
        "outputId": "861c3e2c-7abd-4b2c-f88e-9df1ad28404e",
        "colab": {
          "base_uri": "https://localhost:8080/"
        }
      },
      "outputs": [
        {
          "output_type": "stream",
          "name": "stdout",
          "text": [
            "Aquel caracol\n",
            "Que va por el sol\n",
            "En cada ramita\n",
            "Lleva una flor.\n",
            "\n",
            "Que viva la gracia\n",
            "Que viva el amor\n",
            "Que viva la gracia\n",
            "De aquel caracol.\n"
          ]
        }
      ],
      "source": [
        "# Definamos el siguiente string con el siguiente poema infantil-\n",
        "# Observa que estamos utilizando el salto de línea (new line) \"\\n\":\n",
        "\n",
        "doc = \"Aquel caracol\\nQue va por el sol\\nEn cada ramita\\nLleva una flor.\\n\\nQue viva la gracia\\nQue viva el amor\\nQue viva la gracia\\nDe aquel caracol.\"\n",
        "\n",
        "print(doc)\n"
      ]
    },
    {
      "cell_type": "code",
      "source": [
        "len(doc)"
      ],
      "metadata": {
        "id": "4MY62a1elLbW",
        "outputId": "f3a77484-5f62-46fe-f93e-2ded7dda608e",
        "colab": {
          "base_uri": "https://localhost:8080/"
        }
      },
      "execution_count": null,
      "outputs": [
        {
          "output_type": "execute_result",
          "data": {
            "text/plain": [
              "136"
            ]
          },
          "metadata": {},
          "execution_count": 14
        }
      ]
    },
    {
      "cell_type": "code",
      "source": [
        "milista = doc.split()   # Como valor predeterminado separa por espacios en blanco \" \" y saltos de línea \"\\n\".\n",
        "\n",
        "milista  # Ahora tenemos una lista, la cual se identifica por las corcheas al inicio y al final de la lista de strings."
      ],
      "metadata": {
        "id": "cKY0uWwIpNJy",
        "outputId": "1cf1e2f3-96d6-4d86-a9d4-84cad68969f7",
        "colab": {
          "base_uri": "https://localhost:8080/"
        }
      },
      "execution_count": null,
      "outputs": [
        {
          "output_type": "execute_result",
          "data": {
            "text/plain": [
              "['Aquel',\n",
              " 'caracol',\n",
              " 'Que',\n",
              " 'va',\n",
              " 'por',\n",
              " 'el',\n",
              " 'sol',\n",
              " 'En',\n",
              " 'cada',\n",
              " 'ramita',\n",
              " 'Lleva',\n",
              " 'una',\n",
              " 'flor.',\n",
              " 'Que',\n",
              " 'viva',\n",
              " 'la',\n",
              " 'gracia',\n",
              " 'Que',\n",
              " 'viva',\n",
              " 'el',\n",
              " 'amor',\n",
              " 'Que',\n",
              " 'viva',\n",
              " 'la',\n",
              " 'gracia',\n",
              " 'De',\n",
              " 'aquel',\n",
              " 'caracol.']"
            ]
          },
          "metadata": {},
          "execution_count": 15
        }
      ]
    },
    {
      "cell_type": "code",
      "source": [
        "len(milista)   # Este es el total de palabras (tokens) que tenemos en esta lista."
      ],
      "metadata": {
        "id": "zqZ92mxylPgW",
        "outputId": "666cfa8f-9ac3-4b4f-dde2-362059be6359",
        "colab": {
          "base_uri": "https://localhost:8080/"
        }
      },
      "execution_count": null,
      "outputs": [
        {
          "output_type": "execute_result",
          "data": {
            "text/plain": [
              "28"
            ]
          },
          "metadata": {},
          "execution_count": 16
        }
      ]
    },
    {
      "cell_type": "code",
      "source": [
        "milista[1]    # Y podemos accesar cada palabra (token) de la lista con el índice correspondiente."
      ],
      "metadata": {
        "id": "iSfA7qLh0cus",
        "outputId": "10e87923-afcf-4f02-9dda-8d64c7ab2283",
        "colab": {
          "base_uri": "https://localhost:8080/",
          "height": 36
        }
      },
      "execution_count": null,
      "outputs": [
        {
          "output_type": "execute_result",
          "data": {
            "text/plain": [
              "'caracol'"
            ],
            "application/vnd.google.colaboratory.intrinsic+json": {
              "type": "string"
            }
          },
          "metadata": {},
          "execution_count": 17
        }
      ]
    },
    {
      "cell_type": "code",
      "source": [
        "type(milista)   # Recuerda que también puedes verificar el tipo de dato con esta instrucción."
      ],
      "metadata": {
        "id": "d5ngMgfYvf80",
        "outputId": "2d9e6919-5c41-46b3-c4be-85d8d72b63bf",
        "colab": {
          "base_uri": "https://localhost:8080/"
        }
      },
      "execution_count": null,
      "outputs": [
        {
          "output_type": "execute_result",
          "data": {
            "text/plain": [
              "list"
            ]
          },
          "metadata": {},
          "execution_count": 18
        }
      ]
    },
    {
      "cell_type": "markdown",
      "source": [
        "Regresando con la cadena de caracteres (string) y para entender mejor la manera en que puede aplicarse el método \"split()\", podemos aplicar las siguientes variantes:"
      ],
      "metadata": {
        "id": "uhn6OLCB8R5i"
      }
    },
    {
      "cell_type": "code",
      "source": [
        "doc.split('\\n')   # Si segmentamos por salto de línea de manera explícita, los espacios en blanco ya no se toman en cuenta."
      ],
      "metadata": {
        "id": "XEKP3CmZqOFU",
        "outputId": "79569ef7-e79c-4a62-c920-b46f35c645c9",
        "colab": {
          "base_uri": "https://localhost:8080/"
        }
      },
      "execution_count": null,
      "outputs": [
        {
          "output_type": "execute_result",
          "data": {
            "text/plain": [
              "['Aquel caracol',\n",
              " 'Que va por el sol',\n",
              " 'En cada ramita',\n",
              " 'Lleva una flor.',\n",
              " '',\n",
              " 'Que viva la gracia',\n",
              " 'Que viva el amor',\n",
              " 'Que viva la gracia',\n",
              " 'De aquel caracol.']"
            ]
          },
          "metadata": {},
          "execution_count": 19
        }
      ]
    },
    {
      "cell_type": "code",
      "source": [
        "doc.split(' ')    # O bien separar solamente por espacios en blanco."
      ],
      "metadata": {
        "id": "0v-24syFqtXa",
        "outputId": "011de77a-57ce-40bc-ca75-31d9353103f4",
        "colab": {
          "base_uri": "https://localhost:8080/"
        }
      },
      "execution_count": null,
      "outputs": [
        {
          "output_type": "execute_result",
          "data": {
            "text/plain": [
              "['Aquel',\n",
              " 'caracol\\nQue',\n",
              " 'va',\n",
              " 'por',\n",
              " 'el',\n",
              " 'sol\\nEn',\n",
              " 'cada',\n",
              " 'ramita\\nLleva',\n",
              " 'una',\n",
              " 'flor.\\n\\nQue',\n",
              " 'viva',\n",
              " 'la',\n",
              " 'gracia\\nQue',\n",
              " 'viva',\n",
              " 'el',\n",
              " 'amor\\nQue',\n",
              " 'viva',\n",
              " 'la',\n",
              " 'gracia\\nDe',\n",
              " 'aquel',\n",
              " 'caracol.']"
            ]
          },
          "metadata": {},
          "execution_count": 20
        }
      ]
    },
    {
      "cell_type": "code",
      "source": [
        "doc.split('el')   # Pero en general podemos separar con respecto a cualquier caracter o cadena de caracteres que indiquemos..."
      ],
      "metadata": {
        "id": "dvTY6ogIqzeD",
        "outputId": "c90adbc0-1588-4e5f-bc88-6a5d0610e9dc",
        "colab": {
          "base_uri": "https://localhost:8080/"
        }
      },
      "execution_count": null,
      "outputs": [
        {
          "output_type": "execute_result",
          "data": {
            "text/plain": [
              "['Aqu',\n",
              " ' caracol\\nQue va por ',\n",
              " ' sol\\nEn cada ramita\\nLleva una flor.\\n\\nQue viva la gracia\\nQue viva ',\n",
              " ' amor\\nQue viva la gracia\\nDe aqu',\n",
              " ' caracol.']"
            ]
          },
          "metadata": {},
          "execution_count": 21
        }
      ]
    },
    {
      "cell_type": "code",
      "source": [
        "doc.split(' ', 4)   # Se puede indicar un máximo de separaciones a aplicar con el separador en cuestión."
      ],
      "metadata": {
        "id": "sOPynldBrsI1",
        "outputId": "d9b8a288-5204-47c9-9aae-68442d380ae7",
        "colab": {
          "base_uri": "https://localhost:8080/"
        }
      },
      "execution_count": null,
      "outputs": [
        {
          "output_type": "execute_result",
          "data": {
            "text/plain": [
              "['Aquel',\n",
              " 'caracol\\nQue',\n",
              " 'va',\n",
              " 'por',\n",
              " 'el sol\\nEn cada ramita\\nLleva una flor.\\n\\nQue viva la gracia\\nQue viva el amor\\nQue viva la gracia\\nDe aquel caracol.']"
            ]
          },
          "metadata": {},
          "execution_count": 22
        }
      ]
    },
    {
      "cell_type": "code",
      "source": [
        "doc.upper().split()    # También podemos hacer algunas combinaciones de métodos..."
      ],
      "metadata": {
        "id": "PEieh9Kk6uTz",
        "outputId": "4e4f4877-9e5d-4a27-bb6b-4311f642191b",
        "colab": {
          "base_uri": "https://localhost:8080/"
        }
      },
      "execution_count": null,
      "outputs": [
        {
          "output_type": "execute_result",
          "data": {
            "text/plain": [
              "['AQUEL',\n",
              " 'CARACOL',\n",
              " 'QUE',\n",
              " 'VA',\n",
              " 'POR',\n",
              " 'EL',\n",
              " 'SOL',\n",
              " 'EN',\n",
              " 'CADA',\n",
              " 'RAMITA',\n",
              " 'LLEVA',\n",
              " 'UNA',\n",
              " 'FLOR.',\n",
              " 'QUE',\n",
              " 'VIVA',\n",
              " 'LA',\n",
              " 'GRACIA',\n",
              " 'QUE',\n",
              " 'VIVA',\n",
              " 'EL',\n",
              " 'AMOR',\n",
              " 'QUE',\n",
              " 'VIVA',\n",
              " 'LA',\n",
              " 'GRACIA',\n",
              " 'DE',\n",
              " 'AQUEL',\n",
              " 'CARACOL.']"
            ]
          },
          "metadata": {},
          "execution_count": 23
        }
      ]
    },
    {
      "cell_type": "code",
      "source": [
        "#PRUEBA\n",
        "ejemplo = \"La vida, la vida, que es la vida?\\nEn tratar de entenderla, se nos va la propia vida\"\n",
        "\n",
        "print(ejemplo)"
      ],
      "metadata": {
        "colab": {
          "base_uri": "https://localhost:8080/"
        },
        "id": "uqObmCk5tGD9",
        "outputId": "19832b63-24b2-437f-e1b7-0f2c6bde0072"
      },
      "execution_count": 29,
      "outputs": [
        {
          "output_type": "stream",
          "name": "stdout",
          "text": [
            "La vida, la vida, que es la vida?\n",
            "En tratar de entenderla, se nos va la propia vida\n"
          ]
        }
      ]
    },
    {
      "cell_type": "code",
      "source": [
        "len(ejemplo)"
      ],
      "metadata": {
        "colab": {
          "base_uri": "https://localhost:8080/"
        },
        "id": "t2x9J4AVt2yG",
        "outputId": "d139765a-7355-41bc-c34e-8354f564f372"
      },
      "execution_count": 30,
      "outputs": [
        {
          "output_type": "execute_result",
          "data": {
            "text/plain": [
              "83"
            ]
          },
          "metadata": {},
          "execution_count": 30
        }
      ]
    },
    {
      "cell_type": "code",
      "source": [
        "mi_lista = ejemplo.split()\n",
        "\n",
        "mi_lista"
      ],
      "metadata": {
        "colab": {
          "base_uri": "https://localhost:8080/"
        },
        "id": "_PUTGkYCt5rh",
        "outputId": "9532f98f-f4af-4b73-9860-b911874bc387"
      },
      "execution_count": 32,
      "outputs": [
        {
          "output_type": "execute_result",
          "data": {
            "text/plain": [
              "['La',\n",
              " 'vida,',\n",
              " 'la',\n",
              " 'vida,',\n",
              " 'que',\n",
              " 'es',\n",
              " 'la',\n",
              " 'vida?',\n",
              " 'En',\n",
              " 'tratar',\n",
              " 'de',\n",
              " 'entenderla,',\n",
              " 'se',\n",
              " 'nos',\n",
              " 'va',\n",
              " 'la',\n",
              " 'propia',\n",
              " 'vida']"
            ]
          },
          "metadata": {},
          "execution_count": 32
        }
      ]
    },
    {
      "cell_type": "code",
      "source": [
        "len(mi_lista)"
      ],
      "metadata": {
        "colab": {
          "base_uri": "https://localhost:8080/"
        },
        "id": "qF_VTpXbuKKu",
        "outputId": "8862af2e-9a54-488e-d1f8-fa47d5771534"
      },
      "execution_count": 33,
      "outputs": [
        {
          "output_type": "execute_result",
          "data": {
            "text/plain": [
              "18"
            ]
          },
          "metadata": {},
          "execution_count": 33
        }
      ]
    },
    {
      "cell_type": "code",
      "source": [
        "mi_lista[5]"
      ],
      "metadata": {
        "colab": {
          "base_uri": "https://localhost:8080/",
          "height": 35
        },
        "id": "aoV3F2xCuMlx",
        "outputId": "694fb364-e82b-4792-9db2-d305f614f7d1"
      },
      "execution_count": 34,
      "outputs": [
        {
          "output_type": "execute_result",
          "data": {
            "text/plain": [
              "'es'"
            ],
            "application/vnd.google.colaboratory.intrinsic+json": {
              "type": "string"
            }
          },
          "metadata": {},
          "execution_count": 34
        }
      ]
    },
    {
      "cell_type": "code",
      "source": [
        "type(mi_lista)"
      ],
      "metadata": {
        "colab": {
          "base_uri": "https://localhost:8080/"
        },
        "id": "WK4lUoMiuQ10",
        "outputId": "0580510c-c8da-4856-d530-098f742b03be"
      },
      "execution_count": 35,
      "outputs": [
        {
          "output_type": "execute_result",
          "data": {
            "text/plain": [
              "list"
            ]
          },
          "metadata": {},
          "execution_count": 35
        }
      ]
    },
    {
      "cell_type": "code",
      "source": [
        "ejemplo.split('\\n')"
      ],
      "metadata": {
        "colab": {
          "base_uri": "https://localhost:8080/"
        },
        "id": "HSD5vQevuTt1",
        "outputId": "52aa129e-5796-4618-f441-a58bc1ebff8b"
      },
      "execution_count": 36,
      "outputs": [
        {
          "output_type": "execute_result",
          "data": {
            "text/plain": [
              "['La vida, la vida, que es la vida?',\n",
              " 'En tratar de entenderla, se nos va la propia vida']"
            ]
          },
          "metadata": {},
          "execution_count": 36
        }
      ]
    },
    {
      "cell_type": "code",
      "source": [
        "ejemplo.upper().split()"
      ],
      "metadata": {
        "colab": {
          "base_uri": "https://localhost:8080/"
        },
        "id": "oTr0It7_ubA6",
        "outputId": "07cc12fc-147a-49a3-fcee-bbdc22578662"
      },
      "execution_count": 37,
      "outputs": [
        {
          "output_type": "execute_result",
          "data": {
            "text/plain": [
              "['LA',\n",
              " 'VIDA,',\n",
              " 'LA',\n",
              " 'VIDA,',\n",
              " 'QUE',\n",
              " 'ES',\n",
              " 'LA',\n",
              " 'VIDA?',\n",
              " 'EN',\n",
              " 'TRATAR',\n",
              " 'DE',\n",
              " 'ENTENDERLA,',\n",
              " 'SE',\n",
              " 'NOS',\n",
              " 'VA',\n",
              " 'LA',\n",
              " 'PROPIA',\n",
              " 'VIDA']"
            ]
          },
          "metadata": {},
          "execution_count": 37
        }
      ]
    },
    {
      "cell_type": "markdown",
      "source": [
        "También podemos eliminar espacios en blanco al inicio o al final de una frase, lo cual es un caso muy común cuando se analizan documentos de texto."
      ],
      "metadata": {
        "id": "w-7I7M4U2GjY"
      }
    },
    {
      "cell_type": "code",
      "source": [
        "# Se pueden omitir espacios en blanco al principio o final de un string, mientras\n",
        "# no haya algún tipo de caracter antes o después:\n",
        "\n",
        "txt = \"                    Hola      mundo      .   \"\n",
        "\n",
        "x = txt.strip(' ')"
      ],
      "metadata": {
        "id": "BVbQwo-R8kC0"
      },
      "execution_count": null,
      "outputs": []
    },
    {
      "cell_type": "code",
      "source": [
        "txt    # string original"
      ],
      "metadata": {
        "id": "YN9I8t9o2ZcL",
        "outputId": "7d94c776-97c3-4848-e840-0491a68a930a",
        "colab": {
          "base_uri": "https://localhost:8080/",
          "height": 36
        }
      },
      "execution_count": null,
      "outputs": [
        {
          "output_type": "execute_result",
          "data": {
            "text/plain": [
              "'                    Hola      mundo      .   '"
            ],
            "application/vnd.google.colaboratory.intrinsic+json": {
              "type": "string"
            }
          },
          "metadata": {},
          "execution_count": 25
        }
      ]
    },
    {
      "cell_type": "code",
      "source": [
        "x   # se omiten los espacios en blanco, pero solo al inicio y al final del string."
      ],
      "metadata": {
        "id": "7DehZZXz2bMk",
        "outputId": "09e07937-dac8-4f63-a31b-6dba7148a6eb",
        "colab": {
          "base_uri": "https://localhost:8080/",
          "height": 36
        }
      },
      "execution_count": null,
      "outputs": [
        {
          "output_type": "execute_result",
          "data": {
            "text/plain": [
              "'Hola      mundo      .'"
            ],
            "application/vnd.google.colaboratory.intrinsic+json": {
              "type": "string"
            }
          },
          "metadata": {},
          "execution_count": 26
        }
      ]
    },
    {
      "cell_type": "code",
      "source": [
        "type(x)    # En este caso tenemos un solo string."
      ],
      "metadata": {
        "id": "PE9q4LWFpd0k",
        "outputId": "74f4665b-6a22-4d38-e9bf-b3f7802c1ba8",
        "colab": {
          "base_uri": "https://localhost:8080/"
        }
      },
      "execution_count": null,
      "outputs": [
        {
          "output_type": "execute_result",
          "data": {
            "text/plain": [
              "str"
            ]
          },
          "metadata": {},
          "execution_count": 27
        }
      ]
    },
    {
      "cell_type": "code",
      "source": [
        "txt.find('o')   # Nos regresa el índice de la primera aparición del caracter indicado."
      ],
      "metadata": {
        "id": "ifpJoFEF_8y-",
        "outputId": "ed9cac6c-b840-443c-9ba9-4b994aed599e",
        "colab": {
          "base_uri": "https://localhost:8080/"
        }
      },
      "execution_count": null,
      "outputs": [
        {
          "output_type": "execute_result",
          "data": {
            "text/plain": [
              "21"
            ]
          },
          "metadata": {},
          "execution_count": 28
        }
      ]
    },
    {
      "cell_type": "code",
      "source": [
        "\n",
        "'!!¡!¡¡hola¡¡¡!!!¡!!!'.strip('¡!')    # puedes indicar caracteres que se irán quitando tanto del inicio como del final de manera iterativa."
      ],
      "metadata": {
        "id": "Uyx1sSor_HU2",
        "outputId": "8946164d-8413-4879-f429-1fb79d81548c",
        "colab": {
          "base_uri": "https://localhost:8080/",
          "height": 36
        }
      },
      "execution_count": null,
      "outputs": [
        {
          "output_type": "execute_result",
          "data": {
            "text/plain": [
              "'hola'"
            ],
            "application/vnd.google.colaboratory.intrinsic+json": {
              "type": "string"
            }
          },
          "metadata": {},
          "execution_count": 29
        }
      ]
    },
    {
      "cell_type": "code",
      "source": [
        "#PRUEBA 2\n",
        "txt = \"                    QUIUBO      LOBO      .   \"\n",
        "\n",
        "x = txt.strip(' ')\n"
      ],
      "metadata": {
        "id": "2iSnpMEMvkds"
      },
      "execution_count": 39,
      "outputs": []
    },
    {
      "cell_type": "code",
      "source": [
        "x"
      ],
      "metadata": {
        "colab": {
          "base_uri": "https://localhost:8080/",
          "height": 35
        },
        "id": "_CNY4YSQvpx8",
        "outputId": "179ef06d-aee1-4d4a-8dea-d1192ad0b097"
      },
      "execution_count": 42,
      "outputs": [
        {
          "output_type": "execute_result",
          "data": {
            "text/plain": [
              "'QUIUBO      LOBO      .'"
            ],
            "application/vnd.google.colaboratory.intrinsic+json": {
              "type": "string"
            }
          },
          "metadata": {},
          "execution_count": 42
        }
      ]
    },
    {
      "cell_type": "code",
      "source": [
        "txt.find('B')"
      ],
      "metadata": {
        "colab": {
          "base_uri": "https://localhost:8080/"
        },
        "id": "J4hdc_4evuvj",
        "outputId": "c1d95e51-5304-478d-cdb3-39e5f6cb62c3"
      },
      "execution_count": 45,
      "outputs": [
        {
          "output_type": "execute_result",
          "data": {
            "text/plain": [
              "24"
            ]
          },
          "metadata": {},
          "execution_count": 45
        }
      ]
    },
    {
      "cell_type": "code",
      "source": [
        "\n",
        "'!!!!!!!!!!!!!!-IPN UPIICSA-¡¡¡¡¡¡¡¡¡¡'.strip('¡-!')"
      ],
      "metadata": {
        "colab": {
          "base_uri": "https://localhost:8080/",
          "height": 35
        },
        "id": "wR1Dos4vv86-",
        "outputId": "103081cd-28ef-40ed-fa39-5b6725b27617"
      },
      "execution_count": 53,
      "outputs": [
        {
          "output_type": "execute_result",
          "data": {
            "text/plain": [
              "'IPN UPIICSA'"
            ],
            "application/vnd.google.colaboratory.intrinsic+json": {
              "type": "string"
            }
          },
          "metadata": {},
          "execution_count": 53
        }
      ]
    },
    {
      "cell_type": "markdown",
      "source": [
        "###También tenemos el método \"splitlines()\" para separar por saltos de línea. Veamos un ejemplo:"
      ],
      "metadata": {
        "id": "qbbcKTVC2heS"
      }
    },
    {
      "cell_type": "code",
      "source": [
        "txt ='Hola mundo de terrícolas\\nHemos llegado a visitarlos\\nSaludos\\n'\n",
        "\n",
        "# Observa la diferencia entre ambas salidas:\n",
        "\n",
        "print(txt)\n",
        "\n",
        "txt"
      ],
      "metadata": {
        "id": "5-CjUi6318lu",
        "outputId": "71391adf-6951-4978-9a26-0daa90c42e64",
        "colab": {
          "base_uri": "https://localhost:8080/",
          "height": 110
        }
      },
      "execution_count": null,
      "outputs": [
        {
          "output_type": "stream",
          "name": "stdout",
          "text": [
            "Hola mundo de terrícolas\n",
            "Hemos llegado a visitarlos\n",
            "Saludos\n",
            "\n"
          ]
        },
        {
          "output_type": "execute_result",
          "data": {
            "text/plain": [
              "'Hola mundo de terrícolas\\nHemos llegado a visitarlos\\nSaludos\\n'"
            ],
            "application/vnd.google.colaboratory.intrinsic+json": {
              "type": "string"
            }
          },
          "metadata": {},
          "execution_count": 30
        }
      ]
    },
    {
      "cell_type": "code",
      "source": [
        "print('Separando por espacios en blanco y saltos de línea con split:\\n\\t', txt.split())\n",
        "\n",
        "print('\\nSeparando solo por saltos de línea con splitlines:\\n\\t', txt.splitlines())"
      ],
      "metadata": {
        "id": "TydKZ7kP3KzS",
        "outputId": "b10e6b69-3718-4df8-9aaa-de8bd563d5cf",
        "colab": {
          "base_uri": "https://localhost:8080/"
        }
      },
      "execution_count": null,
      "outputs": [
        {
          "output_type": "stream",
          "name": "stdout",
          "text": [
            "Separando por espacios en blanco y saltos de línea con split:\n",
            "\t ['Hola', 'mundo', 'de', 'terrícolas', 'Hemos', 'llegado', 'a', 'visitarlos', 'Saludos']\n",
            "\n",
            "Separando solo por saltos de línea con splitlines:\n",
            "\t ['Hola mundo de terrícolas', 'Hemos llegado a visitarlos', 'Saludos']\n"
          ]
        }
      ]
    },
    {
      "cell_type": "code",
      "source": [
        "#PRUEBA 3\n",
        "ejemplo2 = \"La vida, la vida, que es la vida?\\nEn tratar de entenderla, se nos va la propia vida\"\n",
        "\n",
        "print(ejemplo2)\n",
        "\n",
        "ejemplo2"
      ],
      "metadata": {
        "colab": {
          "base_uri": "https://localhost:8080/",
          "height": 70
        },
        "id": "GHqbpnPswXoL",
        "outputId": "1167ea0a-22ac-4af7-ff69-f11edba9227d"
      },
      "execution_count": 55,
      "outputs": [
        {
          "output_type": "stream",
          "name": "stdout",
          "text": [
            "La vida, la vida, que es la vida?\n",
            "En tratar de entenderla, se nos va la propia vida\n"
          ]
        },
        {
          "output_type": "execute_result",
          "data": {
            "text/plain": [
              "'La vida, la vida, que es la vida?\\nEn tratar de entenderla, se nos va la propia vida'"
            ],
            "application/vnd.google.colaboratory.intrinsic+json": {
              "type": "string"
            }
          },
          "metadata": {},
          "execution_count": 55
        }
      ]
    },
    {
      "cell_type": "code",
      "source": [
        "print('Separando por espacios en blanco y saltos de línea con split:\\n\\t', ejemplo2.split())\n",
        "\n",
        "print('\\nSeparando solo por saltos de línea con splitlines:\\n\\t', ejemplo2.splitlines())"
      ],
      "metadata": {
        "colab": {
          "base_uri": "https://localhost:8080/"
        },
        "id": "F8c9fwrCwwoS",
        "outputId": "1e9cb486-cc64-464a-b480-9477c258061a"
      },
      "execution_count": 57,
      "outputs": [
        {
          "output_type": "stream",
          "name": "stdout",
          "text": [
            "Separando por espacios en blanco y saltos de línea con split:\n",
            "\t ['La', 'vida,', 'la', 'vida,', 'que', 'es', 'la', 'vida?', 'En', 'tratar', 'de', 'entenderla,', 'se', 'nos', 'va', 'la', 'propia', 'vida']\n",
            "\n",
            "Separando solo por saltos de línea con splitlines:\n",
            "\t ['La vida, la vida, que es la vida?', 'En tratar de entenderla, se nos va la propia vida']\n"
          ]
        }
      ]
    },
    {
      "cell_type": "markdown",
      "source": [
        "##**replace()**\n",
        "\n",
        "Recuerda siempre consultar la documentación correspondiente para obtener más información de cualquier función o método.\n",
        "\n",
        "En particular para el método \"replace\" de una cadena de caracteres (String) puedes consultar esta documentación:\n",
        "\n",
        "https://www.w3schools.com/python/ref_string_replace.asp"
      ],
      "metadata": {
        "id": "4do2UxqE50Hg"
      }
    },
    {
      "cell_type": "code",
      "source": [
        "doc.replace('a', 'A').split()    # podemos sustituir un string por otro que se indique en una cadena de caracteres."
      ],
      "metadata": {
        "id": "v7HWz5D5BI5z",
        "outputId": "7a3f8a2b-5312-44c4-8095-bae7c335b693",
        "colab": {
          "base_uri": "https://localhost:8080/"
        }
      },
      "execution_count": null,
      "outputs": [
        {
          "output_type": "execute_result",
          "data": {
            "text/plain": [
              "['Aquel',\n",
              " 'cArAcol',\n",
              " 'Que',\n",
              " 'vA',\n",
              " 'por',\n",
              " 'el',\n",
              " 'sol',\n",
              " 'En',\n",
              " 'cAdA',\n",
              " 'rAmitA',\n",
              " 'LlevA',\n",
              " 'unA',\n",
              " 'flor.',\n",
              " 'Que',\n",
              " 'vivA',\n",
              " 'lA',\n",
              " 'grAciA',\n",
              " 'Que',\n",
              " 'vivA',\n",
              " 'el',\n",
              " 'Amor',\n",
              " 'Que',\n",
              " 'vivA',\n",
              " 'lA',\n",
              " 'grAciA',\n",
              " 'De',\n",
              " 'Aquel',\n",
              " 'cArAcol.']"
            ]
          },
          "metadata": {},
          "execution_count": 32
        }
      ]
    },
    {
      "cell_type": "markdown",
      "source": [
        "##**join()**\n",
        "\n",
        "En un String podemos unir los elementos indicados en su argumento mediante el string indicado.\n",
        "\n",
        "Este método nos será más útil al aplicarlo a una lista. Veamos algunos ejemplos:[texto del enlace](https://)\n"
      ],
      "metadata": {
        "id": "RVnN-MzP6bSy"
      }
    },
    {
      "cell_type": "code",
      "source": [
        "txt = 'Hola'   # Podemos aplicar el método a un String donde cada caracter del argumento \"Hola\"\n",
        "               # se une con el string o caracter indicado entre las comillas.\n",
        "'-'.join(txt)"
      ],
      "metadata": {
        "id": "vHwDuqjnCo4Q",
        "outputId": "2f81517c-8951-49ca-b7c6-c1307ff64ad2",
        "colab": {
          "base_uri": "https://localhost:8080/",
          "height": 36
        }
      },
      "execution_count": null,
      "outputs": [
        {
          "output_type": "execute_result",
          "data": {
            "text/plain": [
              "'H-o-l-a'"
            ],
            "application/vnd.google.colaboratory.intrinsic+json": {
              "type": "string"
            }
          },
          "metadata": {},
          "execution_count": 33
        }
      ]
    },
    {
      "cell_type": "code",
      "source": [
        "# Sin embargo, se obtienen resultados más útiles con otro tipo de datos, como una lista de strings:\n",
        "\n",
        "unalista = ['Mucha','luz','es','como','mucha','sombra','no','deja','ver','Octavio','Paz']\n",
        "unalista"
      ],
      "metadata": {
        "id": "ypBBtNuRC0R3",
        "outputId": "301a1522-8de8-4e02-9534-0d26c0bd5e80",
        "colab": {
          "base_uri": "https://localhost:8080/"
        }
      },
      "execution_count": null,
      "outputs": [
        {
          "output_type": "execute_result",
          "data": {
            "text/plain": [
              "['Mucha',\n",
              " 'luz',\n",
              " 'es',\n",
              " 'como',\n",
              " 'mucha',\n",
              " 'sombra',\n",
              " 'no',\n",
              " 'deja',\n",
              " 'ver',\n",
              " 'Octavio',\n",
              " 'Paz']"
            ]
          },
          "metadata": {},
          "execution_count": 34
        }
      ]
    },
    {
      "cell_type": "code",
      "source": [
        "u = ' '.join(unalista)   # Y podemos conjuntar ahora los elementos de la lista de strings separándolos con un espacio en blanco,\n",
        "                         # para obtener un solo string.\n",
        "\n",
        "u    # string"
      ],
      "metadata": {
        "id": "SZ0jC9IOEmlD",
        "outputId": "8138a5f9-16a8-47aa-83ad-f2913af4ddf1",
        "colab": {
          "base_uri": "https://localhost:8080/",
          "height": 36
        }
      },
      "execution_count": null,
      "outputs": [
        {
          "output_type": "execute_result",
          "data": {
            "text/plain": [
              "'Mucha luz es como mucha sombra no deja ver Octavio Paz'"
            ],
            "application/vnd.google.colaboratory.intrinsic+json": {
              "type": "string"
            }
          },
          "metadata": {},
          "execution_count": 35
        }
      ]
    },
    {
      "cell_type": "code",
      "source": [
        "#PRUEBA 4\n",
        "\n",
        "txt2 = \"UPIICSA\"\n",
        "\n",
        "'|'.join(txt2)"
      ],
      "metadata": {
        "colab": {
          "base_uri": "https://localhost:8080/",
          "height": 35
        },
        "id": "1s1VHNYQxjAO",
        "outputId": "5a626a6b-61a0-44bf-8d1d-03e543d8f98f"
      },
      "execution_count": 58,
      "outputs": [
        {
          "output_type": "execute_result",
          "data": {
            "text/plain": [
              "'U|P|I|I|C|S|A'"
            ],
            "application/vnd.google.colaboratory.intrinsic+json": {
              "type": "string"
            }
          },
          "metadata": {},
          "execution_count": 58
        }
      ]
    },
    {
      "cell_type": "code",
      "source": [
        "mi_list = ['Hola','yo','soy','Ivan']\n",
        "mi_list"
      ],
      "metadata": {
        "colab": {
          "base_uri": "https://localhost:8080/"
        },
        "id": "qGqZbKQGx08A",
        "outputId": "290edbf7-ea4b-47d6-884d-bf93df3ca3d3"
      },
      "execution_count": 61,
      "outputs": [
        {
          "output_type": "execute_result",
          "data": {
            "text/plain": [
              "['Hola', 'yo', 'soy', 'Ivan']"
            ]
          },
          "metadata": {},
          "execution_count": 61
        }
      ]
    },
    {
      "cell_type": "code",
      "source": [
        "z = ' '.join(mi_list)\n",
        "z"
      ],
      "metadata": {
        "colab": {
          "base_uri": "https://localhost:8080/",
          "height": 35
        },
        "id": "l-y6roNYyD4a",
        "outputId": "579fb086-90c1-4ab5-88fd-20fef3b6d29c"
      },
      "execution_count": 62,
      "outputs": [
        {
          "output_type": "execute_result",
          "data": {
            "text/plain": [
              "'Hola yo soy Ivan'"
            ],
            "application/vnd.google.colaboratory.intrinsic+json": {
              "type": "string"
            }
          },
          "metadata": {},
          "execution_count": 62
        }
      ]
    },
    {
      "cell_type": "markdown",
      "source": [
        "##**find() y findall()**\n",
        "\n",
        "Estos métodos encuentran un patrón o patrones de caracteres indicados.\n",
        "\n",
        "https://pandas.pydata.org/docs/reference/api/pandas.Series.str.find.html\n",
        "\n",
        "https://pandas.pydata.org/docs/reference/api/pandas.Series.str.findall.html"
      ],
      "metadata": {
        "id": "Lru7zVMhVrvI"
      }
    },
    {
      "cell_type": "markdown",
      "source": [
        "###**También podemos usar el método find() en un String.**\n",
        "\n",
        "Veamos algún par de ejemplos, con la siguiente frase de Octavio Paz:"
      ],
      "metadata": {
        "id": "e0G4Nfabxwgl"
      }
    },
    {
      "cell_type": "code",
      "source": [
        "op = 'Mucha luz es como mucha sombra, no deja ver.'"
      ],
      "metadata": {
        "id": "sA9esJWFx9yz"
      },
      "execution_count": null,
      "outputs": []
    },
    {
      "cell_type": "code",
      "source": [
        "op.find('mucha')    # Recuerda que mayúsculas y minúsculas son caracteres diferentes."
      ],
      "metadata": {
        "id": "sW4GowZnzwvC",
        "outputId": "badae9fe-5ca1-4c37-cbb8-48edc017bb05",
        "colab": {
          "base_uri": "https://localhost:8080/"
        }
      },
      "execution_count": null,
      "outputs": [
        {
          "output_type": "execute_result",
          "data": {
            "text/plain": [
              "18"
            ]
          },
          "metadata": {},
          "execution_count": 37
        }
      ]
    },
    {
      "cell_type": "code",
      "source": [
        "op.lower().find('mucha')"
      ],
      "metadata": {
        "id": "fWMVQ4u1y2eW",
        "outputId": "0c85cab8-96b5-4d58-950e-ec4b217a7c76",
        "colab": {
          "base_uri": "https://localhost:8080/"
        }
      },
      "execution_count": null,
      "outputs": [
        {
          "output_type": "execute_result",
          "data": {
            "text/plain": [
              "0"
            ]
          },
          "metadata": {},
          "execution_count": 38
        }
      ]
    },
    {
      "cell_type": "code",
      "source": [
        "op.lower().find('mucha', 1)   # Si deseamos encontrar la segunda coincidencia de \"mucha\", en este caso\n",
        "                              # debemos realizar la búsqueda a partir del índice 1 y no del 0."
      ],
      "metadata": {
        "id": "Bod4pdVp0J1z",
        "outputId": "dea5c0c0-c8f5-4d04-b996-d095de316140",
        "colab": {
          "base_uri": "https://localhost:8080/"
        }
      },
      "execution_count": null,
      "outputs": [
        {
          "output_type": "execute_result",
          "data": {
            "text/plain": [
              "18"
            ]
          },
          "metadata": {},
          "execution_count": 39
        }
      ]
    },
    {
      "cell_type": "code",
      "source": [
        "op.lower().rfind('mucha')     # O bien, podemos realizar la búsqueda en orden inverso: \"reverse find\"."
      ],
      "metadata": {
        "id": "v9RVhZGJzPKf",
        "outputId": "8f76b5c1-1cd1-4022-d88d-94949763fa67",
        "colab": {
          "base_uri": "https://localhost:8080/"
        }
      },
      "execution_count": null,
      "outputs": [
        {
          "output_type": "execute_result",
          "data": {
            "text/plain": [
              "18"
            ]
          },
          "metadata": {},
          "execution_count": 40
        }
      ]
    },
    {
      "cell_type": "code",
      "source": [
        "#PRUEBA 5\n",
        "\n",
        "op2 = \"La vida, la vida, que es la vida?\\nEn tratar de entenderla, se nos va la propia vida\"\n",
        "\n",
        "op2.find('vida')"
      ],
      "metadata": {
        "colab": {
          "base_uri": "https://localhost:8080/"
        },
        "id": "rvaRURgPyPus",
        "outputId": "bf4a87c8-a9c3-4fb4-9ab9-72c3159ab050"
      },
      "execution_count": 71,
      "outputs": [
        {
          "output_type": "execute_result",
          "data": {
            "text/plain": [
              "3"
            ]
          },
          "metadata": {},
          "execution_count": 71
        }
      ]
    },
    {
      "cell_type": "code",
      "source": [
        "op2.lower().find('vida', 7)"
      ],
      "metadata": {
        "colab": {
          "base_uri": "https://localhost:8080/"
        },
        "id": "62brefeqy1Zn",
        "outputId": "2ec5ef58-c51a-4bac-8be0-09edb31135ad"
      },
      "execution_count": 76,
      "outputs": [
        {
          "output_type": "execute_result",
          "data": {
            "text/plain": [
              "12"
            ]
          },
          "metadata": {},
          "execution_count": 76
        }
      ]
    },
    {
      "cell_type": "code",
      "source": [
        "op2.lower().rfind('vida')"
      ],
      "metadata": {
        "colab": {
          "base_uri": "https://localhost:8080/"
        },
        "id": "oErYJpcBzJo1",
        "outputId": "f70d980a-4af2-427d-efec-9646884b3a7f"
      },
      "execution_count": 78,
      "outputs": [
        {
          "output_type": "execute_result",
          "data": {
            "text/plain": [
              "79"
            ]
          },
          "metadata": {},
          "execution_count": 78
        }
      ]
    },
    {
      "cell_type": "markdown",
      "source": [
        "##**Podemos separar una oración con respecto a sus palabras, caracteres especiales y signos de puntuación.**\n",
        "\n",
        "### Por ejemplo:"
      ],
      "metadata": {
        "id": "xgNZ2YWyhpVz"
      }
    },
    {
      "cell_type": "code",
      "source": [
        "import re"
      ],
      "metadata": {
        "id": "OhwA8acrjH9o"
      },
      "execution_count": null,
      "outputs": []
    },
    {
      "cell_type": "code",
      "source": [
        "X = \"-¿Qué eres? -Definirse es limitarse.\""
      ],
      "metadata": {
        "id": "GGYpIB6ihqdC"
      },
      "execution_count": null,
      "outputs": []
    },
    {
      "cell_type": "code",
      "source": [
        "x = re.split(r' ', X)  # Separa con respecto a los espacios en blanco.\n",
        "x"
      ],
      "metadata": {
        "id": "7qGHUIx0hrtI",
        "outputId": "144cc92e-e7a5-41e6-945d-ab25dcd10784",
        "colab": {
          "base_uri": "https://localhost:8080/"
        }
      },
      "execution_count": null,
      "outputs": [
        {
          "output_type": "execute_result",
          "data": {
            "text/plain": [
              "['-¿Qué', 'eres?', '-Definirse', 'es', 'limitarse.']"
            ]
          },
          "metadata": {},
          "execution_count": 43
        }
      ]
    },
    {
      "cell_type": "code",
      "source": [
        "# O bien, si tenemos una frase en dos renglones:\n",
        "X = \"\"\"-¿Qué eres?\n",
        "-Definirse es limitarse. Lao-Tse\"\"\""
      ],
      "metadata": {
        "id": "jY92eEWFhrpg"
      },
      "execution_count": null,
      "outputs": []
    },
    {
      "cell_type": "code",
      "source": [
        "x1 = re.split(r' ', X)  # Separa con respecto a los espacios en blanco.\n",
        "x2 = re.split(r'[\\n]', X)  # salto de línea.\n",
        "x3 = re.split(r'[ \\n]', X)  # espacios en blanco o salto de línea.\n",
        "x4 = re.split(r'[-]', X)  # por el caracter \"-\" ... agrega un caracter vacío...\n",
        "x5 = re.split(r'[ \\n-]', X)\n",
        "x6 = re.split(r'\\W+', X)   # separamos con respecto a todo lo que no sea palabra: espacios en blanco, \"-\", signos de interrogación, el punto y seguido, en este caso.\n",
        "\n",
        "x7 = re.findall(r'\\w+', X)  # ... ahora sí, haciendo la búsqueda con respecto a las palabras :)\n",
        "\n",
        "print('1:',x1)\n",
        "print('2 ',x2)\n",
        "print('3 ',x3)\n",
        "print('4 ',x4)\n",
        "print('5 ',x5)\n",
        "print('6 ',x6)\n",
        "print('7 ',x7)"
      ],
      "metadata": {
        "id": "Qr0VPDjvh4c-",
        "outputId": "cebfa5f4-d542-4766-fb9e-30050d7fbea8",
        "colab": {
          "base_uri": "https://localhost:8080/"
        }
      },
      "execution_count": null,
      "outputs": [
        {
          "output_type": "stream",
          "name": "stdout",
          "text": [
            "1: ['-¿Qué', 'eres?\\n-Definirse', 'es', 'limitarse.', 'Lao-Tse']\n",
            "2  ['-¿Qué eres?', '-Definirse es limitarse. Lao-Tse']\n",
            "3  ['-¿Qué', 'eres?', '-Definirse', 'es', 'limitarse.', 'Lao-Tse']\n",
            "4  ['', '¿Qué eres?\\n', 'Definirse es limitarse. Lao', 'Tse']\n",
            "5  ['', '¿Qué', 'eres?', '', 'Definirse', 'es', 'limitarse.', 'Lao', 'Tse']\n",
            "6  ['', 'Qué', 'eres', 'Definirse', 'es', 'limitarse', 'Lao', 'Tse']\n",
            "7  ['Qué', 'eres', 'Definirse', 'es', 'limitarse', 'Lao', 'Tse']\n"
          ]
        }
      ]
    },
    {
      "cell_type": "markdown",
      "source": [
        "### Veamos un ejemplo estándar para el caso del idioma inglés:"
      ],
      "metadata": {
        "id": "WbDTDpTfiD7K"
      }
    },
    {
      "cell_type": "code",
      "source": [
        "Y = \"To say 'I don't have time', is like saying, 'I don't want to'. -Lao-Tzu\""
      ],
      "metadata": {
        "id": "bo63NR8vh4Y_"
      },
      "execution_count": null,
      "outputs": []
    },
    {
      "cell_type": "code",
      "source": [
        "y1 = re.findall(r\"\\w+\", Y)  # Se tiene el inconveniente de que \"don't\" quedó separado, lo mismo que el nombre de Lao-Tzu.\n",
        "y2 = re.findall(r\"\\w+|\\S\\w*\", Y)  # primero busca palabras, de lo contrario todo lo que no sea espacio en blanco, seguido tal vez de palabras.\n",
        "y3 = re.findall(r\"\\w+(?:['-]\\w+)*\", Y) # Si no agregamos \"?:\" no se obtiene lo deseado, ya que los paréntesis () tienen como segunda función\n",
        "                                       # buscar lo que está dentro, haciendo match con lo de afuera y una vez localizado solo extrae lo de adentro.\n",
        "                                       # Así, esta última instrucción es la que extrae como tokens las negaciones con sus contracciones\n",
        "                                       # y el nombre de Lao-Tzu, como una sola entidad.... Quita \"?:\" y observa lo que queda.\n",
        "\n",
        "print(y1)\n",
        "print(y2)\n",
        "print(y3)"
      ],
      "metadata": {
        "id": "XiVPnMQ6iKoL",
        "outputId": "4f30e890-247a-41fc-f873-cb4b47d738a7",
        "colab": {
          "base_uri": "https://localhost:8080/"
        }
      },
      "execution_count": null,
      "outputs": [
        {
          "output_type": "stream",
          "name": "stdout",
          "text": [
            "['To', 'say', 'I', 'don', 't', 'have', 'time', 'is', 'like', 'saying', 'I', 'don', 't', 'want', 'to', 'Lao', 'Tzu']\n",
            "['To', 'say', \"'I\", 'don', \"'t\", 'have', 'time', \"'\", ',', 'is', 'like', 'saying', ',', \"'I\", 'don', \"'t\", 'want', 'to', \"'\", '.', '-Lao', '-Tzu']\n",
            "['To', 'say', 'I', \"don't\", 'have', 'time', 'is', 'like', 'saying', 'I', \"don't\", 'want', 'to', 'Lao-Tzu']\n"
          ]
        }
      ]
    },
    {
      "cell_type": "markdown",
      "source": [
        "###**La combinación ?: con paréntesis redondos y findall**"
      ],
      "metadata": {
        "id": "WUJxzhoIiWGc"
      }
    },
    {
      "cell_type": "code",
      "source": [
        "re.findall(r\"\\w+(ing|ed)\", \"cat playing red\")   # El paréntesis introduce prioridad y por lo tanto inicia buscando lo que haga match\n",
        "                                         # con \"ing\" o con \"ed\", además de con lo que está afuera y una vez que lo encuentra,\n",
        "                                         # se termina y da como salida solo lo que encontró dentro del paréntesis.\n",
        "                                         # Si nada hace match dentro del paréntesis, regresa vacío."
      ],
      "metadata": {
        "id": "Z_yN8QWJia9Y",
        "outputId": "a4db4cbb-a2d2-4478-c2ce-4c63962e5727",
        "colab": {
          "base_uri": "https://localhost:8080/"
        }
      },
      "execution_count": null,
      "outputs": [
        {
          "output_type": "execute_result",
          "data": {
            "text/plain": [
              "['ing', 'ed']"
            ]
          },
          "metadata": {},
          "execution_count": 48
        }
      ]
    },
    {
      "cell_type": "code",
      "source": [
        "re.findall(r\"\\w+(?:ing|ed)\", \"cat playing red\") # La combinación \"?:\" cancela la instrucción de que una vez encontrado el match (en dado caso)\n",
        "                                                # dentro y fuera del paréntesis, regrese solo lo que está dentro, sino que regrese todo\n",
        "                                                # lo que hizo match."
      ],
      "metadata": {
        "id": "0zCIws2Qia1m",
        "outputId": "25053f75-fc01-42c8-dfe5-6def5a4ea860",
        "colab": {
          "base_uri": "https://localhost:8080/"
        }
      },
      "execution_count": null,
      "outputs": [
        {
          "output_type": "execute_result",
          "data": {
            "text/plain": [
              "['playing', 'red']"
            ]
          },
          "metadata": {},
          "execution_count": 49
        }
      ]
    },
    {
      "cell_type": "code",
      "source": [
        "#PRUEBA FINAL\n",
        "\n",
        "import re\n",
        "\n",
        "texto = \"\"\"\n",
        "Gracias por tu compra. El número de parte del producto solicitado es ptX4zK8001.\n",
        "Recuerda que también puedes revisar otros productos como ptABCDE123 o pt77777001,\n",
        "aunque este último ya está descontinuado.\n",
        "\"\"\"\n",
        "patron = re.compile(r\"\\bpt.{5}001\\b\")\n",
        "\n",
        "# Buscamos todas las coincidencias\n",
        "coincidencias = patron.findall(texto)\n",
        "\n",
        "print(\"Coincidencias válidas:\", coincidencias)"
      ],
      "metadata": {
        "colab": {
          "base_uri": "https://localhost:8080/"
        },
        "id": "EHNGWifp8pOM",
        "outputId": "43e5fc9a-b527-4629-b1c4-3973344b7799"
      },
      "execution_count": 79,
      "outputs": [
        {
          "output_type": "stream",
          "name": "stdout",
          "text": [
            "Coincidencias válidas: ['ptX4zK8001', 'pt77777001']\n"
          ]
        }
      ]
    },
    {
      "cell_type": "markdown",
      "source": [
        "Recuerda que no existe una única manera de resolver los ejemplos anteriores y tú puedes proponer algunas otras formas."
      ],
      "metadata": {
        "id": "6EXU4ZNiZZUP"
      }
    },
    {
      "cell_type": "markdown",
      "source": [
        "###**Fin del los ejercicios complementarios para practicar de la Semana 2**"
      ],
      "metadata": {
        "id": "ymmsttwf4ky3"
      }
    }
  ]
}